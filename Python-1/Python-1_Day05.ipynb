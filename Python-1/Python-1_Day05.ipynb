{
 "cells": [
  {
   "cell_type": "markdown",
   "metadata": {},
   "source": [
    "# P43 042：算术运算1"
   ]
  },
  {
   "cell_type": "code",
   "execution_count": null,
   "metadata": {},
   "outputs": [],
   "source": [
    "# type是class类型的统称，包含如type、int"
   ]
  },
  {
   "cell_type": "code",
   "execution_count": 2,
   "metadata": {},
   "outputs": [
    {
     "name": "stdout",
     "output_type": "stream",
     "text": [
      "<class 'type'> <class 'type'>\n",
      "<class 'int'> <class 'type'>\n"
     ]
    }
   ],
   "source": [
    "class A:\n",
    "    pass\n",
    "print(type(A), type(type))\n",
    "print(type(1), type(int))"
   ]
  },
  {
   "cell_type": "markdown",
   "metadata": {},
   "source": [
    "# P44 043：算术运算2"
   ]
  },
  {
   "cell_type": "code",
   "execution_count": null,
   "metadata": {},
   "outputs": [],
   "source": [
    "# 重写int运算符的运算方法"
   ]
  },
  {
   "cell_type": "code",
   "execution_count": 4,
   "metadata": {},
   "outputs": [
    {
     "name": "stdout",
     "output_type": "stream",
     "text": [
      "4 2\n"
     ]
    }
   ],
   "source": [
    "class NewInt(int):\n",
    "    def __radd__(self, other):\n",
    "        return int.__sub__(self, other)\n",
    "a = NewInt(3)\n",
    "print(a + 1 ,1 + a)  \n",
    "# 1+a：1是int型，int中没有int和NewInt相加的__add__方法，故调用a的__radd__方法\n",
    "# 注意1+a 是3-1=2 而不是1-3"
   ]
  },
  {
   "cell_type": "markdown",
   "metadata": {},
   "source": [
    "# P45 044：计时器、__str__、__repr__、localtime"
   ]
  },
  {
   "cell_type": "code",
   "execution_count": null,
   "metadata": {},
   "outputs": [],
   "source": [
    "# 计时器：datetime和time的不同\n",
    "# __str__和__repr__"
   ]
  },
  {
   "cell_type": "code",
   "execution_count": null,
   "metadata": {},
   "outputs": [],
   "source": [
    "# _str__是面向用户的，而__repr__面向程序员，可以理解为：__str__是给用户使用的，而__repr__是提供给程序员用于调试程序用的。\n",
    "# __str__和__repr__这两个方法都是用于显示的。\n",
    "# 当输出一个类的实例的时候，如果__str__和__repr__这两个方法都没有重写，会输出实例的地址；如果重写了，则会输出方法的返回值。\n",
    "# 如果两个方法都重写了，则优先且只调用__str__这一个方法；如果只重写一个方法，则会调用该方法。\n",
    "# __str__ 的返回结果可读性强；__repr__ 的返回结果应更准确。"
   ]
  },
  {
   "cell_type": "code",
   "execution_count": 6,
   "metadata": {},
   "outputs": [
    {
     "data": {
      "text/plain": [
       "(__repr__HI, datetime.datetime(2019, 10, 29, 10, 6, 33, 215724))"
      ]
     },
     "execution_count": 6,
     "metadata": {},
     "output_type": "execute_result"
    }
   ],
   "source": [
    "from datetime import datetime\n",
    "\n",
    "class A:\n",
    "    \n",
    "    def __init__(self, name):\n",
    "        self.name = name\n",
    "    \n",
    "    def __str__(self):\n",
    "        return f\"__str__{self.name}\"\n",
    "    \n",
    "    def __repr__(self):\n",
    "        return f\"__repr__{self.name}\"\n",
    "\n",
    "a = A(\"HI\")\n",
    "dt = datetime.now()\n",
    "a, dt"
   ]
  },
  {
   "cell_type": "code",
   "execution_count": 7,
   "metadata": {},
   "outputs": [
    {
     "name": "stdout",
     "output_type": "stream",
     "text": [
      "__str__HI 2019-10-29 10:06:33.215724\n"
     ]
    }
   ],
   "source": [
    "print(a, dt)"
   ]
  },
  {
   "cell_type": "code",
   "execution_count": 10,
   "metadata": {},
   "outputs": [
    {
     "data": {
      "text/plain": [
       "'__str__HI 2019-10-29 10:06:33.215724'"
      ]
     },
     "execution_count": 10,
     "metadata": {},
     "output_type": "execute_result"
    }
   ],
   "source": [
    "\"{} {}\".format(a, dt)"
   ]
  },
  {
   "cell_type": "code",
   "execution_count": 20,
   "metadata": {},
   "outputs": [],
   "source": [
    "# 自制计时器\n",
    "from datetime import datetime\n",
    "\n",
    "class Timer:\n",
    "    def __init__(self):\n",
    "        self.status = \"Stop\"\n",
    "        self.t1 = 0\n",
    "        self.t2 = 0\n",
    "    def start(self):\n",
    "        if self.status == \"Start\":\n",
    "            print(\"计时器已启动！\")\n",
    "        else:\n",
    "            self.status = \"Start\"\n",
    "            self.t1 = datetime.now()\n",
    "    def stop(self):\n",
    "        if self.status == \"Stop\":\n",
    "            print(\"计时器已停止！\")\n",
    "        else:\n",
    "            self.status = \"Stop\"\n",
    "            self.t2 = datetime.now()\n",
    "    def __add__(self, other):\n",
    "        if self.status == \"Start\":\n",
    "            self.t2 = datetime.now()\n",
    "        if other.status == \"Start\":\n",
    "            other.t2 = datetime.now()\n",
    "        return self.t2 - self.t1 + other.t2 - other.t1\n",
    "    def __str__(self):  # 当实例化需要作为字符串输出时，调用\n",
    "        if self.status == \"Start\":\n",
    "            self.t2 = datetime.now()\n",
    "        return str(self.t2 - self.t1)\n",
    "    __repr__ = __str__  # 当直接输入实例化时，调用\n",
    "\n",
    "timer1 = Timer()\n",
    "timer2 = Timer()"
   ]
  },
  {
   "cell_type": "code",
   "execution_count": 21,
   "metadata": {},
   "outputs": [],
   "source": [
    "timer1.start()"
   ]
  },
  {
   "cell_type": "code",
   "execution_count": 22,
   "metadata": {},
   "outputs": [
    {
     "data": {
      "text/plain": [
       "0:00:03.492867"
      ]
     },
     "execution_count": 22,
     "metadata": {},
     "output_type": "execute_result"
    }
   ],
   "source": [
    "timer1.stop()\n",
    "timer1"
   ]
  },
  {
   "cell_type": "code",
   "execution_count": 23,
   "metadata": {},
   "outputs": [],
   "source": [
    "timer2.start()"
   ]
  },
  {
   "cell_type": "code",
   "execution_count": 24,
   "metadata": {},
   "outputs": [
    {
     "name": "stdout",
     "output_type": "stream",
     "text": [
      "0:00:02.226649\n",
      "0:00:05.719516\n"
     ]
    }
   ],
   "source": [
    "timer2.stop()\n",
    "print(timer2)\n",
    "print(timer1 + timer2)"
   ]
  },
  {
   "cell_type": "code",
   "execution_count": 56,
   "metadata": {},
   "outputs": [],
   "source": [
    "# 参考答案\n",
    "import time\n",
    "\n",
    "class MyTimer():\n",
    "    def start(self):\n",
    "        self.start = time.localtime()\n",
    "    def stop(self):\n",
    "        self.stop = time.localtime()\n",
    "        self._calc()  \n",
    "    # 私有方法，外部无法调用\n",
    "    def _calc(self):\n",
    "        self._unit = [\"年\",\"月\",\"日\",\"时\",\"分\",\"秒\"]\n",
    "        self._lasted = []\n",
    "        self._prompt = \"运行时长：\"\n",
    "        for i in range(6):\n",
    "            self._lasted.append(self.stop[i] - self.start[i])\n",
    "            if self._lasted[i]:  # 不等于0\n",
    "                self._prompt += (str(self._lasted[i]) + self._unit[i])\n",
    "        print(self._prompt)"
   ]
  },
  {
   "cell_type": "code",
   "execution_count": 57,
   "metadata": {},
   "outputs": [],
   "source": [
    "t1 = MyTimer()\n",
    "t1.start()"
   ]
  },
  {
   "cell_type": "code",
   "execution_count": 58,
   "metadata": {},
   "outputs": [
    {
     "name": "stdout",
     "output_type": "stream",
     "text": [
      "运行时长：1分-35秒\n"
     ]
    }
   ],
   "source": [
    "t1.stop()"
   ]
  },
  {
   "cell_type": "markdown",
   "metadata": {},
   "source": [
    "# P46 045：属性访问"
   ]
  },
  {
   "cell_type": "code",
   "execution_count": 59,
   "metadata": {},
   "outputs": [],
   "source": [
    "# __getattr__(self, name)  # 访问不存在属性时调用\n",
    "# __getattribute__(self, name)  # 类的属性被访问时调用\n",
    "# __setattr__(self, name)  # 类的属性被赋值时调用\n",
    "# __delattr__(self, name)  # 类的属性被删除时调用\n",
    "# 先调用__getattribute__，如果属性不存在，继续调用__getattr__"
   ]
  },
  {
   "cell_type": "code",
   "execution_count": 75,
   "metadata": {},
   "outputs": [],
   "source": [
    "class Rectangle:\n",
    "    def __init__(self, width=0, length=0):\n",
    "        self.width = width\n",
    "        self.length = length\n",
    "    def __setattr__(self, name, value):\n",
    "        if name == \"square\":\n",
    "            self.width = value\n",
    "            self.length = value\n",
    "        else:\n",
    "            # self.name = value  # 触发：无限递归循环\n",
    "            super().__setattr__(name, value)  # 调用基类的方法，推荐！\n",
    "            # self.__dict__[name] = value\n",
    "    def getArea(self):\n",
    "        return self.width * self.length"
   ]
  },
  {
   "cell_type": "code",
   "execution_count": 76,
   "metadata": {},
   "outputs": [
    {
     "data": {
      "text/plain": [
       "20"
      ]
     },
     "execution_count": 76,
     "metadata": {},
     "output_type": "execute_result"
    }
   ],
   "source": [
    "re1 = Rectangle(4,5)\n",
    "re1.getArea()"
   ]
  },
  {
   "cell_type": "code",
   "execution_count": 77,
   "metadata": {},
   "outputs": [
    {
     "data": {
      "text/plain": [
       "81"
      ]
     },
     "execution_count": 77,
     "metadata": {},
     "output_type": "execute_result"
    }
   ],
   "source": [
    "re1.square = 9\n",
    "re1.getArea()"
   ]
  },
  {
   "cell_type": "code",
   "execution_count": 74,
   "metadata": {},
   "outputs": [
    {
     "data": {
      "text/plain": [
       "{'width': 9, 'length': 9}"
      ]
     },
     "execution_count": 74,
     "metadata": {},
     "output_type": "execute_result"
    }
   ],
   "source": [
    "re1.__dict__  # 返回re1.的属性字典"
   ]
  },
  {
   "cell_type": "markdown",
   "metadata": {},
   "source": [
    "# ！P47 046：描述符、温度计"
   ]
  },
  {
   "cell_type": "code",
   "execution_count": null,
   "metadata": {},
   "outputs": [],
   "source": [
    "# ！！！__set__和__setattr__的关系：\n",
    "# __get__优先级大于__getattr__，而__setattr__大于__set__, __delattr__大于__delete__\n",
    "# __setattr__是针对类的直属、特有属性的操作处理；\n",
    "# 1.__set__是针对各种属性的封装，封装完成后，可以被各个类引用为自己的属性\n",
    "# 2.如果一个类需要多种属性，彼此分开处理，也需要使用__set__方法"
   ]
  },
  {
   "cell_type": "code",
   "execution_count": 88,
   "metadata": {},
   "outputs": [],
   "source": [
    "class MyProperty:  # 和原Property没什么不同\n",
    "    def __init__(self, fget=None, fset=None, fdel=None):\n",
    "        self.fget = fget\n",
    "        self.fset = fset\n",
    "        self.fdel = fdel      \n",
    "    def __get__(self, instance, owner):  # instance：实例化后的c；owner：类本身——C\n",
    "        return self.fget(instance)\n",
    "    def __set__(self, instance, value):\n",
    "        self.fset(instance, value)\n",
    "    def _delete_(self, instance):\n",
    "        self.fdel(instance)\n",
    "\n",
    "class C:\n",
    "    def __init__(self):\n",
    "        self._x = \"\"\n",
    "    def getX(self):\n",
    "        return self._x\n",
    "    def setX(self, value):\n",
    "        self._x = value\n",
    "    def delX(self):\n",
    "        del self._x\n",
    "    x = MyProperty(getX, setX, delX)  # 和原Property没什么不同"
   ]
  },
  {
   "cell_type": "code",
   "execution_count": 89,
   "metadata": {},
   "outputs": [
    {
     "data": {
      "text/plain": [
       "'Hello'"
      ]
     },
     "execution_count": 89,
     "metadata": {},
     "output_type": "execute_result"
    }
   ],
   "source": [
    "c = C()\n",
    "c.x = \"Hello\"\n",
    "c.x"
   ]
  },
  {
   "cell_type": "code",
   "execution_count": 96,
   "metadata": {},
   "outputs": [],
   "source": [
    "class Celsius:  # 基础\n",
    "    def __init__(self, value=26):\n",
    "        self.value = float(value)\n",
    "    def __get__(self, instance, owner):\n",
    "        return self.value\n",
    "    def __set__(self, instance, value):\n",
    "        self.value = float(value)\n",
    "      \n",
    "class Fahrenheit:  # 辅助，不要用__init__，会形成递归循环\n",
    "    def __get__(self, instance, owner):  # instance是实例化后的temp，owner是类本身——Temperature\n",
    "        return instance.cel * 1.8 + 32\n",
    "    def __set__(self, instance, value):\n",
    "        instance.cel = (float(value) - 32) / 1.8\n",
    "\n",
    "class Temperature:  # Temperature类有两套属性，可以对这两套属性分别操作，并能相互调用！\n",
    "    cel = Celsius()  # 不需要参数，因为__get__、__set__中不需要调用\n",
    "    fah = Fahrenheit()"
   ]
  },
  {
   "cell_type": "code",
   "execution_count": 97,
   "metadata": {},
   "outputs": [
    {
     "name": "stdout",
     "output_type": "stream",
     "text": [
      "26.0 78.80000000000001\n",
      "44.0 111.2\n",
      "31.11111111111111 88.0\n"
     ]
    }
   ],
   "source": [
    "tem = Temperature()  # 对应instance\n",
    "print(tem.cel, tem.fah)\n",
    "tem.cel = 44\n",
    "print(tem.cel, tem.fah)\n",
    "tem.fah = 88\n",
    "print(tem.cel, tem.fah)"
   ]
  },
  {
   "cell_type": "markdown",
   "metadata": {},
   "source": [
    "# P48 047：定制序列"
   ]
  },
  {
   "cell_type": "code",
   "execution_count": null,
   "metadata": {},
   "outputs": [],
   "source": [
    "# 定制序列：可变序列和不可变序列"
   ]
  },
  {
   "cell_type": "code",
   "execution_count": 113,
   "metadata": {},
   "outputs": [],
   "source": [
    "# 对于不可变的序列（类似tuple），需要重新设定__len__和__getitem__\n",
    "# 对于可变序列，还需要另外设定__setitem__和__delitem__\n",
    "class CountList:\n",
    "    def __init__(self, *args):\n",
    "        self.values = [x for x in args]  # 数组推导式\n",
    "        self.count = {}.fromkeys(range(len(self.values)),0)  # 生成字典\n",
    "    def __len__(self):\n",
    "        return len(self.values)\n",
    "    def __getitem__(self, key):\n",
    "        self.count[key] += 1\n",
    "        return self.values[key]"
   ]
  },
  {
   "cell_type": "code",
   "execution_count": 118,
   "metadata": {},
   "outputs": [
    {
     "name": "stdout",
     "output_type": "stream",
     "text": [
      "88 123\n",
      "88\n",
      "3\n",
      "35\n",
      "-4\n",
      "91\n"
     ]
    },
    {
     "data": {
      "text/plain": [
       "{0: 2, 1: 0, 2: 1, 3: 0, 4: 0}"
      ]
     },
     "execution_count": 118,
     "metadata": {},
     "output_type": "execute_result"
    }
   ],
   "source": [
    "c1 = CountList(88, 3, 35, -4, 91)\n",
    "sum = c1[0] + c1[2]\n",
    "print(c1[0], sum)\n",
    "for i in c1.values:  # 直接访问values，并不会计算在内\n",
    "    print(i)\n",
    "# for i in range(5):\n",
    "#     print(c1[i])\n",
    "c1.count"
   ]
  },
  {
   "cell_type": "markdown",
   "metadata": {},
   "source": [
    "# P49 048：迭代器、__iter__、__next__"
   ]
  },
  {
   "cell_type": "code",
   "execution_count": null,
   "metadata": {},
   "outputs": [],
   "source": [
    "# __iter__和__next__：\n",
    "# 1.通过在类中添加 __iter__函数，向系统说明这是一个可迭代对象。\n",
    "# 2.通过在类中添加 __next__函数，向系统提供该可迭代对象的迭代算法。\n",
    "# 3.在代码执行过程中，for循环函数会自动检查系统信息，识别__iter__函数，然后自动调用对应的__next__函数，生成一个迭代器。\n",
    "# 4.所以在定义一个可迭代类时，一般__iter__函数要与__next__函数成对出现。__iter__函数向系统声明这个类可迭代，__next__定义了具体的迭代器。\n",
    "# 5.__iter__与__next__两个函数名不可改变，否则系统会不识别。\n",
    "# 6.__next__函数的return在if判别命令的内部，每次执行__next__函数时，单次判别后直接输出。不满足判别条件时输出迭代终止。"
   ]
  },
  {
   "cell_type": "code",
   "execution_count": 20,
   "metadata": {},
   "outputs": [],
   "source": [
    "class Fibs:\n",
    "    def __init__(self, max=100):\n",
    "        self.a, self.b = 0, 1\n",
    "        self.max = max\n",
    "    def __iter__(self):\n",
    "        return self\n",
    "    def __next__(self):  # 第一次就进入该方法，不会打印self.a的默认值\n",
    "        self.a, self.b = self.b, self.a + self.b\n",
    "        if self.a > self.max:\n",
    "            raise StopIteration()\n",
    "        return self.a"
   ]
  },
  {
   "cell_type": "code",
   "execution_count": 36,
   "metadata": {},
   "outputs": [
    {
     "name": "stdout",
     "output_type": "stream",
     "text": [
      "1 1 2 3 5 8 13 21 34 55 89 "
     ]
    }
   ],
   "source": [
    "for i in Fibs(89):\n",
    "    print(i, end=\" \")"
   ]
  },
  {
   "cell_type": "markdown",
   "metadata": {},
   "source": [
    "# ！P50 049：yield/生成器、推导式"
   ]
  },
  {
   "cell_type": "code",
   "execution_count": null,
   "metadata": {},
   "outputs": [],
   "source": [
    "# ！！！yield的使用场景和有点：\n",
    "# 数据、字典等序列的缺陷是所有数据都在内存中，如果有海量数据的话将会非常耗内存。\n",
    "# 生成器是可以迭代的，但只可以读取它一次。因为用的时候才生成。\n",
    "# ！！！推导式：数组推导式、字典推导式、生成器推导式"
   ]
  },
  {
   "cell_type": "code",
   "execution_count": 29,
   "metadata": {},
   "outputs": [],
   "source": [
    "def fibs(max = 100):\n",
    "    a, b = 0, 1\n",
    "    while a < max:\n",
    "        a, b = b, a + b\n",
    "        print(a, end=\" \")"
   ]
  },
  {
   "cell_type": "code",
   "execution_count": 30,
   "metadata": {},
   "outputs": [
    {
     "name": "stdout",
     "output_type": "stream",
     "text": [
      "1 1 2 3 5 8 13 21 34 55 89 144 "
     ]
    }
   ],
   "source": [
    "fibs()"
   ]
  },
  {
   "cell_type": "code",
   "execution_count": 1,
   "metadata": {},
   "outputs": [
    {
     "name": "stdout",
     "output_type": "stream",
     "text": [
      "1 在a的之后\n",
      "1 在a的之后\n",
      "2 在a的之后\n",
      "3 在a的之后\n",
      "5 在a的之后\n",
      "8 在a的之后\n",
      "13 在a的之后\n",
      "21 在a的之后\n",
      "34 在a的之后\n",
      "55 在a的之后\n",
      "89 在a的之后\n"
     ]
    }
   ],
   "source": [
    "def fibs():\n",
    "    a, b = 0, 1\n",
    "    while True:\n",
    "        a, b = b, a + b\n",
    "        yield a  # 每次执行到此，就回暂停，不会陷入无限循环\n",
    "        print(\"在a的之后\")  # 每次在yield处中断，next()之后从中断处继续执行\n",
    "\n",
    "for i in fibs():\n",
    "    if i < 100:\n",
    "        print(i, end=\" \")\n",
    "    else:\n",
    "        break"
   ]
  },
  {
   "cell_type": "code",
   "execution_count": 41,
   "metadata": {},
   "outputs": [
    {
     "name": "stdout",
     "output_type": "stream",
     "text": [
      "[0, 2, 4, 6, 8]\n",
      "{0: True, 1: False, 2: True, 3: False, 4: True, 5: False, 6: True, 7: False, 8: True, 9: False}\n",
      "{0, 2, 4, 6, 8}\n",
      "<generator object <genexpr> at 0x0000000005B981B0>\n"
     ]
    }
   ],
   "source": [
    "li1 = [i for i in range(10) if not (i%2)]  # 数组推导式\n",
    "print(li)\n",
    "dict1 = {i:i%2 == 0 for i in range(10)}  # 字典推导式\n",
    "print(dict)\n",
    "set1 = {i for i in range(10) if not (i%2)}  # 集合推导式\n",
    "print(set1)\n",
    "tuple1 = (i for i in range(10) if not (i%2))  # 生成器推导式，不是元组推导式\n",
    "print(tuple1)"
   ]
  },
  {
   "cell_type": "code",
   "execution_count": 42,
   "metadata": {},
   "outputs": [
    {
     "name": "stdout",
     "output_type": "stream",
     "text": [
      "0 2 4 6 8 "
     ]
    }
   ],
   "source": [
    "for i in tuple1:\n",
    "    print(i, end=\" \")"
   ]
  },
  {
   "cell_type": "code",
   "execution_count": 44,
   "metadata": {},
   "outputs": [
    {
     "name": "stdout",
     "output_type": "stream",
     "text": [
      "20 20\n"
     ]
    }
   ],
   "source": [
    "n1 = sum(i for i in range(10) if not (i%2))  # 更简洁\n",
    "n2 = sum((i for i in range(10) if not (i%2)))\n",
    "print(n1, n2)"
   ]
  },
  {
   "cell_type": "markdown",
   "metadata": {},
   "source": [
    "# 52 051：__name__、__init__.py"
   ]
  },
  {
   "cell_type": "code",
   "execution_count": 4,
   "metadata": {},
   "outputs": [],
   "source": [
    "# __name__ == \"__main__\"\n",
    "# sys.path.append"
   ]
  },
  {
   "cell_type": "code",
   "execution_count": null,
   "metadata": {},
   "outputs": [],
   "source": [
    "# package的文件夹下面必须有一个__init__.py的文件，文件可以为空\n",
    "# 也可以在__init__.py中指定要对外界提供的模块列表\n",
    "# from . import 模块1\n",
    "# from . import 模块2"
   ]
  },
  {
   "cell_type": "code",
   "execution_count": 2,
   "metadata": {},
   "outputs": [
    {
     "name": "stdout",
     "output_type": "stream",
     "text": [
      "这是测试\n"
     ]
    }
   ],
   "source": [
    "# 在导入文件时，文件中所有未缩进的代码都会被执行一遍，故需要屏蔽测试代码\n",
    "class C:\n",
    "    def test():\n",
    "        print(\"这是测试\")\n",
    "    if __name__ == \"__main__\":  # 只有测试时被调用，本模块被外部import时，不会被调用\n",
    "        test()"
   ]
  },
  {
   "cell_type": "code",
   "execution_count": 3,
   "metadata": {},
   "outputs": [
    {
     "name": "stdout",
     "output_type": "stream",
     "text": [
      "__main__\n",
      "C\n",
      "C\n"
     ]
    }
   ],
   "source": [
    "print(__name__)  # 如果直接执行文件，__name__输出是__main__\n",
    "print(C.__name__)  # 外部调用，输出的是模块/类的名称\n",
    "c1 = C\n",
    "print(c1.__name__)"
   ]
  },
  {
   "cell_type": "code",
   "execution_count": 2,
   "metadata": {},
   "outputs": [
    {
     "data": {
      "text/plain": [
       "['C:\\\\Users\\\\Administrator\\\\AAAPython3',\n",
       " 'C:\\\\Users\\\\Administrator\\\\Anaconda3\\\\python37.zip',\n",
       " 'C:\\\\Users\\\\Administrator\\\\Anaconda3\\\\DLLs',\n",
       " 'C:\\\\Users\\\\Administrator\\\\Anaconda3\\\\lib',\n",
       " 'C:\\\\Users\\\\Administrator\\\\Anaconda3',\n",
       " '',\n",
       " 'C:\\\\Users\\\\Administrator\\\\Anaconda3\\\\lib\\\\site-packages',\n",
       " 'C:\\\\Users\\\\Administrator\\\\Anaconda3\\\\lib\\\\site-packages\\\\win32',\n",
       " 'C:\\\\Users\\\\Administrator\\\\Anaconda3\\\\lib\\\\site-packages\\\\win32\\\\lib',\n",
       " 'C:\\\\Users\\\\Administrator\\\\Anaconda3\\\\lib\\\\site-packages\\\\Pythonwin',\n",
       " 'C:\\\\Users\\\\Administrator\\\\Anaconda3\\\\lib\\\\site-packages\\\\IPython\\\\extensions',\n",
       " 'C:\\\\Users\\\\Administrator\\\\.ipython',\n",
       " 'C:\\\\Users\\\\Administrator\\\\Anaconda3\\\\lib\\\\site-packages #最好存入这个路径']"
      ]
     },
     "execution_count": 2,
     "metadata": {},
     "output_type": "execute_result"
    }
   ],
   "source": [
    "import sys\n",
    "sys.path.append(\"C:\\\\Users\\\\Administrator\\\\Anaconda3\\\\lib\\\\site-packages #最好存入这个路径\")\n",
    "sys.path"
   ]
  },
  {
   "cell_type": "markdown",
   "metadata": {},
   "source": [
    "# 53 052：Python的思想、PEP、timeit"
   ]
  },
  {
   "cell_type": "code",
   "execution_count": 3,
   "metadata": {},
   "outputs": [],
   "source": [
    "# 用一种方法，最好是只有一种方法来做一件事！\n",
    "# PEP：Python Enhancement Proposals（Python增强建议书）.PEP 8定义了python代码的风格，PEP 0是PEP的列表\n",
    "# 参看帮助的几种方法：dir(timeit)、help(timeit)；timeit.__doc__、__all__、__file__"
   ]
  },
  {
   "cell_type": "code",
   "execution_count": 1,
   "metadata": {},
   "outputs": [],
   "source": [
    "import timeit  # 计时器\n",
    "# print(timeit.__doc__)  # print打印，会优化格式"
   ]
  },
  {
   "cell_type": "code",
   "execution_count": 12,
   "metadata": {},
   "outputs": [
    {
     "name": "stdout",
     "output_type": "stream",
     "text": [
      "['Timer', 'timeit', 'repeat', 'default_timer']\n",
      "C:\\Users\\Administrator\\Anaconda3\\lib\\timeit.py\n"
     ]
    }
   ],
   "source": [
    "# dir(timeit)  # dir()用来查询一个类或者对象所有属性，返回list\n",
    "# help(timeit)  # help()函数帮助我们了解模块、类型、对象、方法、属性的详细信息\n",
    "print(timeit.__all__)  # 本模块的开发者希望外部调用的类、属性\n",
    "# from timeit import *  # 默认只导入timeit.__all__中的类、方法和属性等，如果模块中不存在__all__，则导入所有\n",
    "print(timeit.__file__)  # 模块源码的路径"
   ]
  }
 ],
 "metadata": {
  "kernelspec": {
   "display_name": "Python 3",
   "language": "python",
   "name": "python3"
  },
  "language_info": {
   "codemirror_mode": {
    "name": "ipython",
    "version": 3
   },
   "file_extension": ".py",
   "mimetype": "text/x-python",
   "name": "python",
   "nbconvert_exporter": "python",
   "pygments_lexer": "ipython3",
   "version": "3.7.3"
  }
 },
 "nbformat": 4,
 "nbformat_minor": 2
}
