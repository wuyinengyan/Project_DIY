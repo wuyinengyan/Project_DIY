{
 "cells": [
  {
   "cell_type": "markdown",
   "metadata": {},
   "source": [
    "# P23 022：递归、迭代"
   ]
  },
  {
   "cell_type": "code",
   "execution_count": 1,
   "metadata": {},
   "outputs": [],
   "source": [
    "# 递归是程序调用自身的技巧，迭代是利用变量的原值推出新值；二者属于循环；\n",
    "# 递归是把大问题转化为小问题，代码精简，可读性好；\n",
    "# 但是大量占用系统堆栈，浪费空间，递归太深容易造成堆栈溢出；\n",
    "# 迭代的代码运行效率远高于递归，因为时间只因循环次数增加而增加，没有额外的空间开销；\n",
    "# 因此，绝多数情况不用递归，用迭代代替；"
   ]
  },
  {
   "cell_type": "code",
   "execution_count": 10,
   "metadata": {},
   "outputs": [
    {
     "name": "stdout",
     "output_type": "stream",
     "text": [
      "请输入一个数字：36\n",
      "第36个数字为：14930352\n",
      "运算时间0:00:00\n"
     ]
    }
   ],
   "source": [
    "# 迭代\n",
    "from datetime import datetime\n",
    "def iteration(n):\n",
    "    n = int(n)\n",
    "    n1 = 1\n",
    "    n2 = 1\n",
    "    n3 = 1\n",
    "    if n == 1 or n == 2:\n",
    "        n3 = 1\n",
    "    elif n > 2:\n",
    "        for i in range(1, n-1):  # while n>2\n",
    "            n3 = n1 + n2\n",
    "            n1 = n2\n",
    "            n2 = n3\n",
    "    else:\n",
    "        return \"输入错误！\"\n",
    "    return n3\n",
    "num = input(\"请输入一个数字：\")\n",
    "time1 =  datetime.now()\n",
    "print(\"第{0}个数字为：{1}\".format(num, iteration(num)))\n",
    "time2 =  datetime.now()\n",
    "print(\"运算时间{0}\".format(time2 - time1))"
   ]
  },
  {
   "cell_type": "code",
   "execution_count": 9,
   "metadata": {},
   "outputs": [
    {
     "name": "stdout",
     "output_type": "stream",
     "text": [
      "请输入一个数字：36\n",
      "第36个数字为：14930352\n",
      "运算时间0:00:08.751615\n"
     ]
    }
   ],
   "source": [
    "# 递归\n",
    "from datetime import datetime\n",
    "def recursion(n):\n",
    "    n = int(n)\n",
    "    if n == 1 or n == 2:\n",
    "        return 1\n",
    "    elif n > 2:\n",
    "        return recursion(n - 1) + recursion(n - 2)\n",
    "    else:\n",
    "        return \"输入错误！\"\n",
    "num = input(\"请输入一个数字：\")\n",
    "time1 =  datetime.now()\n",
    "print(\"第{0}个数字为：{1}\".format(num, recursion(num)))\n",
    "time2 =  datetime.now()\n",
    "print(\"运算时间{0}\".format(time2 - time1))"
   ]
  },
  {
   "cell_type": "markdown",
   "metadata": {},
   "source": [
    "# P25 024：Hanoi/汉诺塔"
   ]
  },
  {
   "cell_type": "code",
   "execution_count": null,
   "metadata": {},
   "outputs": [],
   "source": [
    "# Honoi汉诺塔：透过现象看本质"
   ]
  },
  {
   "cell_type": "code",
   "execution_count": 2,
   "metadata": {},
   "outputs": [
    {
     "name": "stdout",
     "output_type": "stream",
     "text": [
      "第00步：[5, 4, 3, 2, 1] [] []\n",
      "第01步：[5, 4, 3, 2] [] [1]\n",
      "第02步：[5, 4, 3] [2] [1]\n",
      "第03步：[5, 4, 3] [2, 1] []\n",
      "第04步：[5, 4] [2, 1] [3]\n",
      "第05步：[5, 4, 1] [2] [3]\n",
      "第06步：[5, 4, 1] [] [3, 2]\n",
      "第07步：[5, 4] [] [3, 2, 1]\n",
      "第08步：[5] [4] [3, 2, 1]\n",
      "第09步：[5] [4, 1] [3, 2]\n",
      "第10步：[5, 2] [4, 1] [3]\n",
      "第11步：[5, 2, 1] [4] [3]\n",
      "第12步：[5, 2, 1] [4, 3] []\n",
      "第13步：[5, 2] [4, 3] [1]\n",
      "第14步：[5] [4, 3, 2] [1]\n",
      "第15步：[5] [4, 3, 2, 1] []\n",
      "第16步：[] [4, 3, 2, 1] [5]\n",
      "第17步：[1] [4, 3, 2] [5]\n",
      "第18步：[1] [4, 3] [5, 2]\n",
      "第19步：[] [4, 3] [5, 2, 1]\n",
      "第20步：[3] [4] [5, 2, 1]\n",
      "第21步：[3] [4, 1] [5, 2]\n",
      "第22步：[3, 2] [4, 1] [5]\n",
      "第23步：[3, 2, 1] [4] [5]\n",
      "第24步：[3, 2, 1] [] [5, 4]\n",
      "第25步：[3, 2] [] [5, 4, 1]\n",
      "第26步：[3] [2] [5, 4, 1]\n",
      "第27步：[3] [2, 1] [5, 4]\n",
      "第28步：[] [2, 1] [5, 4, 3]\n",
      "第29步：[1] [2] [5, 4, 3]\n",
      "第30步：[1] [] [5, 4, 3, 2]\n",
      "第31步：[] [] [5, 4, 3, 2, 1]\n"
     ]
    }
   ],
   "source": [
    "step = 0  # 计数，总步数\n",
    "def Hanoi(n):\n",
    "    n = int(n)\n",
    "    li1 = [\"x\"]\n",
    "    li2 = [\"y\"]\n",
    "    li3 = [\"z\"]\n",
    "    for i in range(n, 0, -1):\n",
    "        li1.append(i)\n",
    "    PrintList(li1, li2, li3, step)\n",
    "    EachCircle(li1, li2, li3, n)\n",
    "\n",
    "def EachCircle(li1, li2, li3, n): \n",
    "    global step\n",
    "    if n == 1:\n",
    "        step += 1\n",
    "        li3.append(li1.pop())\n",
    "        PrintList(li1, li2, li3, step)\n",
    "    else:\n",
    "        EachCircle(li1, li3, li2, n-1)  \n",
    "        step += 1\n",
    "        li3.append(li1.pop())\n",
    "        PrintList(li1, li2, li3, step)\n",
    "        EachCircle(li2, li1, li3, n-1) \n",
    "        \n",
    "def PrintList(li1, li2, li3, num):\n",
    "    x = y = z = []\n",
    "    for li in [li1, li2, li3]:\n",
    "        if li[0] == 'x':\n",
    "            x = li[1:]\n",
    "        elif li[0] == 'y':\n",
    "            y = li[1:]\n",
    "        else:\n",
    "            z = li[1:]\n",
    "    print(\"第{0:02d}步：{1} {2} {3}\".format(num, x, y, z)) \n",
    "        \n",
    "Hanoi(5)"
   ]
  },
  {
   "cell_type": "markdown",
   "metadata": {},
   "source": [
    "# P27 026：dict/字典"
   ]
  },
  {
   "cell_type": "code",
   "execution_count": null,
   "metadata": {},
   "outputs": [],
   "source": [
    "# dict.fromkeys\n",
    "# dict.get(4)和dict[4]\n",
    "# dict.clear()\n",
    "# dict的弹出、添加：popitem、setdefault、update"
   ]
  },
  {
   "cell_type": "code",
   "execution_count": 14,
   "metadata": {},
   "outputs": [
    {
     "name": "stdout",
     "output_type": "stream",
     "text": [
      "{1: None, 2: None, 3: None}\n",
      "{1: ('one', 'two', 'three'), 2: ('one', 'two', 'three'), 3: ('one', 'two', 'three')}\n",
      "None\n"
     ]
    }
   ],
   "source": [
    "# 字典\n",
    "dict1={}\n",
    "print(dict1.fromkeys((1, 2, 3)))\n",
    "print(dict1.fromkeys((1, 2, 3), (\"one\", \"two\", \"three\")))  # 并不会自动映射分配，可以用zip\n",
    "print(dict1.get(4))  # 慎用，返回None，不会报错，不利于Debug\n",
    "# print(dict1[4])  # KeyError: 4"
   ]
  },
  {
   "cell_type": "code",
   "execution_count": 22,
   "metadata": {},
   "outputs": [
    {
     "name": "stdout",
     "output_type": "stream",
     "text": [
      "{1: ('one', 'two', 'three'), 2: ('one', 'two', 'three'), 3: ('one', 'two', 'three')} {1: ('one', 'two', 'three'), 2: ('one', 'two', 'three'), 3: ('one', 'two', 'three')}\n",
      "{} {1: ('one', 'two', 'three'), 2: ('one', 'two', 'three'), 3: ('one', 'two', 'three')}\n",
      "{} {}\n"
     ]
    }
   ],
   "source": [
    "dict2 = dict1.fromkeys((1, 2, 3),(\"one\", \"two\", \"three\"))  # 不会改变dict1的值\n",
    "dict1 = dict2\n",
    "print(dict1, dict2)\n",
    "dict1 = {}  # 只会清空dict1\n",
    "print(dict1, dict2)\n",
    "dict1 = dict2\n",
    "dict1.clear()  # 同时清空dict1和dict2，更利于数据的全面清除，保证用户隐私\n",
    "print(dict1, dict2)"
   ]
  },
  {
   "cell_type": "code",
   "execution_count": 2,
   "metadata": {},
   "outputs": [
    {
     "name": "stdout",
     "output_type": "stream",
     "text": [
      "(3, 'three')\n",
      "{1: 'one', 2: 'two', (4, 5): None}\n",
      "{1: 'one', 2: 'two', (4, 5): None, 0: 'zero'}\n",
      "{1: 'one', 2: 'two', (4, 5): ('four', 'five'), 0: 'ZERO', 99: 'ZERO'}\n"
     ]
    },
    {
     "data": {
      "text/plain": [
       "{1: 'one', 2: 'two', (4, 5): ('four', 'five'), 0: 'ZERO'}"
      ]
     },
     "execution_count": 2,
     "metadata": {},
     "output_type": "execute_result"
    }
   ],
   "source": [
    "dict1 = {1: (\"one\"), 2: (\"two\"), 3: (\"three\")}\n",
    "print(dict1.popitem())  # 随机弹出一项？测试的每次都是最后一项\n",
    "dict1.setdefault((4, 5))  # 随机添加一项？测试的每次都是最后一项\n",
    "print(dict1)\n",
    "dict1.setdefault(0, \"zero\")  # 随机添加一项？测试的每次都是最后一项\n",
    "print(dict1)\n",
    "dict1.update({(4, 5): (\"four\", \"five\"), 0: \"ZERO\", 99: \"ZERO\"})  # 用字典更新字段，包括插入新的键值对\n",
    "print(dict1)\n",
    "dict1.pop(99)  # 必须用key\n",
    "dict1"
   ]
  },
  {
   "cell_type": "markdown",
   "metadata": {},
   "source": [
    "# ！P28 027：set/集合、frozenset"
   ]
  },
  {
   "cell_type": "code",
   "execution_count": null,
   "metadata": {},
   "outputs": [],
   "source": [
    "# ！！！set的特性\n",
    "# frozenset"
   ]
  },
  {
   "cell_type": "code",
   "execution_count": 42,
   "metadata": {},
   "outputs": [
    {
     "name": "stdout",
     "output_type": "stream",
     "text": [
      "<class 'dict'>\n",
      "<class 'set'>\n"
     ]
    }
   ],
   "source": [
    "print(type({}))  # 空字典\n",
    "print(type({1, 2, 3, 4}))  # 集合：一堆元素直接用花括号括起来"
   ]
  },
  {
   "cell_type": "code",
   "execution_count": 45,
   "metadata": {},
   "outputs": [
    {
     "name": "stdout",
     "output_type": "stream",
     "text": [
      "{2, 3, 4, 5}\n"
     ]
    }
   ],
   "source": [
    "set1 = {2, 2, 3, 4, 5, 5, 4}\n",
    "print(set1)  # 集合自动清除重复元素，集合中的元素都是唯一的\n",
    "# item in set1 set1.add/remove  # 循环set的元素，添加和移除\n",
    "# set1[2]  # TypeError: 'set' object is not subscriptable 集合，没有顺序而言，不支持索引"
   ]
  },
  {
   "cell_type": "code",
   "execution_count": 48,
   "metadata": {},
   "outputs": [
    {
     "name": "stdout",
     "output_type": "stream",
     "text": [
      "[0, 1, 2, 3, 4, 5]\n"
     ]
    }
   ],
   "source": [
    "# 例题：如何去除列表的重复元素[0, 1, 2, 3, 4, 5, 5, 3, 1]\n",
    "set1 = set([0, 1, 2, 3, 4, 5, 5, 3, 1])  # 把数组转化为集合，再转回数组\n",
    "print(list(set1))  # 更效率"
   ]
  },
  {
   "cell_type": "code",
   "execution_count": 50,
   "metadata": {},
   "outputs": [
    {
     "name": "stdout",
     "output_type": "stream",
     "text": [
      "frozenset({0, 1, 2, 3, 4, 5})\n"
     ]
    }
   ],
   "source": [
    "set2 = frozenset(set1)  # 不可改变，类似tuple\n",
    "print(set2)\n",
    "# set2.add(4)  # AttributeError: 'frozenset' object has no attribute 'add'"
   ]
  },
  {
   "cell_type": "markdown",
   "metadata": {},
   "source": [
    "# P29 028：文件"
   ]
  },
  {
   "cell_type": "code",
   "execution_count": 1,
   "metadata": {},
   "outputs": [],
   "source": [
    "# 文件"
   ]
  },
  {
   "cell_type": "code",
   "execution_count": 3,
   "metadata": {},
   "outputs": [
    {
     "name": "stdout",
     "output_type": "stream",
     "text": [
      "十五从军征，八十始得归。\n",
      "道逢乡里人：家中有阿谁？\n",
      "遥看是君家，松柏冢累累。\n",
      "兔从狗窦入，雉从梁上飞。\n",
      "中庭生旅谷，井上生旅葵。\n",
      "舂谷持作饭，采葵持作羹。\n",
      "羹饭一时熟，不知贻阿谁！\n",
      "出门东向看，泪落沾我衣。\n",
      "\n",
      "十五从军征 10\n",
      "逢乡里人：家中有阿谁？\n",
      "\n"
     ]
    }
   ],
   "source": [
    "with open(\"d:\\\\GitHub\\\\Resource\\\\PoemsOfYuefu.txt\", \"r\") as f:  # r只读，w写入，rb:read binary，wb:write binary\n",
    "    print(f.read())  # read(size=-1)从文件中读取size个字节，负值和默认读取所有，作为字符串返回\n",
    "    print(f.read())  # 第二次是空格，因为指针已经指到了文件的末尾\n",
    "    f.seek(0, 0)  # seek(offset,from) offset:偏移字节数；from:0文件起始，1当前位置，2结尾\n",
    "    print(f.read(5), f.tell())  # tell() 返回当前文件中位置，汉字占两个字节\n",
    "    f.seek(28, 0)  # 27时，汉字不能拆分 UnicodeDecodeError: 'gbk' codec can't decode byte 0xad in position 20: illegal multibyte sequence\n",
    "    # read方法默认一次性读取所有文件内容，对内存的占用很大，\n",
    "    # readline，一次只读取一行，然后把指针移动到下一行，准备再次读取\n",
    "    print(f.readline())  # 从指针位置读取当前行"
   ]
  },
  {
   "cell_type": "markdown",
   "metadata": {},
   "source": [
    "# P32 031：pickle"
   ]
  },
  {
   "cell_type": "code",
   "execution_count": null,
   "metadata": {},
   "outputs": [],
   "source": [
    "# pickle的存储和读取"
   ]
  },
  {
   "cell_type": "code",
   "execution_count": 2,
   "metadata": {},
   "outputs": [
    {
     "name": "stdout",
     "output_type": "stream",
     "text": [
      "十五从军征，八十始得归。\n",
      "道逢乡里人：家中有阿谁？\n",
      "遥看是君家，松柏冢累累。\n",
      "兔从狗窦入，雉从梁上飞。\n",
      "中庭生旅谷，井上生旅葵。\n",
      "舂谷持作饭，采葵持作羹。\n",
      "羹饭一时熟，不知贻阿谁！\n",
      "出门东向看，泪落沾我衣。\n"
     ]
    }
   ],
   "source": [
    "import pickle\n",
    "str_pickle = '''十五从军征，八十始得归。\n",
    "道逢乡里人：家中有阿谁？\n",
    "遥看是君家，松柏冢累累。\n",
    "兔从狗窦入，雉从梁上飞。\n",
    "中庭生旅谷，井上生旅葵。\n",
    "舂谷持作饭，采葵持作羹。\n",
    "羹饭一时熟，不知贻阿谁！\n",
    "出门东向看，泪落沾我衣。'''\n",
    "with open(\"d:\\\\GitHub\\\\Resource\\\\my_list.pkl\", \"wb\") as f:  # 一定要用wb\n",
    "    pickle.dump(str_pickle, f)  # 以二进制的形式存入，并在指定路径生成文件\n",
    "with open(\"d:\\\\GitHub\\\\Resource\\\\my_list.pkl\", \"rb\") as f:\n",
    "    print(pickle.load(f))  # 读取文件"
   ]
  }
 ],
 "metadata": {
  "kernelspec": {
   "display_name": "Python 3",
   "language": "python",
   "name": "python3"
  },
  "language_info": {
   "codemirror_mode": {
    "name": "ipython",
    "version": 3
   },
   "file_extension": ".py",
   "mimetype": "text/x-python",
   "name": "python",
   "nbconvert_exporter": "python",
   "pygments_lexer": "ipython3",
   "version": "3.7.3"
  }
 },
 "nbformat": 4,
 "nbformat_minor": 2
}
