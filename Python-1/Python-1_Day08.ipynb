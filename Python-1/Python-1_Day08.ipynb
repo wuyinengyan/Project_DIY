{
 "cells": [
  {
   "cell_type": "markdown",
   "metadata": {},
   "source": [
    "# P065 064：Tkinter1——Label、Button"
   ]
  },
  {
   "cell_type": "code",
   "execution_count": 1,
   "metadata": {},
   "outputs": [],
   "source": [
    "import tkinter as tk\n",
    "    \n",
    "app = tk.Tk()\n",
    "app.title(\"Brave New World\")\n",
    "\n",
    "theLabel = tk.Label(app, text = \"美丽新世界\")  # 显示文本、图标\n",
    "theLabel.pack()  # 自动调节文本的尺寸、位置\n",
    "\n",
    "app.mainloop()  # 窗口的主事件循环"
   ]
  },
  {
   "cell_type": "code",
   "execution_count": 10,
   "metadata": {},
   "outputs": [
    {
     "name": "stdout",
     "output_type": "stream",
     "text": [
      "Brave New World!\n"
     ]
    }
   ],
   "source": [
    "import tkinter as tk\n",
    "\n",
    "class APP:\n",
    "    def __init__(self, master):\n",
    "        frame = tk.Frame(master)  # 相互包含的关系:master->frame->button\n",
    "        frame.pack(side=tk.LEFT, padx=10, pady=10)  # 设置按钮的位置，x轴、y轴的间距\n",
    "        \n",
    "        self.hi_there = tk.Button(frame, text=\"Hi\", fg=\"blue\", bg=\"red\",command=self.say_hi)  # fg:字体颜色 bg:背景色\n",
    "        self.hi_there.pack()\n",
    "    def say_hi(self):\n",
    "        print(\"Brave New World!\")\n",
    "        \n",
    "root = tk.Tk()  # 创建一个顶层窗口\n",
    "app = APP(root)  # 实例化APP\n",
    "\n",
    "root.mainloop()  # root是主窗口，app是窗口里面的类实例，所以主循环给root"
   ]
  },
  {
   "cell_type": "markdown",
   "metadata": {},
   "source": [
    "# P066 065：Tkinter2——PhotoImage"
   ]
  },
  {
   "cell_type": "code",
   "execution_count": 3,
   "metadata": {},
   "outputs": [],
   "source": [
    "from tkinter import *\n",
    "\n",
    "root = Tk()\n",
    "frame1 = Frame(root)\n",
    "frame2 = Frame(root)\n",
    "\n",
    "textLabel = Label(root, text=\"看客：\\n围观的最好诠释\")  #  justify=LEFT:文字左对齐\n",
    "textLabel.pack()\n",
    "\n",
    "def callback():\n",
    "    var.set(\"吃起来~\")\n",
    "\n",
    "var = StringVar()\n",
    "var.set(\"卖瓜了~\")\n",
    "photo = PhotoImage(file=\"looker.gif\")  # PhotoImage只支持gif，然而并不会动\n",
    "# TclError: image \"pyimage6\" doesn't exist  解决：重启服务\n",
    "imageLabel = Label(frame1, textvariable=var, image=photo, compound=CENTER, fg=\"red\") # compound必须有，否则不显示\n",
    "imageLabel.pack()  # side=RIGHT，图片放在文字右边\n",
    "\n",
    "theButton = Button(frame2, text=\"买瓜\", fg=\"blue\", bg=\"red\",command=callback)  # callback方法必须放在前面\n",
    "theButton.pack()\n",
    "frame1.pack(padx=10, pady=10)\n",
    "frame2.pack(padx=10, pady=10)\n",
    "\n",
    "mainloop()"
   ]
  },
  {
   "cell_type": "markdown",
   "metadata": {},
   "source": [
    "# P067 066：Tkinter3——Checkbutton、Radiobutton、LabelFrame"
   ]
  },
  {
   "cell_type": "code",
   "execution_count": 5,
   "metadata": {},
   "outputs": [],
   "source": [
    "from tkinter import *\n",
    "\n",
    "root = Tk()\n",
    "\n",
    "GIRLS = [\"夕梧\",\"绮罗\",\"依依\",\"霏霏\",\"凛鸢\"]\n",
    "v = []\n",
    "# i = 1\n",
    "for girl in GIRLS:\n",
    "    v.append(IntVar())  # 初始化Invar(),为0\n",
    "    b = Checkbutton(root, text=girl, variable=v[-1])  # variable:记录按钮是否被选中\n",
    "    b.pack(anchor=W)  # W=west要大写\n",
    "#     Radiobutton(root, text = girl, variable=v[0], value = i).pack(anchor=W)  # 需要保证variable的值都是相同的\n",
    "#     i+=1\n",
    "\n",
    "mainloop()"
   ]
  },
  {
   "cell_type": "code",
   "execution_count": 15,
   "metadata": {},
   "outputs": [],
   "source": [
    "from tkinter import *\n",
    "\n",
    "root = Tk()\n",
    "frame = LabelFrame(root, text=\"四书？\", padx=5, pady=5)  # LabelFrame会出现边框\n",
    "frame.pack(padx=10, pady=10)\n",
    "\n",
    "GIRLS = [\"大学\",\"中庸\",\"孟子\",\"春秋\",\"论语\"]\n",
    "NUM = [1, 2, 3, 4, 5]\n",
    "v = IntVar()\n",
    "for girl, num in list(zip(GIRLS, NUM)):\n",
    "    Radiobutton(frame, text = girl, variable=v, value = num, indicatoron = False).pack(fill=X)  # 需要保证variable的值都是相同的\n",
    "\n",
    "mainloop()"
   ]
  },
  {
   "cell_type": "markdown",
   "metadata": {},
   "source": [
    "# P068 067：Tkinter4——Grid、Entry"
   ]
  },
  {
   "cell_type": "code",
   "execution_count": 22,
   "metadata": {},
   "outputs": [
    {
     "name": "stdout",
     "output_type": "stream",
     "text": [
      "账户：dddd\n",
      "密码：\n",
      "账户：wuyinengyan\n",
      "密码：\n"
     ]
    }
   ],
   "source": [
    "from tkinter import *\n",
    "\n",
    "def submit():\n",
    "    print(\"账户：%s\" % txt1.get())\n",
    "    print(\"密码：%s\" % txt2.get())\n",
    "    txt1.delete(0, END)\n",
    "    txt2.delete(0, END)\n",
    "\n",
    "def entrycheck(content, reason, name):  #\n",
    "    print(content, reason, name)\n",
    "    if txt1.get() != \"wuyinengyan\":     \n",
    "        txt1.delete(0, END)\n",
    "        return False\n",
    "    print(\"输入正确！\")\n",
    "    return True\n",
    "\n",
    "def alert():  # 只有输入错误时才会被调用\n",
    "    print(\"账户输入错误！\")\n",
    "    return True\n",
    "        \n",
    "root = Tk()\n",
    "Label(root, text=\"账户：\").grid(row=0, column=0, padx=5, pady=5)\n",
    "Label(root, text=\"密码：\").grid(row=1, column=0, padx=5, pady=5)\n",
    "v1 = StringVar()\n",
    "v2 = StringVar()\n",
    "\n",
    "entrycheckCMD = root.register(entrycheck)\n",
    "txt1 = Entry(root, textvariable=v1, validate=\"focusout\", \\\n",
    "             #% %P该组件改变的时候的内容；v该组件当前textvariable的值；%W该组件的名字\n",
    "             validatecommand=(entrycheckCMD, \"%P\", \"%v\", \"%W\"), invalidcommand=alert)  # focusout焦点离开时触发\n",
    "txt2 = Entry(root, textvariable=v2, show=\"*\")  # 密码显示保护\n",
    "txt1.grid(row=0, column=1, padx=15, pady=5)\n",
    "txt2.grid(row=1, column=1, padx=15, pady=5)\n",
    "\n",
    "Button(root, text=\"提交\", command=submit).grid(row=2, column=0, sticky=W, padx=5, pady=5)  # sticky=W靠左\n",
    "Button(root, text=\"退出\", command=root.destroy).grid(row=2, column=1, sticky=E, padx=5, pady=5)  # root.quit关不掉\n",
    "\n",
    "mainloop()"
   ]
  },
  {
   "cell_type": "code",
   "execution_count": 36,
   "metadata": {},
   "outputs": [],
   "source": [
    "from tkinter import *\n",
    "\n",
    "def entrycheck(content):\n",
    "    return content.isdigit() if content != \"\" else True  # 是否是数字\n",
    "        \n",
    "root = Tk()\n",
    "frame = Frame(root)\n",
    "frame.pack(padx=5, pady=5)  # 用frame把padx=5, pady=5公共的属性提取出来\n",
    "v1 = StringVar()\n",
    "v2 = StringVar()\n",
    "v3 = StringVar()\n",
    "\n",
    "entrycheckCMD = root.register(entrycheck)\n",
    "txt1 = Entry(frame, textvariable=v1, width=10, validate=\"key\",  # key返回True保留，False则清除\n",
    "             validatecommand=(entrycheckCMD, \"%P\")).grid(row=0, column=0)\n",
    "Label(frame, text=\"+\").grid(row=0, column=1)\n",
    "txt2 = Entry(frame, textvariable=v2, width=10, validate=\"key\",  # key返回True保留，False则清除\n",
    "             validatecommand=(entrycheckCMD, \"%P\")).grid(row=0, column=2)\n",
    "Label(frame, text=\"=\").grid(row=0, column=3)\n",
    "Entry(frame, textvariable=v3, width=10, state=\"readonly\").grid(row=0, column=4)\n",
    "\n",
    "def cal():\n",
    "    result = int(v1.get()) + int(v2.get())\n",
    "    v3.set(result)\n",
    "Button(frame, text=\"计算\", width=8, command=cal).grid(row=1, column=2, pady=5)\n",
    "\n",
    "mainloop()"
   ]
  },
  {
   "cell_type": "markdown",
   "metadata": {},
   "source": [
    "# P069 068：Tkinter5——Listbox、Scrollbar、Scale"
   ]
  },
  {
   "cell_type": "code",
   "execution_count": 50,
   "metadata": {},
   "outputs": [],
   "source": [
    "from tkinter import *\n",
    "\n",
    "root = Tk()\n",
    "# selectmode=SINGLE，选中后不随鼠标改变而改变，MULTIPLE（多选），EXTENDED（需要配合shift和alt的多选）\n",
    "theLB = Listbox(root,selectmode=SINGLE, height=15)  # height行数，默认10\n",
    "theLB.pack(padx=5, pady=5)\n",
    "\n",
    "for item in \"自反而缩，虽千万人吾往矣\":\n",
    "    theLB.insert(END, item)  # END添加在末尾\n",
    "theBtn = Button(root, text=\"删除\", command=lambda x=theLB:x.delete(ACTIVE))\n",
    "theBtn.pack(pady=5)\n",
    "\n",
    "mainloop()   "
   ]
  },
  {
   "cell_type": "code",
   "execution_count": 72,
   "metadata": {},
   "outputs": [],
   "source": [
    "from tkinter import *\n",
    "\n",
    "root = Tk()\n",
    "frame1 = Frame(root)\n",
    "frame1.pack()\n",
    "\n",
    "thSB = Scrollbar(frame1)\n",
    "thSB.pack(side=RIGHT, fill=Y)\n",
    "\n",
    "theLB = Listbox(frame1,selectmode=SINGLE, yscrollcommand=thSB.set)\n",
    "theLB.pack(side=LEFT, fill=BOTH, pady=5)\n",
    "thSB.config(command=theLB.yview)  # 不可少，否则拖拽不动\n",
    "\n",
    "for item in \"自反而缩，虽千万人吾往矣\":\n",
    "    theLB.insert(END, item)  # END添加在末尾\n",
    "theBtn = Button(root, width=8, text=\"删除\", command=lambda x=theLB:x.delete(ACTIVE))\n",
    "theBtn.pack(pady=5)\n",
    "    \n",
    "mainloop()"
   ]
  },
  {
   "cell_type": "code",
   "execution_count": 78,
   "metadata": {},
   "outputs": [
    {
     "name": "stdout",
     "output_type": "stream",
     "text": [
      "0 61\n",
      "25 36\n"
     ]
    }
   ],
   "source": [
    "from tkinter import *\n",
    "\n",
    "root = Tk()\n",
    "\n",
    "s1 = Scale(root, from_=0, to=36, length=100, tickinterval=6, resolution=5)  # tickinterval刻度；resolution：精度，最少单位\n",
    "s1.pack()\n",
    "s2 = Scale(root, from_=0, to=72, orient=HORIZONTAL, length=200, tickinterval=12)\n",
    "s2.pack()\n",
    "\n",
    "def show():\n",
    "    print(s1.get(), s2.get())\n",
    "Button(root, text=\"位置显示\", width=8, command=show).pack()\n",
    "\n",
    "mainloop()"
   ]
  },
  {
   "cell_type": "markdown",
   "metadata": {},
   "source": [
    "# P070 069：Tkinter6——Text、mark"
   ]
  },
  {
   "cell_type": "code",
   "execution_count": 1,
   "metadata": {},
   "outputs": [],
   "source": [
    "from tkinter import *\n",
    "\n",
    "root = Tk()\n",
    "\n",
    "txt = Text(root, width=20, height=20)\n",
    "txt.pack()\n",
    "txt.insert(INSERT, \"Brave\\n\")  # INSERT对应插入光标的位置 CURRENT对应鼠标坐标最接近的位置，如果紧摁鼠标，松开时才响应\n",
    "txt.insert(END, \"New World\")  # END对应最后一个字符的下一个位置\n",
    "\n",
    "photo = PhotoImage(file=\"looker.gif\")  # PhotoImage只支持gif，然而并不会动\n",
    "\n",
    "def show():\n",
    "    txt.image_create(END, image=photo)  # text中插入image\n",
    "b1 = Button(root, text=\"插入图片\", width=8, command=show)\n",
    "txt.window_create(INSERT, window=b1)  # text中插入button\n",
    "\n",
    "mainloop()"
   ]
  },
  {
   "cell_type": "code",
   "execution_count": 7,
   "metadata": {},
   "outputs": [],
   "source": [
    "from tkinter import *\n",
    "\n",
    "root = Tk()\n",
    "\n",
    "txt = Text(root, width=20, height=20)\n",
    "txt.pack()\n",
    "txt.insert(INSERT, \"Brave New World\")\n",
    "\n",
    "txt.mark_set(\"1984\", \"1.end\")  # end 必须小写\n",
    "txt.mark_gravity(\"1984\", LEFT)  # 输出“Brave New World4891”；默认不设置，是RIGHT——输出“Brave New World1984”\n",
    "txt.insert(\"1984\", \"1\") \n",
    "txt.insert(\"1984\", \"9\") \n",
    "txt.insert(\"1984\", \"8\") \n",
    "txt.insert(\"1984\", \"4\") \n",
    "# txt.delete(\"1.0\", END)  # 删除文本，并不会删除mark\n",
    "# txt.mark_unset(\"1984\")  # 删除标记mark的方法\n",
    "\n",
    "mainloop()"
   ]
  },
  {
   "cell_type": "markdown",
   "metadata": {},
   "source": [
    "# P071 070：Tkinter6——mark、tag"
   ]
  },
  {
   "cell_type": "code",
   "execution_count": 15,
   "metadata": {},
   "outputs": [],
   "source": [
    "from tkinter import *\n",
    "\n",
    "root = Tk()\n",
    "\n",
    "txt = Text(root, width=20, height=20)\n",
    "txt.pack()\n",
    "txt.insert(INSERT, \"Brave New World\")\n",
    "\n",
    "txt.tag_add(\"tag1\", \"1.0\", \"1.5\", \"1.10\")  # 1.0是起始，1.5是结束，\"1.10\"没有结束的配对，就只处理1.10这一个位置，等效于1.10-1.11\n",
    "txt.tag_config(\"tag1\", background=\"yellow\")\n",
    "# txt.tag_config(\"tag2\", background=\"red\")  # 默认后设置的tag优先级高\n",
    "# txt.tag_lower(\"tag2\")  # tag_lower可以降低tag的优先级\n",
    "\n",
    "mainloop()"
   ]
  },
  {
   "cell_type": "code",
   "execution_count": 21,
   "metadata": {},
   "outputs": [],
   "source": [
    "from tkinter import *\n",
    "import webbrowser\n",
    "\n",
    "root = Tk()\n",
    "\n",
    "txt = Text(root, width=20, height=20)\n",
    "txt.pack()\n",
    "txt.insert(INSERT, \"Brave New World\")\n",
    "\n",
    "txt.tag_add(\"link\", \"1.6\", \"1.9\")  # 1.0是起始，1.5是结束，\"1.10\"没有结束的配对，就只处理1.10这一个位置，等效于1.10-1.11\n",
    "txt.tag_config(\"link\", background=\"yellow\", underline=True)\n",
    "\n",
    "def show_arrow_cursor(event):  # 不要漏掉event\n",
    "    txt.config(cursor=\"arrow\")\n",
    "def show_xterm_cursor(event):  # 不要漏掉event\n",
    "    txt.config(cursor=\"xterm\")\n",
    "def click(event):  # 不要漏掉event\n",
    "    webbrowser.open(\"https://www.baidu.com\")\n",
    "\n",
    "txt.tag_bind(\"link\", \"<Enter>\", show_arrow_cursor)  # 绑定事件\n",
    "txt.tag_bind(\"link\", \"<Leave>\", show_xterm_cursor)\n",
    "txt.tag_bind(\"link\", \"<Button-1>\", click)  # Button-1:左键点击\n",
    "\n",
    "mainloop()"
   ]
  },
  {
   "cell_type": "code",
   "execution_count": 6,
   "metadata": {},
   "outputs": [
    {
     "name": "stdout",
     "output_type": "stream",
     "text": [
      "第1个位置：(1, 3)\n",
      "第2个位置：(2, 11)\n",
      "第3个位置：(2, 18)\n",
      "第4个位置：(2, 30)\n",
      "第5个位置：(2, 31)\n"
     ]
    }
   ],
   "source": [
    "from tkinter import *\n",
    "\n",
    "root = Tk()\n",
    "\n",
    "txt = Text(root, width=30, height=5)\n",
    "txt.pack()\n",
    "txt.insert(INSERT, \"What man is a man \\nwho does not make the world better?\")\n",
    "\n",
    "def getIndex(txt, index):\n",
    "    return tuple(map(int, str.split(index, \".\")))  # str.split(index, \".\")的结果，转为int！！！map返回的是数组\n",
    "\n",
    "start = \"1.0\"  # 可以直接用float型\n",
    "i = 1\n",
    "while True:\n",
    "    pos = txt.search(\"t\", start, stopindex=END)\n",
    "    if not pos:\n",
    "        break\n",
    "    print(\"第%d个位置：%s\" % (i, getIndex(txt, pos)))\n",
    "    i += 1\n",
    "    start = pos + \"+1c\"  # 起始位置后移一位\n",
    "\n",
    "mainloop()"
   ]
  },
  {
   "cell_type": "code",
   "execution_count": 19,
   "metadata": {},
   "outputs": [],
   "source": [
    "from tkinter import *\n",
    "\n",
    "root = Tk()\n",
    "\n",
    "txt = Text(root, width=30, height=5, undo=True, autoseparators=True) # undo开启撤销；autoseparators:系统默认分隔符是enter\n",
    "txt.pack()\n",
    "txt.insert(INSERT, \"What man is a man \\nwho does not make the world better?\")\n",
    "\n",
    "# def callback(event):  # 插入事件必须绑定event\n",
    "#     txt.edit_separator()  # 插入分隔符\n",
    "# txt.bind(\"<Key>\", callback)  # 每次输入都人为绑定事件\n",
    "    \n",
    "def undo():\n",
    "    txt.edit_undo()\n",
    "Button(root, text=\"撤销\", width=8, command=undo).pack()\n",
    "\n",
    "mainloop()"
   ]
  }
 ],
 "metadata": {
  "kernelspec": {
   "display_name": "Python 3",
   "language": "python",
   "name": "python3"
  },
  "language_info": {
   "codemirror_mode": {
    "name": "ipython",
    "version": 3
   },
   "file_extension": ".py",
   "mimetype": "text/x-python",
   "name": "python",
   "nbconvert_exporter": "python",
   "pygments_lexer": "ipython3",
   "version": "3.7.3"
  }
 },
 "nbformat": 4,
 "nbformat_minor": 2
}
