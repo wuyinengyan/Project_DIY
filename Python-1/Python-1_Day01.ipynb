{
 "cells": [
  {
   "cell_type": "markdown",
   "metadata": {},
   "source": [
    "# P4 003：三引号"
   ]
  },
  {
   "cell_type": "code",
   "execution_count": null,
   "metadata": {},
   "outputs": [],
   "source": [
    "# 原始字符串r的用法\n",
    "# ''''''三引号的用法"
   ]
  },
  {
   "cell_type": "code",
   "execution_count": 31,
   "metadata": {},
   "outputs": [
    {
     "name": "stdout",
     "output_type": "stream",
     "text": [
      "c:\\now\\pics\n",
      "昔我往矣\n",
      "杨柳依依\n",
      "今我来思\n",
      "雨雪霏霏\n"
     ]
    }
   ],
   "source": [
    "# 原始字符串r的用法\n",
    "a = r'c:\\now\\pics'\n",
    "print(a)\n",
    "# ''''''三引号的用法\n",
    "poem = '''昔我往矣\n",
    "杨柳依依\n",
    "今我来思\n",
    "雨雪霏霏'''\n",
    "print(poem)"
   ]
  },
  {
   "cell_type": "markdown",
   "metadata": {},
   "source": [
    "# P5 004：randint"
   ]
  },
  {
   "cell_type": "code",
   "execution_count": null,
   "metadata": {},
   "outputs": [],
   "source": [
    "# from random import *\n",
    "# from random import randint\n",
    "# import random\n",
    "# random.randint"
   ]
  },
  {
   "cell_type": "code",
   "execution_count": 34,
   "metadata": {},
   "outputs": [
    {
     "name": "stdout",
     "output_type": "stream",
     "text": [
      "56\n"
     ]
    }
   ],
   "source": [
    "import random\n",
    "i = random.randint(1, 99)  # 1-99之间取随机数\n",
    "print(i)"
   ]
  },
  {
   "cell_type": "markdown",
   "metadata": {},
   "source": [
    "# ？P6 005：e记法、isinstance"
   ]
  },
  {
   "cell_type": "code",
   "execution_count": null,
   "metadata": {},
   "outputs": [],
   "source": [
    "# e记法；True:1;False:0\n",
    "# ？？？数据类型强转换：float强转换为int：取整，而不是四舍五入\n",
    "# type和isinstance的用法\n",
    "# 如果str被作为变量使用了，如何恢复？"
   ]
  },
  {
   "cell_type": "code",
   "execution_count": 5,
   "metadata": {},
   "outputs": [
    {
     "name": "stdout",
     "output_type": "stream",
     "text": [
      "2.7e-15 1500000000000.0\n"
     ]
    }
   ],
   "source": [
    "# e记法\n",
    "i = 0.0000000000000027\n",
    "j = 15e11   # 结果为float型\n",
    "print (i, j)"
   ]
  },
  {
   "cell_type": "code",
   "execution_count": 7,
   "metadata": {},
   "outputs": [
    {
     "name": "stdout",
     "output_type": "stream",
     "text": [
      "1 0\n"
     ]
    }
   ],
   "source": [
    "# True:1；False:0\n",
    "print(True + False, True * False)  # 注意首字母的大小写"
   ]
  },
  {
   "cell_type": "code",
   "execution_count": 25,
   "metadata": {},
   "outputs": [
    {
     "name": "stdout",
     "output_type": "stream",
     "text": [
      "5\n",
      "1500000000000.0 5000000000000000.0 1.5e+16 5e+16 5e+19\n"
     ]
    }
   ],
   "source": [
    "# 数据类型强转换\n",
    "print(int(5.99))  # float强转换为int：取整，而不是四舍五入\n",
    "print(str(15e11), str(5e15), str(15e15), str(5e16), str(5e19))  # ？？？e记法转为字符串：e后面是15，还是16有巨大的差别"
   ]
  },
  {
   "cell_type": "code",
   "execution_count": 40,
   "metadata": {},
   "outputs": [
    {
     "name": "stdout",
     "output_type": "stream",
     "text": [
      "<class 'float'>\n",
      "False\n"
     ]
    }
   ],
   "source": [
    "# type和isinstance\n",
    "print(type(15e11))\n",
    "str = \"str\"\n",
    "str = type('恢复str的方法')  # 如果不小心把str作为变量名，如何恢复？？\n",
    "print(isinstance(7.77, str))"
   ]
  },
  {
   "cell_type": "markdown",
   "metadata": {},
   "source": [
    "# P7 006：运算符"
   ]
  },
  {
   "cell_type": "code",
   "execution_count": null,
   "metadata": {},
   "outputs": [],
   "source": [
    "# 运算符：**；连续小于号；//；not"
   ]
  },
  {
   "cell_type": "code",
   "execution_count": 48,
   "metadata": {},
   "outputs": [
    {
     "name": "stdout",
     "output_type": "stream",
     "text": [
      "-8 0.1111111111111111\n",
      "True True\n",
      "4 -5.0\n",
      "True False False False\n"
     ]
    }
   ],
   "source": [
    "# 运算符\n",
    "print(-2 ** 3, 3 ** -2)  # **:幂，运算的优先级和位置有关\n",
    "print(3 < 4 < 5, (3 < 4) and (4 < 5))  # 支持连续的小于号\n",
    "print(9 // 2, -9.0 // 2)  # //:向下取整，且返回相同的数据类型\n",
    "print(not 0, not 4, not -5, not -0.5)  # 0:False，其它数:True"
   ]
  },
  {
   "cell_type": "markdown",
   "metadata": {},
   "source": [
    "# P9 008：assert/断言"
   ]
  },
  {
   "cell_type": "code",
   "execution_count": null,
   "metadata": {},
   "outputs": [],
   "source": [
    "# assert（断言）"
   ]
  },
  {
   "cell_type": "code",
   "execution_count": 49,
   "metadata": {},
   "outputs": [
    {
     "ename": "AssertionError",
     "evalue": "",
     "output_type": "error",
     "traceback": [
      "\u001b[1;31m---------------------------------------------------------------------------\u001b[0m",
      "\u001b[1;31mAssertionError\u001b[0m                            Traceback (most recent call last)",
      "\u001b[1;32m<ipython-input-49-020d57da1a31>\u001b[0m in \u001b[0;36m<module>\u001b[1;34m\u001b[0m\n\u001b[1;32m----> 1\u001b[1;33m \u001b[1;32massert\u001b[0m \u001b[1;36m3\u001b[0m\u001b[1;33m>\u001b[0m\u001b[1;36m4\u001b[0m\u001b[1;33m\u001b[0m\u001b[1;33m\u001b[0m\u001b[0m\n\u001b[0m",
      "\u001b[1;31mAssertionError\u001b[0m: "
     ]
    }
   ],
   "source": [
    "# assert（断言）\n",
    "assert 3 > 4  # 当关键字后边的条件为假，程序自动奔溃并抛出异常。当确保某一个条件为真才能让程序正常运行时，使用。"
   ]
  },
  {
   "cell_type": "code",
   "execution_count": 50,
   "metadata": {},
   "outputs": [],
   "source": [
    "assert 3 < 4"
   ]
  },
  {
   "cell_type": "markdown",
   "metadata": {},
   "source": [
    "# P10 009：range"
   ]
  },
  {
   "cell_type": "code",
   "execution_count": null,
   "metadata": {},
   "outputs": [],
   "source": [
    "# range(start, stop[, step])"
   ]
  },
  {
   "cell_type": "code",
   "execution_count": 62,
   "metadata": {},
   "outputs": [
    {
     "name": "stdout",
     "output_type": "stream",
     "text": [
      "0 1 2 3 4 5 6 7 8 9 1\n",
      "4\n",
      "7\n"
     ]
    }
   ],
   "source": [
    "# range(start：默认为0,stop：不包括输入值,step：默认为1)\n",
    "for s in range(10):  # 1:start;10:stop; 2:step\n",
    "    print(s, end=\" \")  # 分隔符\n",
    "for s in range(1,10,3):\n",
    "    print(s)  # 每次输出自动换行"
   ]
  },
  {
   "cell_type": "markdown",
   "metadata": {},
   "source": [
    "# P12 011：List1"
   ]
  },
  {
   "cell_type": "code",
   "execution_count": null,
   "metadata": {},
   "outputs": [],
   "source": [
    "# List添加元素的三种方法\n",
    "# List删除元素的三种方法\n",
    "# List的copy的两种方法\n",
    "# List的切片slice(start, stop[, step])"
   ]
  },
  {
   "cell_type": "code",
   "execution_count": 1,
   "metadata": {},
   "outputs": [
    {
     "name": "stdout",
     "output_type": "stream",
     "text": [
      "c\n",
      "['a', 'b', 'd', 'e']\n"
     ]
    }
   ],
   "source": [
    "# 数据 List\n",
    "# 添加元素：append()、extend()、insert(index,item)\n",
    "arr = ['a', 'b', 'c', 'd', 'e']\n",
    "# arr.remove('a')\n",
    "# del arr[1] # del arr删除整个数组\n",
    "s = arr.pop(2) # pop()默认会弹出数组的最后一个元素\n",
    "print(s)\n",
    "print(arr)"
   ]
  },
  {
   "cell_type": "code",
   "execution_count": 3,
   "metadata": {},
   "outputs": [
    {
     "name": "stdout",
     "output_type": "stream",
     "text": [
      "93365064 93831944 93365064\n",
      "['a', 'b', 'c', 'd', 'e'] ['a', 'b']\n"
     ]
    }
   ],
   "source": [
    "arr = ['a', 'b', 'c', 'd', 'e']\n",
    "arr2 = arr[:]  #  拷贝等同于arr.copy()，id不同，改变arr2并不会改变arr\n",
    "arr3 = arr  # 赋值，改变arr3，同时改变arr\n",
    "# slice(start, stop[, step])  定义同range()\n",
    "arr4 = arr[slice(2)]  # slice切片不会改变arr本身\n",
    "print(id(arr), id(arr2), id(arr3))\n",
    "print(arr, arr4)"
   ]
  },
  {
   "cell_type": "markdown",
   "metadata": {},
   "source": [
    "# P13 012：List2"
   ]
  },
  {
   "cell_type": "code",
   "execution_count": null,
   "metadata": {},
   "outputs": [],
   "source": [
    "# List的加法、乘法和比较大小\n",
    "# List的count和index\n",
    "# List的排序和翻转\n",
    "# li[i:j:s]\n",
    "# sort和argsort"
   ]
  },
  {
   "cell_type": "code",
   "execution_count": 7,
   "metadata": {},
   "outputs": [
    {
     "name": "stdout",
     "output_type": "stream",
     "text": [
      "False [123, 456, 234, 123]\n",
      "[123, 456, 123, 456, 123, 456]\n"
     ]
    }
   ],
   "source": [
    "list1 = [123, 456]\n",
    "list2 = [234, 123]\n",
    "print(list1 > list2, list1 + list2)  # 数组比较大小，比较第一个元素；两个元素相加相当于extend\n",
    "print(list1 * 3)  # list1 *= 3 会改变list1的值"
   ]
  },
  {
   "cell_type": "code",
   "execution_count": 14,
   "metadata": {},
   "outputs": [
    {
     "name": "stdout",
     "output_type": "stream",
     "text": [
      "5\n",
      "[123, 456, 123, 456, 123, 456, 123, 456, 123, 456]\n",
      "2 4\n"
     ]
    }
   ],
   "source": [
    "list3 = list1 * 5\n",
    "print(list3.count(123))  # 统计元素出现的次数\n",
    "print(list3)  #\n",
    "print(list3.index(123, 2, 7), list3.index(123, 3, 5))  # 从start-stop，123出现在的位置"
   ]
  },
  {
   "cell_type": "code",
   "execution_count": 29,
   "metadata": {},
   "outputs": [
    {
     "name": "stdout",
     "output_type": "stream",
     "text": [
      "[0, 2, 4, 6, 7, 12, 33, 55, 61, 78] [0, 2, 4, 6, 7, 12, 33, 55, 61]\n",
      "[78, 61, 55, 33] [33, 55, 61, 78]\n"
     ]
    }
   ],
   "source": [
    "# li[i:j:s] i默认-1，j默认-len(li)-1,s为step，默认1\n",
    "li = [12, 33, 2, 4, 6, 78, 0, 61, 55, 7]\n",
    "li.sort()  # li.sort(reverse = True) 翻转 = li[::-1]\n",
    "# li.argsort()  会报错\n",
    "print(li, li[:-1])  # 去除最后一个元素\n",
    "print(li[::-1][:4], li[len(li)-4:])  # 获取最后的几个元素"
   ]
  },
  {
   "cell_type": "code",
   "execution_count": 26,
   "metadata": {},
   "outputs": [
    {
     "name": "stdout",
     "output_type": "stream",
     "text": [
      "[12 33  2  4  6 78  0 61 55  7]\n",
      "[6 2 3 4 9 0 1 8 7 5]\n"
     ]
    }
   ],
   "source": [
    "import numpy as np\n",
    "x = np.array([12, 33, 2, 4, 6, 78, 0, 61, 55, 7])\n",
    "y = x.argsort()  # 获取的是排序的索引值；numpy中特有的函数，可以针对二维数组（矩阵）使用\n",
    "print(x)\n",
    "print(y)"
   ]
  },
  {
   "cell_type": "markdown",
   "metadata": {},
   "source": [
    "# ？P14 013：tuple/元组"
   ]
  },
  {
   "cell_type": "code",
   "execution_count": null,
   "metadata": {},
   "outputs": [],
   "source": [
    "# tuple和list的不同\n",
    "# tuple的标志特征是什么？\n",
    "# 有什么改变tuple的方法？"
   ]
  },
  {
   "cell_type": "code",
   "execution_count": 1,
   "metadata": {},
   "outputs": [
    {
     "name": "stdout",
     "output_type": "stream",
     "text": [
      "<class 'tuple'> <class 'list'>\n",
      "<class 'int'> <class 'tuple'>\n",
      "64 (8, 8, 8, 8, 8, 8, 8, 8)\n",
      "<class 'tuple'> <class 'int'>\n"
     ]
    }
   ],
   "source": [
    "# 元组 tuple\n",
    "# tuple与list的不同，tuple不可改变（str也一样），比如改变元素的值，重新排序sort()都是不可以的。\n",
    "print(type(()), type([]))\n",
    "print(type((1)), type((1,)))  # tuple的关键在于','，不是小括号\n",
    "print(8*(8), 8*(8,))  # 元组和数字的乘法，参照数字和数组，不是乘，而是复制\n",
    "temp = 1,\n",
    "print(type(temp), type(1,))  # ？？？"
   ]
  },
  {
   "cell_type": "code",
   "execution_count": 35,
   "metadata": {},
   "outputs": [
    {
     "data": {
      "text/plain": [
       "(1, 2, 3, 4, 5)"
      ]
     },
     "execution_count": 35,
     "metadata": {},
     "output_type": "execute_result"
    }
   ],
   "source": [
    "# 改变tuple的方法：\n",
    "temp=(1, 2, 4, 5)\n",
    "temp=temp[:2] + (3,) + temp[2:]  # 本质上这是一个新的tuple，被贴上了temp的变量名\n",
    "temp  #  原tuple还在，但是没有名字了，会被释放回收，相当于del temp(原tuple)"
   ]
  }
 ],
 "metadata": {
  "kernelspec": {
   "display_name": "Python 3",
   "language": "python",
   "name": "python3"
  },
  "language_info": {
   "codemirror_mode": {
    "name": "ipython",
    "version": 3
   },
   "file_extension": ".py",
   "mimetype": "text/x-python",
   "name": "python",
   "nbconvert_exporter": "python",
   "pygments_lexer": "ipython3",
   "version": "3.7.3"
  }
 },
 "nbformat": 4,
 "nbformat_minor": 2
}
