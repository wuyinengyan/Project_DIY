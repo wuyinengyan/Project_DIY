{
 "cells": [
  {
   "cell_type": "markdown",
   "metadata": {},
   "source": [
    "# P34 033：except/异常处理、raise"
   ]
  },
  {
   "cell_type": "code",
   "execution_count": null,
   "metadata": {},
   "outputs": [],
   "source": [
    "# raise主动引发异常"
   ]
  },
  {
   "cell_type": "code",
   "execution_count": 3,
   "metadata": {},
   "outputs": [
    {
     "name": "stdout",
     "output_type": "stream",
     "text": [
      "未知类型异常\n"
     ]
    }
   ],
   "source": [
    "# 自己故意引出异常？？适用于病毒——栽赃、迷惑？\n",
    "# raise ZeroDivisionError(\"除数为零的异常\")\n",
    "try:\n",
    "    raise Exception(\"未知类型异常\")\n",
    "except Exception as result:\n",
    "    print(result)"
   ]
  },
  {
   "cell_type": "markdown",
   "metadata": {},
   "source": [
    "# P35 034：while+else"
   ]
  },
  {
   "cell_type": "code",
   "execution_count": null,
   "metadata": {},
   "outputs": [],
   "source": [
    "# while/for + else"
   ]
  },
  {
   "cell_type": "code",
   "execution_count": 4,
   "metadata": {},
   "outputs": [
    {
     "name": "stdout",
     "output_type": "stream",
     "text": [
      "请输入一个数：88\n",
      "88最大的约数是44\n"
     ]
    }
   ],
   "source": [
    "# 求一个数的最大公约数\n",
    "def CalMaxFactor(num):\n",
    "    count = num // 2\n",
    "    while count > 1:\n",
    "        if num % count==0:\n",
    "            print(\"%d最大的约数是%d\" % (num, count))\n",
    "            break\n",
    "        count -= 1\n",
    "    else:  # 只有while正常循环结束，才会触发，break不会触发\n",
    "        print(\"%d是素数！\" % num)\n",
    "CalMaxFactor(int(input(\"请输入一个数：\")))"
   ]
  },
  {
   "cell_type": "markdown",
   "metadata": {},
   "source": [
    "# P36 035 EasyGui"
   ]
  },
  {
   "cell_type": "code",
   "execution_count": null,
   "metadata": {},
   "outputs": [],
   "source": [
    "# !pip install easygui\n",
    "# 弹出框、选择框、选择弹出框"
   ]
  },
  {
   "cell_type": "code",
   "execution_count": 19,
   "metadata": {},
   "outputs": [
    {
     "name": "stdout",
     "output_type": "stream",
     "text": [
      "[0]\n",
      "再见\n"
     ]
    }
   ],
   "source": [
    "import easygui as eg\n",
    "# re = eg.msgbox(\"我是一个弹出框！\")\n",
    "re = eg.choicebox(\"我是一个选择框\", \"请选择\", [\"你好\",\"谢谢\",\"再见\"])\n",
    "# re = eg.ccbox(\"我是一个可以选择的弹出框\", \"确定吗\")  # Continue:True Cancel:False\n",
    "print(re)"
   ]
  },
  {
   "cell_type": "markdown",
   "metadata": {},
   "source": [
    "# P37 036：类和对象1"
   ]
  },
  {
   "cell_type": "code",
   "execution_count": null,
   "metadata": {},
   "outputs": [],
   "source": [
    "# 继承\n",
    "# 多态：重写父类方法后，呈现的结果：调用不同类的同一个方法，得出不同的结果"
   ]
  },
  {
   "cell_type": "code",
   "execution_count": 5,
   "metadata": {},
   "outputs": [
    {
     "name": "stdout",
     "output_type": "stream",
     "text": [
      "[5, 2, 36, -9]\n",
      "[-9, 2, 5, 36]\n"
     ]
    }
   ],
   "source": [
    "class MyList(list):  # class首字母小写，MyList首字母要大写\n",
    "    pass  # 没有别的定义\n",
    "li = MyList()  # 初始化\n",
    "li.append(5)\n",
    "li.append(2)\n",
    "li.append(36)\n",
    "li.append(-9)  # 继承了list的append方法\n",
    "print(li)\n",
    "li.sort()  # 继承了list的sort方法\n",
    "print(li)"
   ]
  },
  {
   "cell_type": "markdown",
   "metadata": {},
   "source": [
    "# P38 037：类和对象2"
   ]
  },
  {
   "cell_type": "code",
   "execution_count": null,
   "metadata": {},
   "outputs": [],
   "source": [
    "# __init__的用法\n",
    "# 公有变量和私有变量"
   ]
  },
  {
   "cell_type": "code",
   "execution_count": null,
   "metadata": {},
   "outputs": [],
   "source": [
    "# 前面带两个下划线的私有变量: 只能在本类中进行内部调用, 实例对象和子类都不可以进行调用\n",
    "# 前面带一个下划线的私有变量: 与普通变量的唯一区别就是, 当使用from---import *时, 无法导入并使用该种类型的私有变量"
   ]
  },
  {
   "cell_type": "code",
   "execution_count": 31,
   "metadata": {},
   "outputs": [
    {
     "name": "stdout",
     "output_type": "stream",
     "text": [
      "古剑奇谭是一个好游戏\n",
      "公有\n",
      "私有\n"
     ]
    }
   ],
   "source": [
    "class Game:\n",
    "    def __init__(self, name):  # 相当于C中的构造函数\n",
    "        self.name = name\n",
    "    def like(self):\n",
    "        print(\"%s是一个好游戏\" % self.name)\n",
    "    __privateName = \"私有\"  # __代表私有变量，伪私有！\n",
    "    publicName = \"公有\"\n",
    "    def getName(self):\n",
    "        return self.__privateName\n",
    "game = Game(\"古剑奇谭\")\n",
    "game.like()\n",
    "# print(game.__privateName)  # AttributeError: 'Game' object has no attribute '__privateName'\n",
    "print(game.publicName)\n",
    "print(game.getName())\n",
    "# print(game._Game__privateName)  # 可以通过私有变量前面加_Game，调用私有变量（子类也可以），慎用！！！"
   ]
  },
  {
   "cell_type": "markdown",
   "metadata": {},
   "source": [
    "# P39 038：继承"
   ]
  },
  {
   "cell_type": "code",
   "execution_count": null,
   "metadata": {},
   "outputs": [],
   "source": [
    "# 继承并重写__init__\n",
    "# 多继承的优先级"
   ]
  },
  {
   "cell_type": "code",
   "execution_count": 1,
   "metadata": {},
   "outputs": [
    {
     "name": "stdout",
     "output_type": "stream",
     "text": [
      "cry\n",
      "Fight\n"
     ]
    }
   ],
   "source": [
    "class Father:\n",
    "    def __init__(self):\n",
    "        self.name = \"fly\"\n",
    "    def love(self):  # self不能少\n",
    "        print(\"Move\")\n",
    "class Mother:\n",
    "    def __init__(self):\n",
    "        self.name = \"run\"\n",
    "    def love(self):\n",
    "        print(\"Word\")\n",
    "class Brother:\n",
    "    def __init__(self):\n",
    "        self.name = \"cry\"\n",
    "    def love(self):\n",
    "        print(\"Fight\")\n",
    "class Child(Brother, Mother, Father):  # 多继承容易产生混乱，不推荐\n",
    "    def __init__(self):\n",
    "        # Father.__init__(self)  # 继承父类方法的内容：这里的self是Child的\n",
    "        super().__init__()  # 继承父类方法的内容——推荐，不需要Child的self参数\n",
    "        self.type = \"crawel\"\n",
    "c = Child()\n",
    "print(c.name)  # 优先继承第一个\n",
    "c.love()  # 优先继承第一个"
   ]
  },
  {
   "cell_type": "markdown",
   "metadata": {},
   "source": [
    "# P40 039：组合"
   ]
  },
  {
   "cell_type": "code",
   "execution_count": null,
   "metadata": {},
   "outputs": [],
   "source": [
    "# 类的组合"
   ]
  },
  {
   "cell_type": "code",
   "execution_count": 3,
   "metadata": {},
   "outputs": [
    {
     "name": "stdout",
     "output_type": "stream",
     "text": [
      "院子里共有27只鸡，12只兔子。\n"
     ]
    }
   ],
   "source": [
    "# 鸡兔\n",
    "class Chiken:\n",
    "    def __init__(self, num):\n",
    "        self.num = num\n",
    "class Rabbit:\n",
    "    def __init__(self, num):\n",
    "        self.num = num\n",
    "class Courtyard:\n",
    "    def __init__(self, chiken, rabbit):\n",
    "        self.chiken = Chiken(chiken)  # 类的组合\n",
    "        self.rabbit = Rabbit(rabbit)\n",
    "    def PrintCount(self):\n",
    "        print(\"院子里共有%d只鸡，%d只兔子。\" % (self.chiken.num, self.rabbit.num))\n",
    "\n",
    "ct = Courtyard(27, 12)\n",
    "ct.PrintCount()"
   ]
  },
  {
   "cell_type": "markdown",
   "metadata": {},
   "source": [
    "# P41 040：类的BIF"
   ]
  },
  {
   "cell_type": "code",
   "execution_count": null,
   "metadata": {},
   "outputs": [],
   "source": [
    "# issubclass(class, classinfo)\n",
    "# isinstance(object，classinfo)\n",
    "# hasattr、getattr、setattr、delattr\n",
    "# __init__中重新定义有关属性的操作；property"
   ]
  },
  {
   "cell_type": "code",
   "execution_count": 7,
   "metadata": {},
   "outputs": [
    {
     "name": "stdout",
     "output_type": "stream",
     "text": [
      "True True\n",
      "False True\n"
     ]
    }
   ],
   "source": [
    "# issubclass(class, classinfo)\n",
    "# 1.一个类可以认为是自己的子类 2.classinfo可以是类或类的元组\n",
    "class A:\n",
    "    pass\n",
    "class B(A):\n",
    "    pass\n",
    "print(issubclass(B, (A, B)),issubclass(B, object))  # object默认是所有类的基类\n",
    "# isinstance(object，classinfo)\n",
    "# 1.object是classinfo的实例化对象 2.object是classinfo子类的实例化对象 3.classinfo可以是类或类的元组\n",
    "a = A()\n",
    "b = B()\n",
    "print(isinstance(a, B),isinstance(b, A)) "
   ]
  },
  {
   "cell_type": "code",
   "execution_count": 14,
   "metadata": {},
   "outputs": [
    {
     "name": "stdout",
     "output_type": "stream",
     "text": [
      "True True\n",
      "False True\n",
      "给属性赋值，如果属性不存在，这新增一个 None\n"
     ]
    }
   ],
   "source": [
    "class C:\n",
    "    gl_attr = None  # \"gl_attr\" 是类属性\n",
    "    \n",
    "    def __init__(self, attr):\n",
    "        self.attr = attr\n",
    "c = C(\"name\")\n",
    "print(hasattr(c, \"attr\"), hasattr(c, \"gl_attr\"))  # \"attr\" 实例属性，必须带引号，否则会被认为是变量\n",
    "print(hasattr(C, \"attr\"), hasattr(C, \"gl_attr\"))  # \"gl_attr\" 是类属性\n",
    "getattr(c, \"attr1\", \"这个参数是可选的，属性不存在时返回\")  # 否则出现AttributeError: \n",
    "setattr(c, \"attr2\", \"给属性赋值，如果属性不存在，这新增一个\")\n",
    "print(c.attr2, C.gl_attr)\n",
    "# delattr(c,\"attr2\")  # 删除属性"
   ]
  },
  {
   "cell_type": "code",
   "execution_count": null,
   "metadata": {},
   "outputs": [],
   "source": [
    "class D:\n",
    "    def __init__(self, name=\"nice\"):\n",
    "        self.name = name\n",
    "    def getName(self):\n",
    "        return self.name\n",
    "    def setName(self, value):\n",
    "        self.name = value\n",
    "    def delName(self):\n",
    "        del self.name\n",
    "    nameAttr = property(getName, setName, delName)\n",
    "# property把D中关于Name属性的方法封装了起来，\n",
    "# 调用时，只需给用户提供nameAttr，程序员可以自由变更getName，setName，delName的名称。\n",
    "d = D()\n",
    "d.nameAttr = \"nike\"\n",
    "d.nameAttr\n",
    "# del d.nameAttr"
   ]
  },
  {
   "cell_type": "markdown",
   "metadata": {},
   "source": [
    "# ！P42 041 __new__和__init__、cls和self"
   ]
  },
  {
   "cell_type": "code",
   "execution_count": null,
   "metadata": {},
   "outputs": [],
   "source": [
    "# ！！！__new__和__init__：\n",
    "# __new__：创建对象时调用，返回当前对象的一个实例（constructor构造器）它作为构造函数用于创建对象，是一个工厂函数，专用于生产实例对象\n",
    "# __init__：创建完对象后调用，初始化对象实例，返回None（initializer初始化器）\n",
    "# 关键的一点：__new__返回当前对象的一个实例，而__init__返回None\n",
    "# 从函数参数方面分析：\n",
    "# 1、new接收的参数为cls，因为此前还无实例，接收类对象生成实例，属于类级别方法\n",
    "# 2、调用__init__的时候，实例已经存在，因此__init__接受self作为第一个参数并对该实例进行必要的初始化操作，它是实例级别的方法。\n",
    "# 3、__init__方法中除了self之外定义的参数，都将与__new__方法中除cls参数之外的参数是必须保持一致或者等效。\n",
    "# ！！！cls和self：\n",
    "# cls和self其实只是一种命名习惯，分别表示类、类的实例\n",
    "# cls作为类方法（如_new_）第一个参数用来表示类本身，\n",
    "# self作为类实例方法（如_init_）第一个参数用来表示类的实例"
   ]
  },
  {
   "cell_type": "code",
   "execution_count": 5,
   "metadata": {},
   "outputs": [
    {
     "name": "stdout",
     "output_type": "stream",
     "text": [
      "HELLO\n"
     ]
    }
   ],
   "source": [
    "# 重写__new__一定要return super().__new__(cls)\n",
    "# 否则Python的解释器的得不到分配了空间的对象引用，就不会调用对象的初始化方法\n",
    "class CapStr(str):\n",
    "    def __new__(self, string):\n",
    "        string = string.upper()\n",
    "        return str.__new__(cls, string)\n",
    "        # return string  # 不可以，看似结果一样，但是不会再触发父类的init初始化方法\n",
    "print(CapStr(\"Hello\"))"
   ]
  }
 ],
 "metadata": {
  "kernelspec": {
   "display_name": "Python 3",
   "language": "python",
   "name": "python3"
  },
  "language_info": {
   "codemirror_mode": {
    "name": "ipython",
    "version": 3
   },
   "file_extension": ".py",
   "mimetype": "text/x-python",
   "name": "python",
   "nbconvert_exporter": "python",
   "pygments_lexer": "ipython3",
   "version": "3.7.3"
  }
 },
 "nbformat": 4,
 "nbformat_minor": 2
}
