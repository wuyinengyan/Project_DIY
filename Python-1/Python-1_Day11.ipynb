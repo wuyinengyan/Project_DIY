{
 "cells": [
  {
   "cell_type": "code",
   "execution_count": null,
   "metadata": {},
   "outputs": [],
   "source": [
    "# 085-089这5节是关于游戏play_ball的制作，200行代码量，但是需要图片和声音的素材\n",
    "# 观看视频，了解一个完整游戏的制作思路，不想耗费太多精力在pygame上。"
   ]
  },
  {
   "cell_type": "markdown",
   "metadata": {},
   "source": [
    "# P090 089：pygame——play_ball"
   ]
  },
  {
   "cell_type": "code",
   "execution_count": 1,
   "metadata": {},
   "outputs": [],
   "source": [
    "# if event.type == pygame.QUIT:\n",
    "#             pygame.quit()  # 不会在报错。\n",
    "#             sys.exit()"
   ]
  },
  {
   "cell_type": "code",
   "execution_count": null,
   "metadata": {},
   "outputs": [],
   "source": [
    "# import traceback\n",
    "\n",
    "# if __name__ = \"__mian__\":\n",
    "#     try:\n",
    "#         main()\n",
    "#     except SystemExit:  # 如果是系统异常，则不进行任何操作\n",
    "#         pass\n",
    "#     except:\n",
    "#         traceback.print_exc()  # 打印出错误原因\n",
    "#         pygame.quit()\n",
    "#         input()  # 等待用户输入，控制台不会关闭"
   ]
  }
 ],
 "metadata": {
  "kernelspec": {
   "display_name": "Python 3",
   "language": "python",
   "name": "python3"
  },
  "language_info": {
   "codemirror_mode": {
    "name": "ipython",
    "version": 3
   },
   "file_extension": ".py",
   "mimetype": "text/x-python",
   "name": "python",
   "nbconvert_exporter": "python",
   "pygments_lexer": "ipython3",
   "version": "3.7.3"
  }
 },
 "nbformat": 4,
 "nbformat_minor": 2
}
