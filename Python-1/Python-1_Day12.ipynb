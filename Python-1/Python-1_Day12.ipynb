{
 "cells": [
  {
   "cell_type": "code",
   "execution_count": null,
   "metadata": {},
   "outputs": [],
   "source": [
    "# 090-096这7节是关于游戏play_flight的制作，800行代码量，但是需要图片和声音的素材\n",
    "# 观看视频，了解一个完整游戏的制作思路，不想耗费太多精力在pygame上。"
   ]
  },
  {
   "cell_type": "markdown",
   "metadata": {},
   "source": [
    "# P092 091：pygame——play_flight"
   ]
  },
  {
   "cell_type": "code",
   "execution_count": 2,
   "metadata": {},
   "outputs": [],
   "source": [
    "# # 用于延迟\n",
    "# delay = 100\n",
    "\n",
    "# # 5的倍数时，切换图像\n",
    "# if not(delay % 5):\n",
    "#     switch_image = not switch_image\n",
    "\n",
    "# delay -= 1\n",
    "# if not delay:  # 到0再循环\n",
    "#     delay = 100"
   ]
  }
 ],
 "metadata": {
  "kernelspec": {
   "display_name": "Python 3",
   "language": "python",
   "name": "python3"
  },
  "language_info": {
   "codemirror_mode": {
    "name": "ipython",
    "version": 3
   },
   "file_extension": ".py",
   "mimetype": "text/x-python",
   "name": "python",
   "nbconvert_exporter": "python",
   "pygments_lexer": "ipython3",
   "version": "3.7.3"
  }
 },
 "nbformat": 4,
 "nbformat_minor": 2
}
