{
 "cells": [
  {
   "cell_type": "markdown",
   "metadata": {},
   "source": [
    "# P16 015：format、%"
   ]
  },
  {
   "cell_type": "code",
   "execution_count": null,
   "metadata": {},
   "outputs": [],
   "source": [
    "# format\n",
    "# %"
   ]
  },
  {
   "cell_type": "code",
   "execution_count": 9,
   "metadata": {},
   "outputs": [
    {
     "name": "stdout",
     "output_type": "stream",
     "text": [
      "{0} sss 27.7GB 27.658000GB\n"
     ]
    }
   ],
   "source": [
    "a = \"{{0}}\".format(\"无意义\")  # {{}} （类似双斜杠\\\\）第一层是解释的作用\n",
    "b = \"sss\".format(\"无意义\")  # 后面的部分无意义\n",
    "c = \"{0:.1f}{1}\".format(27.658, \"GB\")  # 小数点后面的位数，默认四舍五入\n",
    "d = \"{0:f}{1}\".format(27.658, \"GB\")  # f表示浮点型，默认是6位\n",
    "print(a, b, c, d)"
   ]
  },
  {
   "cell_type": "code",
   "execution_count": 4,
   "metadata": {},
   "outputs": [
    {
     "name": "stdout",
     "output_type": "stream",
     "text": [
      "a b c\n",
      "3327.658000\n",
      "00327.7\n",
      "'88        '\n"
     ]
    }
   ],
   "source": [
    "a = \"%c %c %c\" % (97, 98, 99)  # %是转义字符，作用相当于.format\n",
    "b = \"%f\" % 3327.658\n",
    "c = \"%07.1f\" % 327.658  # 整个数字至少占用7位，小数位1位，四舍五入，7前的0表示用0补位\n",
    "d = \"%-10d\" % 88  # 10d表示用补位到10，-表示左对齐\n",
    "print(a + \"\\n\" + b + \"\\n\" + c + \"\\n\" + \"'\" + d + \"'\")\n",
    "# print(a, \"\\n\", b)  # ,默认输出空格"
   ]
  },
  {
   "cell_type": "markdown",
   "metadata": {},
   "source": [
    "# ！P17 016：List3"
   ]
  },
  {
   "cell_type": "code",
   "execution_count": null,
   "metadata": {},
   "outputs": [],
   "source": [
    "# sorted和sort的不同\n",
    "# reversed\n",
    "# ！！！enumerate和zip"
   ]
  },
  {
   "cell_type": "code",
   "execution_count": 26,
   "metadata": {},
   "outputs": [
    {
     "name": "stdout",
     "output_type": "stream",
     "text": [
      "[33, 5, 63, 12, -9, -53, 87] [-53, -9, 5, 12, 33, 63, 87]\n"
     ]
    }
   ],
   "source": [
    "li = [33, 5, 63, 12, -9, -53, 87]\n",
    "li2 = sorted(li)  # sorted和sort()不同，sort()会改变li本身\n",
    "print(li, li2)"
   ]
  },
  {
   "cell_type": "code",
   "execution_count": 31,
   "metadata": {},
   "outputs": [
    {
     "name": "stdout",
     "output_type": "stream",
     "text": [
      "<list_reverseiterator object at 0x0000000005723748>\n",
      "[87, -53, -9, 12, 63, 5, 33]\n",
      "[(0, 33), (1, 5), (2, 63), (3, 12), (4, -9), (5, -53), (6, 87)]\n"
     ]
    }
   ],
   "source": [
    "li3 = reversed(li)\n",
    "li4 = list(li3)\n",
    "li5 = list(enumerate(li))  # 很好用的方法！！！enumerate是特殊的zip\n",
    "print(li3)\n",
    "print(li4)\n",
    "print(li5)  # 内部都是元组的数组"
   ]
  },
  {
   "cell_type": "code",
   "execution_count": 2,
   "metadata": {},
   "outputs": [
    {
     "name": "stdout",
     "output_type": "stream",
     "text": [
      "[(1, 'a'), (2, 'b'), (3, 'c'), (4, 'd'), (5, 'e')]\n"
     ]
    }
   ],
   "source": [
    "li1 = [1, 2, 3, 4, 5, 6, 7]\n",
    "#li2 = [1, 2, 3, 4, 5]\n",
    "li2 = [\"a\", \"b\", \"c\", \"d\", \"e\"]  # 必须加双引号\n",
    "print(list(zip(li1,li2)))  # 很好用的方法"
   ]
  },
  {
   "cell_type": "markdown",
   "metadata": {},
   "source": [
    "# P19 018：实参、形参、可变参数"
   ]
  },
  {
   "cell_type": "code",
   "execution_count": null,
   "metadata": {},
   "outputs": [],
   "source": [
    "# 形参和实参\n",
    "# 可变参数"
   ]
  },
  {
   "cell_type": "code",
   "execution_count": 2,
   "metadata": {},
   "outputs": [
    {
     "name": "stdout",
     "output_type": "stream",
     "text": [
      "传递进来的叫实参\n",
      "Help on function paramtest in module __main__:\n",
      "\n",
      "paramtest(param)\n",
      "    # 函数定义过程中的name叫形参\n",
      "\n"
     ]
    }
   ],
   "source": [
    "# 函数定义过程中的name叫形参\n",
    "def paramtest(param):  # param是形参\n",
    "    print(\"传递进来的叫\" + param)\n",
    "paramtest(\"实参\")  # 实参是实参\n",
    "paramtest.__doc__\n",
    "help(paramtest)"
   ]
  },
  {
   "cell_type": "code",
   "execution_count": 54,
   "metadata": {},
   "outputs": [
    {
     "name": "stdout",
     "output_type": "stream",
     "text": [
      "参数数： 4\n",
      "虽千万人吾往矣\n",
      "孟子\n"
     ]
    }
   ],
   "source": [
    "def paramtest1(*params, exp = \"孟子\"):  #可变参数，后面的参数，最好加上默认值\n",
    "    print(\"参数个数：\",len(params))\n",
    "    print(params[2])\n",
    "    print(exp)\n",
    "paramtest1(\"自反而缩\", \"，\", \"虽千万人吾往矣\", \"。\")"
   ]
  },
  {
   "cell_type": "markdown",
   "metadata": {},
   "source": [
    "# P20 019：global/全局变量"
   ]
  },
  {
   "cell_type": "code",
   "execution_count": null,
   "metadata": {},
   "outputs": [],
   "source": [
    "# global和局部变量"
   ]
  },
  {
   "cell_type": "code",
   "execution_count": 3,
   "metadata": {},
   "outputs": [
    {
     "data": {
      "text/plain": [
       "(88, 'byebye', 'sayounara')"
      ]
     },
     "execution_count": 3,
     "metadata": {},
     "output_type": "execute_result"
    }
   ],
   "source": [
    "def back():\n",
    "    return 88, \"byebye\", \"sayounara\"  # 多返回值，当元组处理\n",
    "back()  # 默认返回的是元组"
   ]
  },
  {
   "cell_type": "code",
   "execution_count": 10,
   "metadata": {},
   "outputs": [
    {
     "name": "stdout",
     "output_type": "stream",
     "text": [
      "88 44\n"
     ]
    }
   ],
   "source": [
    "invar = var = 88  # 必须定义invar，否则change中使用时会报错NameError: name 'invar' is not defined\n",
    "def change():\n",
    "    invar = 44  # 局部变量，和外部的invar同名，但是存储位置不同\n",
    "    # global var = 44   # SyntaxError: invalid syntax\n",
    "    global var  # 强制为全局变量\n",
    "    var = 44\n",
    "change()\n",
    "print(invar, var)"
   ]
  },
  {
   "cell_type": "markdown",
   "metadata": {},
   "source": [
    "# ？P21 020：闭包/Closure、nonlocal"
   ]
  },
  {
   "cell_type": "code",
   "execution_count": null,
   "metadata": {},
   "outputs": [],
   "source": [
    "# 闭包\n",
    "# ？？？nonlocal和global的不同：\n",
    "# 1.两者的功能不同。global修饰后该变量是全局变量，对该变量进行修改就是修改全局变量，\n",
    "# 而nonlocal表示该变量是上一级函数中的局部变量，如果上一级函数中不存在该变量，会报错（最上层的函数使用nonlocal必定报错）。\n",
    "# 2.两者使用的范围不同。global关键字可以用在任何地方，即使之前未定义该变量，global修饰后也可以直接使用\n",
    "#而nonlocal关键字只能用于嵌套函数中，并且外层函数中定义了相应的局部变量，否则会报错\n",
    "# 3.nonlocal不能声明全局变量"
   ]
  },
  {
   "cell_type": "code",
   "execution_count": 7,
   "metadata": {},
   "outputs": [
    {
     "name": "stdout",
     "output_type": "stream",
     "text": [
      "<function fun1.<locals>.fun2 at 0x00000000058FCD08>\n",
      "<class 'function'>\n",
      "48\n"
     ]
    }
   ],
   "source": [
    "def fun1(x):\n",
    "    def fun2(y):\n",
    "        return x * y\n",
    "    return fun2  # 返回的是一个方法，闭包\n",
    "print(fun1(6))\n",
    "print(type(fun1(6)))  # 返回类型是function\n",
    "print(fun1(6)(8))  # 多元函数\n",
    "# print(fun2(8))  #NameError: name 'fun2' is not defined  fun2被封闭在fun1中"
   ]
  },
  {
   "cell_type": "code",
   "execution_count": 10,
   "metadata": {},
   "outputs": [
    {
     "ename": "UnboundLocalError",
     "evalue": "local variable 'x' referenced before assignment",
     "output_type": "error",
     "traceback": [
      "\u001b[1;31m---------------------------------------------------------------------------\u001b[0m",
      "\u001b[1;31mUnboundLocalError\u001b[0m                         Traceback (most recent call last)",
      "\u001b[1;32m<ipython-input-10-20ec6ee6ccfe>\u001b[0m in \u001b[0;36m<module>\u001b[1;34m\u001b[0m\n\u001b[0;32m      7\u001b[0m         \u001b[1;32mreturn\u001b[0m \u001b[0mx\u001b[0m\u001b[1;33m\u001b[0m\u001b[1;33m\u001b[0m\u001b[0m\n\u001b[0;32m      8\u001b[0m     \u001b[1;32mreturn\u001b[0m \u001b[0mfun2\u001b[0m\u001b[1;33m(\u001b[0m\u001b[1;33m)\u001b[0m\u001b[1;33m\u001b[0m\u001b[1;33m\u001b[0m\u001b[0m\n\u001b[1;32m----> 9\u001b[1;33m \u001b[0mfun1\u001b[0m\u001b[1;33m(\u001b[0m\u001b[1;33m)\u001b[0m\u001b[1;33m\u001b[0m\u001b[1;33m\u001b[0m\u001b[0m\n\u001b[0m",
      "\u001b[1;32m<ipython-input-10-20ec6ee6ccfe>\u001b[0m in \u001b[0;36mfun1\u001b[1;34m()\u001b[0m\n\u001b[0;32m      6\u001b[0m         \u001b[0mx\u001b[0m \u001b[1;33m*=\u001b[0m\u001b[0mx\u001b[0m  \u001b[1;31m# UnboundLocalError: local variable 'x' referenced before assignment\u001b[0m\u001b[1;33m\u001b[0m\u001b[1;33m\u001b[0m\u001b[0m\n\u001b[0;32m      7\u001b[0m         \u001b[1;32mreturn\u001b[0m \u001b[0mx\u001b[0m\u001b[1;33m\u001b[0m\u001b[1;33m\u001b[0m\u001b[0m\n\u001b[1;32m----> 8\u001b[1;33m     \u001b[1;32mreturn\u001b[0m \u001b[0mfun2\u001b[0m\u001b[1;33m(\u001b[0m\u001b[1;33m)\u001b[0m\u001b[1;33m\u001b[0m\u001b[1;33m\u001b[0m\u001b[0m\n\u001b[0m\u001b[0;32m      9\u001b[0m \u001b[0mfun1\u001b[0m\u001b[1;33m(\u001b[0m\u001b[1;33m)\u001b[0m\u001b[1;33m\u001b[0m\u001b[1;33m\u001b[0m\u001b[0m\n",
      "\u001b[1;32m<ipython-input-10-20ec6ee6ccfe>\u001b[0m in \u001b[0;36mfun2\u001b[1;34m()\u001b[0m\n\u001b[0;32m      4\u001b[0m     \u001b[0mx\u001b[0m \u001b[1;33m=\u001b[0m \u001b[1;36m5\u001b[0m\u001b[1;33m\u001b[0m\u001b[1;33m\u001b[0m\u001b[0m\n\u001b[0;32m      5\u001b[0m     \u001b[1;32mdef\u001b[0m \u001b[0mfun2\u001b[0m\u001b[1;33m(\u001b[0m\u001b[1;33m)\u001b[0m\u001b[1;33m:\u001b[0m\u001b[1;33m\u001b[0m\u001b[1;33m\u001b[0m\u001b[0m\n\u001b[1;32m----> 6\u001b[1;33m         \u001b[0mx\u001b[0m \u001b[1;33m*=\u001b[0m\u001b[0mx\u001b[0m  \u001b[1;31m# UnboundLocalError: local variable 'x' referenced before assignment\u001b[0m\u001b[1;33m\u001b[0m\u001b[1;33m\u001b[0m\u001b[0m\n\u001b[0m\u001b[0;32m      7\u001b[0m         \u001b[1;32mreturn\u001b[0m \u001b[0mx\u001b[0m\u001b[1;33m\u001b[0m\u001b[1;33m\u001b[0m\u001b[0m\n\u001b[0;32m      8\u001b[0m     \u001b[1;32mreturn\u001b[0m \u001b[0mfun2\u001b[0m\u001b[1;33m(\u001b[0m\u001b[1;33m)\u001b[0m\u001b[1;33m\u001b[0m\u001b[1;33m\u001b[0m\u001b[0m\n",
      "\u001b[1;31mUnboundLocalError\u001b[0m: local variable 'x' referenced before assignment"
     ]
    }
   ],
   "source": [
    "# 在函数内部对变量赋值进行修改后，该变量就会被Python解释器认为是局部变量而非全局变量，\n",
    "# 当程序执行到x *= x的时候，x成为了局部变量，在执行return x时，因为x还没有定义，就会抛出UnboundLocalError\n",
    "def fun1():\n",
    "    x = 5\n",
    "    def fun2():\n",
    "        x *= x  # 不定义，直接使用变量x；UnboundLocalError: local variable 'x' referenced before assignment\n",
    "        return x\n",
    "    return fun2()\n",
    "fun1()"
   ]
  },
  {
   "cell_type": "code",
   "execution_count": 4,
   "metadata": {},
   "outputs": [
    {
     "data": {
      "text/plain": [
       "[25]"
      ]
     },
     "execution_count": 4,
     "metadata": {},
     "output_type": "execute_result"
    }
   ],
   "source": [
    "def fun1():\n",
    "    x = [5]\n",
    "    def fun2():\n",
    "        x[0] *= x[0]  # 这里调用的是数组中的一个元素，不是数组x本身\n",
    "        return x  # return x[0]:25\n",
    "    return fun2()\n",
    "fun1()"
   ]
  },
  {
   "cell_type": "code",
   "execution_count": 11,
   "metadata": {},
   "outputs": [
    {
     "data": {
      "text/plain": [
       "210"
      ]
     },
     "execution_count": 11,
     "metadata": {},
     "output_type": "execute_result"
    }
   ],
   "source": [
    "z = 7\n",
    "def fun1():\n",
    "    x = 5\n",
    "    y = 6\n",
    "    def fun2():\n",
    "        nonlocal x  # ？？？不能用global，name 'x' is not defined\n",
    "        x = x * y * z  # ？？？关键在于给x赋值\n",
    "        return x\n",
    "    return fun2()\n",
    "fun1()"
   ]
  },
  {
   "cell_type": "markdown",
   "metadata": {},
   "source": [
    "# ！P22 021 lambda/匿名函数、filter/过滤器、map/映射"
   ]
  },
  {
   "cell_type": "code",
   "execution_count": null,
   "metadata": {},
   "outputs": [],
   "source": [
    "# ！！！熟练使用lambda、filter、map"
   ]
  },
  {
   "cell_type": "code",
   "execution_count": 77,
   "metadata": {},
   "outputs": [
    {
     "data": {
      "text/plain": [
       "12"
      ]
     },
     "execution_count": 77,
     "metadata": {},
     "output_type": "execute_result"
    }
   ],
   "source": [
    "fun1 = lambda x, y : x * y \n",
    "fun1(3, 4)"
   ]
  },
  {
   "cell_type": "code",
   "execution_count": 94,
   "metadata": {},
   "outputs": [
    {
     "name": "stdout",
     "output_type": "stream",
     "text": [
      "[1, True]\n",
      "[-2, -1, 0, 1, 2, 3, 4]\n",
      "[0, 1, 3, 4, 5, 6]\n"
     ]
    }
   ],
   "source": [
    "# filter(function or None, iterable)   iterable迭代器，list、tuple等\n",
    "fun1 = filter(None, [1, 0, True, False])\n",
    "fun2 = map(lambda x : x-2, range(7))\n",
    "fun3 = filter(lambda x : x-2, range(7))\n",
    "print(list(fun1))  # None，则是直接过滤掉iterable中非True的数据\n",
    "print(list(fun2))  # 不过滤，返回处理后的数\n",
    "print(list(fun3))  # 过滤掉经过lambda处理过的False(即 2-2=0，过滤掉2)，返回原数"
   ]
  }
 ],
 "metadata": {
  "kernelspec": {
   "display_name": "Python 3",
   "language": "python",
   "name": "python3"
  },
  "language_info": {
   "codemirror_mode": {
    "name": "ipython",
    "version": 3
   },
   "file_extension": ".py",
   "mimetype": "text/x-python",
   "name": "python",
   "nbconvert_exporter": "python",
   "pygments_lexer": "ipython3",
   "version": "3.7.3"
  }
 },
 "nbformat": 4,
 "nbformat_minor": 2
}
