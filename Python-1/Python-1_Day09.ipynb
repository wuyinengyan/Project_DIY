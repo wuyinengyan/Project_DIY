{
 "cells": [
  {
   "cell_type": "markdown",
   "metadata": {},
   "source": [
    "# P072 071：Tkinter8——Cavas、Five-Pointed Star"
   ]
  },
  {
   "cell_type": "code",
   "execution_count": null,
   "metadata": {},
   "outputs": [],
   "source": [
    "# Cavas：画线、矩形、椭圆、圆\n",
    "# 绘制一个五角星"
   ]
  },
  {
   "cell_type": "code",
   "execution_count": 6,
   "metadata": {},
   "outputs": [],
   "source": [
    "from tkinter import *\n",
    "\n",
    "root = Tk()\n",
    "\n",
    "c = Canvas(root, width=200, height=100)\n",
    "c.pack()\n",
    "\n",
    "line1 = c.create_line(0, 25, 200, 25, fill=\"yellow\", width=3)\n",
    "line2 = c.create_line(100, 0, 100, 100, fill=\"gray\", dash=(4, 4))  # dash=(4, 4)每个4像素、空4像素，虚线\n",
    "rect1 = c.create_rectangle(50, 25, 150, 75, fill=\"blue\")\n",
    "c.create_text(100, 50, text=\"Victory!\")\n",
    "\n",
    "c.coords(line1, 0, 50, 200, 50)  # 移动线的位置\n",
    "c.itemconfig(rect1, fill=\"red\")  # 改变属性\n",
    "\n",
    "Button(root, text=\"Clear\", command=(lambda x=ALL:c.delete(x))).pack()\n",
    "\n",
    "mainloop()"
   ]
  },
  {
   "cell_type": "code",
   "execution_count": 12,
   "metadata": {},
   "outputs": [],
   "source": [
    "from tkinter import *\n",
    "\n",
    "root = Tk()\n",
    "\n",
    "c = Canvas(root, width=200, height=100)\n",
    "c.pack()\n",
    "\n",
    "c.create_rectangle(40, 20, 160, 80, fill=\"green\", dash=(4, 4))\n",
    "c.create_oval(40, 20, 160, 80, fill=\"red\")  # 椭圆是根据矩形来限定的\n",
    "c.create_oval(70, 20, 130, 80, fill=\"pink\")  # 圆形是特殊的椭圆\n",
    "\n",
    "mainloop()"
   ]
  },
  {
   "cell_type": "code",
   "execution_count": 22,
   "metadata": {},
   "outputs": [],
   "source": [
    "from tkinter import *\n",
    "import math as m\n",
    "\n",
    "root = Tk()\n",
    "\n",
    "c = Canvas(root, width=200, height=100)\n",
    "c.pack()\n",
    "\n",
    "# 定位中心点和半径\n",
    "center_x, center_y, r = 100, 50, 50\n",
    "\n",
    "points = [\n",
    "    # 第1个点\n",
    "    center_x - int(r*m.sin(2*m.pi/5)),\n",
    "    center_y - int(r*m.cos(2*m.pi/5)),\n",
    "    # 第2个点\n",
    "    center_x + int(r*m.sin(2*m.pi/5)),\n",
    "    center_y - int(r*m.cos(2*m.pi/5)),\n",
    "    # 第3个点\n",
    "    center_x - int(r*m.sin(m.pi/5)),\n",
    "    center_y + int(r*m.cos(m.pi/5)),\n",
    "    # 第4个点\n",
    "    center_x,\n",
    "    center_y - r,\n",
    "    # 第5个点\n",
    "    center_x + int(r*m.sin(m.pi/5)),\n",
    "    center_y + int(r*m.cos(m.pi/5)),\n",
    "]\n",
    "c.create_polygon(points, outline=\"red\", fill=\"red\")  # 依次连接各个点，会自动闭合；fill默认是黑色，fill=\"\"透明\n",
    "\n",
    "mainloop()"
   ]
  },
  {
   "cell_type": "markdown",
   "metadata": {},
   "source": [
    "# P073 072：Tkinter9——Cavas"
   ]
  },
  {
   "cell_type": "code",
   "execution_count": null,
   "metadata": {},
   "outputs": [],
   "source": [
    "# 用最小的圆，代表画笔的点，进而实现自由绘制\n",
    "# 可以利用不同图形的样式换行覆盖，形成更复杂的图形"
   ]
  },
  {
   "cell_type": "code",
   "execution_count": 139,
   "metadata": {},
   "outputs": [],
   "source": [
    "from tkinter import *\n",
    "\n",
    "root = Tk()\n",
    "\n",
    "c = Canvas(root, width=200, height=100)\n",
    "c.pack()\n",
    "\n",
    "def paint(event):\n",
    "    x1, y1 = (event.x), (event.y)\n",
    "    x2, y2 = (event.x), (event.y)\n",
    "    c.create_oval(x1, y1, x2, y2, fill=\"red\", outline=\"red\")\n",
    "c.bind(\"<B1-Motion>\", paint)  # 按住左键移动\n",
    "\n",
    "mainloop()"
   ]
  },
  {
   "cell_type": "markdown",
   "metadata": {},
   "source": [
    "# P074 073：Tkinter10——Menu"
   ]
  },
  {
   "cell_type": "code",
   "execution_count": null,
   "metadata": {},
   "outputs": [],
   "source": [
    "# Menu可以添加的控件：add_command、add_checkbutton、add_radiobutton\n",
    "# 右键弹出menu\n",
    "# 其他样式的Menu：Menubutton、OptionMunu\n",
    "# *把数组解包为\"one\", \"two\", \"three\""
   ]
  },
  {
   "cell_type": "code",
   "execution_count": 63,
   "metadata": {},
   "outputs": [],
   "source": [
    "from tkinter import *\n",
    "\n",
    "root = Tk()\n",
    "\n",
    "def sayhi():\n",
    "    print(\"Hello!\")\n",
    "\n",
    "menubar = Menu(root)\n",
    "\n",
    "# add_command、add_checkbutton\n",
    "cbVar1 = IntVar()\n",
    "cbVar2 = IntVar()\n",
    "onemenu = Menu(menubar, tearoff=False)  # tearoff=True，多一条虚线，可以分离弹出菜单\n",
    "onemenu.add_command(label=\"One1\")\n",
    "onemenu.add_command(label=\"One2\")\n",
    "onemenu.add_separator()  # 分割线\n",
    "onemenu.add_checkbutton(label=\"Btn1\", variable=cbVar1)\n",
    "onemenu.add_checkbutton(label=\"Btn2\", variable=cbVar2)\n",
    "menubar.add_cascade(label=\"One\", menu=onemenu)\n",
    "\n",
    "# add_radiobutton\n",
    "rbVar = IntVar()\n",
    "twomenu = Menu(menubar, tearoff=False)\n",
    "twomenu.add_command(label=\"Two1\")\n",
    "twomenu.add_command(label=\"Two2\")\n",
    "twomenu.add_command(label=\"Two3\")\n",
    "twomenu.add_radiobutton(label=\"Btn1\", variable=rbVar, value=1)\n",
    "twomenu.add_radiobutton(label=\"Btn2\", variable=rbVar, value=2)\n",
    "twomenu.add_radiobutton(label=\"Btn2\", variable=rbVar, value=3)\n",
    "menubar.add_cascade(label=\"Two\", menu=twomenu)\n",
    "\n",
    "# 右键弹出menu\n",
    "frame = Frame(root, width=512, height=512)\n",
    "frame.pack()\n",
    "def click(event):\n",
    "    menubar.post(event.x_root, event.y_root)    # menubar没有设置，默认tearoff=True\n",
    "frame.bind(\"<Button-3>\", click)  # 1左键2中间3右键\n",
    "\n",
    "# Menubutton:按钮弹出menu（没什么用）\n",
    "mb = Menubutton(root, text=\"弹出\", relief=RAISED)  # 默认浮起状态\n",
    "mb.pack()\n",
    "hidmenu = Menu(mb, tearoff=False)\n",
    "hidmenu.add_command(label=\"Hid1\")\n",
    "hidmenu.add_command(label=\"Hid2\")\n",
    "mb.config(menu=hidmenu)\n",
    "\n",
    "# OptionMunu（没什么用）\n",
    "variable = StringVar()\n",
    "options = [\"one\", \"two\", \"three\"]\n",
    "# variable.set(\"one\")\n",
    "# OptionMenu(root, variable, \"one\", \"two\", \"three\").pack()\n",
    "variable.set(options[0])\n",
    "OptionMenu(root, variable, *options).pack()  # *把数组解包为\"one\", \"two\", \"three\"\n",
    "\n",
    "root.config(menu=menubar)\n",
    "\n",
    "mainloop()"
   ]
  },
  {
   "cell_type": "markdown",
   "metadata": {},
   "source": [
    "# P075 074：Tkinter11——event"
   ]
  },
  {
   "cell_type": "code",
   "execution_count": null,
   "metadata": {},
   "outputs": [],
   "source": [
    "# 事件的绑定：不可缺少参数event；event的各种属性\n",
    "# Button和ButtonRelease的区别；Button点击就触发，ButtonRelease点击松开后才触发"
   ]
  },
  {
   "cell_type": "code",
   "execution_count": 79,
   "metadata": {},
   "outputs": [
    {
     "name": "stdout",
     "output_type": "stream",
     "text": [
      "60 34\n",
      "9***9\n",
      "***Shift_L\n",
      "***F7\n"
     ]
    }
   ],
   "source": [
    "from tkinter import *\n",
    "\n",
    "root = Tk()\n",
    "\n",
    "def btn_callback(event):\n",
    "    print(event.x, event.y)\n",
    "def k_callback(event):\n",
    "    print(event.char, end=\"***\")\n",
    "    print(event.keysym)  #可以显示其他按键，中文不行\n",
    "def m_callback(event):\n",
    "    print(event.x, event.y)\n",
    "\n",
    "frame = Frame(root, width=200, height=200)\n",
    "frame.bind(\"<Button-1>\", btn_callback)\n",
    "frame.bind(\"<Key>\", k_callback)\n",
    "# frame.bind(\"<Motion>\", m_callback)  # 移动鼠标触发\n",
    "frame.focus_set()  # 不可以少\n",
    "frame.pack()\n",
    "\n",
    "mainloop()"
   ]
  },
  {
   "cell_type": "markdown",
   "metadata": {},
   "source": [
    "# P076 075：Tkinter12——Spinbox、PanedWindow"
   ]
  },
  {
   "cell_type": "code",
   "execution_count": null,
   "metadata": {},
   "outputs": [],
   "source": [
    "# Spinbox\n",
    "# PanedWindow\n",
    "# 创建新窗口；属性值的设置top.attributes(\"-alpha\", 0.5)"
   ]
  },
  {
   "cell_type": "code",
   "execution_count": 87,
   "metadata": {},
   "outputs": [],
   "source": [
    "# Spinbox\n",
    "from tkinter import *\n",
    "\n",
    "root = Tk()\n",
    "\n",
    "Spinbox(root, from_=0, to=100, increment=10, wrap=True).pack()  # wrap循环\n",
    "Spinbox(root, values=(\"one\",\"two\",\"three\")).pack()\n",
    "\n",
    "mainloop()"
   ]
  },
  {
   "cell_type": "code",
   "execution_count": 104,
   "metadata": {},
   "outputs": [],
   "source": [
    "# PanedWindow\n",
    "from tkinter import *\n",
    "\n",
    "pw1 = PanedWindow(showhandle=True, sashrelief=SUNKEN, handlepad = 80)  # 默认：showhandle=False，orient=HORIZONTAL, handlepad=8\n",
    "pw1.pack(fill=BOTH, expand=1)  # 多分1份\n",
    "\n",
    "left = Label(pw1, text=\"left pane\")\n",
    "pw2 = PanedWindow(orient=VERTICAL, showhandle=True, sashrelief=RAISED)  # orient=VENTICAL水平分\n",
    "pw1.add(left)\n",
    "pw1.add(pw2)\n",
    "\n",
    "top = Label(pw2, text = \"top pane\")\n",
    "bottom = Label(pw2, text = \"bottom pane\")\n",
    "pw2.add(top)\n",
    "pw2.add(bottom)\n",
    "\n",
    "mainloop()"
   ]
  },
  {
   "cell_type": "code",
   "execution_count": 102,
   "metadata": {},
   "outputs": [],
   "source": [
    "# 创建新窗口；属性值的设置\n",
    "from tkinter import *\n",
    "\n",
    "root = Tk()\n",
    "\n",
    "def create():\n",
    "    top = Toplevel()\n",
    "    # top.attributes(alpha=0.5)  # 这样是不行的\n",
    "    top.attributes(\"-alpha\", 0.5)  # 设置透明度\n",
    "    top.title(\"NewForm\")\n",
    "    Message(top, text=\"新窗口\").pack()\n",
    "\n",
    "Button(root, text=\"创建新窗口\", command=create).pack()\n",
    "\n",
    "mainloop()"
   ]
  },
  {
   "cell_type": "markdown",
   "metadata": {},
   "source": [
    "# P077 076：Tkinter13——place"
   ]
  },
  {
   "cell_type": "code",
   "execution_count": 103,
   "metadata": {},
   "outputs": [],
   "source": [
    "# pack是按添加顺序排列组件\n",
    "# grid是按行/列形式排列组件（推荐，灵活）\n",
    "# place则允许指定组件的大小和位置\n",
    "# 同一个框架找那个pack和grid不要混用，但pack和place可以"
   ]
  },
  {
   "cell_type": "code",
   "execution_count": 106,
   "metadata": {},
   "outputs": [],
   "source": [
    "from tkinter import *\n",
    "\n",
    "root = Tk()\n",
    "\n",
    "listbox = Listbox(root)\n",
    "listbox.pack(fill=BOTH, expand=True)  # 子组件随着窗口的大小，完全填充\n",
    "\n",
    "for i in range(10):\n",
    "    listbox.insert(END, str(i))\n",
    "    \n",
    "mainloop()"
   ]
  },
  {
   "cell_type": "code",
   "execution_count": 116,
   "metadata": {},
   "outputs": [],
   "source": [
    "from tkinter import *\n",
    "\n",
    "root = Tk()\n",
    "\n",
    "# fill=BOTH/Y/X 效果各不同\n",
    "# Label(root, text=\"red\", bg=\"red\").pack(fill=BOTH, expand=True)\n",
    "# Label(root, text=\"green\", bg=\"green\").pack(fill=BOTH, expand=True)\n",
    "# Label(root, text=\"blue\", bg=\"blue\").pack(fill=BOTH, expand=True)\n",
    "Label(root, text=\"red\", bg=\"red\").pack(side=LEFT)\n",
    "Label(root, text=\"green\", bg=\"green\").pack(side=LEFT)\n",
    "Label(root, text=\"blue\", bg=\"blue\").pack(side=LEFT)\n",
    "    \n",
    "mainloop()"
   ]
  },
  {
   "cell_type": "code",
   "execution_count": 125,
   "metadata": {},
   "outputs": [],
   "source": [
    "from tkinter import *\n",
    "\n",
    "root = Tk()\n",
    "\n",
    "# relx子组件中心相对父组件中心位置：0左1右；relwidth相对父组件的宽度\n",
    "Label(root, bg=\"red\").place(relx=0.5, rely=0.5, relwidth=0.75, relheight=0.75, anchor=CENTER)\n",
    "Label(root, bg=\"green\").place(relx=0.5, rely=0.5, relwidth=0.5, relheight=0.5, anchor=CENTER)\n",
    "Label(root, bg=\"blue\").place(relx=0.5, rely=0.5, relwidth=0.25, relheight=0.25, anchor=CENTER)\n",
    "    \n",
    "mainloop()"
   ]
  },
  {
   "cell_type": "markdown",
   "metadata": {},
   "source": [
    "# P078 077：Tkinter14——messagebox、filedialog、colorchooser"
   ]
  },
  {
   "cell_type": "code",
   "execution_count": null,
   "metadata": {},
   "outputs": [],
   "source": [
    "# messagebox：消息框\n",
    "# filedialog：文件选择框\n",
    "# colorchooser：颜色弹出框"
   ]
  },
  {
   "cell_type": "code",
   "execution_count": 133,
   "metadata": {},
   "outputs": [
    {
     "name": "stdout",
     "output_type": "stream",
     "text": [
      "True\n"
     ]
    }
   ],
   "source": [
    "# messagebox\n",
    "from tkinter import *\n",
    "from tkinter import messagebox  # 不可少，messagebox是个单独的模块，不在__all__里面？\n",
    "\n",
    "print(messagebox.askokcancel(\"确定？\", \"你好吗？\"))\n",
    "\n",
    "mainloop()"
   ]
  },
  {
   "cell_type": "code",
   "execution_count": 135,
   "metadata": {},
   "outputs": [
    {
     "name": "stdout",
     "output_type": "stream",
     "text": [
      "C:/Users/Administrator/AAAPython3/3.jpg\n",
      "\n"
     ]
    }
   ],
   "source": [
    "# filedialog\n",
    "from tkinter import *\n",
    "from tkinter import filedialog\n",
    "\n",
    "root = Tk()\n",
    "\n",
    "def callback():\n",
    "    fileName = filedialog.askopenfilename(filetypes=[(\"JPG\", \".jpg\"), (\"Python\", \".py\")], )  # defaultextension=\".py\":自动添加后缀\n",
    "    print(fileName)\n",
    "\n",
    "Button(root, text=\"打开文件\", command=callback).pack()\n",
    "\n",
    "mainloop()"
   ]
  },
  {
   "cell_type": "code",
   "execution_count": 137,
   "metadata": {},
   "outputs": [
    {
     "name": "stdout",
     "output_type": "stream",
     "text": [
      "((101.39453125, 169.66015625, 220.859375), '#65a9dc')\n"
     ]
    }
   ],
   "source": [
    "# colorchooser\n",
    "from tkinter import *\n",
    "from tkinter import colorchooser\n",
    "\n",
    "root = Tk()\n",
    "\n",
    "def callback():\n",
    "    colorName = colorchooser.askcolor()\n",
    "    print(colorName)\n",
    "\n",
    "Button(root, text=\"选择颜色\", command=callback).pack()\n",
    "\n",
    "mainloop()"
   ]
  },
  {
   "cell_type": "markdown",
   "metadata": {},
   "source": [
    "# P079 078：pygame"
   ]
  },
  {
   "cell_type": "code",
   "execution_count": 140,
   "metadata": {},
   "outputs": [],
   "source": [
    "# !pip install pygame"
   ]
  },
  {
   "cell_type": "code",
   "execution_count": 144,
   "metadata": {},
   "outputs": [
    {
     "data": {
      "text/plain": [
       "'1.9.6'"
      ]
     },
     "execution_count": 144,
     "metadata": {},
     "output_type": "execute_result"
    }
   ],
   "source": [
    "import pygame\n",
    "\n",
    "pygame.ver"
   ]
  },
  {
   "cell_type": "markdown",
   "metadata": {},
   "source": [
    "# P080 079：Surface"
   ]
  },
  {
   "cell_type": "code",
   "execution_count": null,
   "metadata": {},
   "outputs": [],
   "source": [
    "# Surface是pygame中表示图像的对象，在pygame中，Surface就是图像"
   ]
  }
 ],
 "metadata": {
  "kernelspec": {
   "display_name": "Python 3",
   "language": "python",
   "name": "python3"
  },
  "language_info": {
   "codemirror_mode": {
    "name": "ipython",
    "version": 3
   },
   "file_extension": ".py",
   "mimetype": "text/x-python",
   "name": "python",
   "nbconvert_exporter": "python",
   "pygments_lexer": "ipython3",
   "version": "3.7.3"
  }
 },
 "nbformat": 4,
 "nbformat_minor": 2
}
