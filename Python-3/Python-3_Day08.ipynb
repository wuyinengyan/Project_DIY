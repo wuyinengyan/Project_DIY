{
 "cells": [
  {
   "cell_type": "markdown",
   "metadata": {},
   "source": [
    "# 函数"
   ]
  },
  {
   "cell_type": "code",
   "execution_count": 2,
   "metadata": {},
   "outputs": [
    {
     "name": "stdout",
     "output_type": "stream",
     "text": [
      "7\n",
      "(3, 5)\n"
     ]
    }
   ],
   "source": [
    "# keyword-only参数（Python3引入）\n",
    "# 如果在一个位置可变参数后，出现普通参数，实际上是keyword-only参数\n",
    "def fn(*args, x):\n",
    "    print(x)\n",
    "    print(args)\n",
    "\n",
    "fn(3, 5, x=7)  # x是不是用关键字参数就不可能拿到实参"
   ]
  },
  {
   "cell_type": "code",
   "execution_count": 3,
   "metadata": {},
   "outputs": [
    {
     "ename": "SyntaxError",
     "evalue": "invalid syntax (<ipython-input-3-3b0f9c8972a7>, line 1)",
     "output_type": "error",
     "traceback": [
      "\u001b[1;36m  File \u001b[1;32m\"<ipython-input-3-3b0f9c8972a7>\"\u001b[1;36m, line \u001b[1;32m1\u001b[0m\n\u001b[1;33m    def fn(**kwargs, x)  #\u001b[0m\n\u001b[1;37m                     ^\u001b[0m\n\u001b[1;31mSyntaxError\u001b[0m\u001b[1;31m:\u001b[0m invalid syntax\n"
     ]
    }
   ],
   "source": [
    "# def fn(**kwargs, x)  # SyntaxError\n",
    "#     print(x)"
   ]
  },
  {
   "cell_type": "code",
   "execution_count": 5,
   "metadata": {},
   "outputs": [
    {
     "name": "stdout",
     "output_type": "stream",
     "text": [
      "4 5\n"
     ]
    }
   ],
   "source": [
    "def fn(*, x, y):  # * 没有意义，这种写法单纯强行要求x,y必须是keyword-only参数\n",
    "    print(x, y)\n",
    "    \n",
    "fn(x=4, y=5)    \n",
    "# fn(6, x=4, y=5)  # TypeError"
   ]
  },
  {
   "cell_type": "markdown",
   "metadata": {},
   "source": [
    "# 闭包"
   ]
  },
  {
   "cell_type": "code",
   "execution_count": 6,
   "metadata": {},
   "outputs": [
    {
     "name": "stdout",
     "output_type": "stream",
     "text": [
      "<function counter.<locals>.inner at 0x0000000005B9CD08>\n",
      "1 2\n",
      "3\n"
     ]
    }
   ],
   "source": [
    "def counter():\n",
    "    c = [0]  # 自由变量：未在本地作用域中定义的变量。如定义在内层函数外的变量\n",
    "    def inner():\n",
    "        c[0] += 1  # 调用了函数外部的自由变量，形成了闭包\n",
    "        return c[0]\n",
    "    return inner\n",
    "\n",
    "foo = counter()  # callable|function\n",
    "print(foo)\n",
    "print(foo(), foo())\n",
    "c = 200  # 外部变量，不会影响到闭包里面的自由变量\n",
    "print(foo())"
   ]
  },
  {
   "cell_type": "code",
   "execution_count": null,
   "metadata": {},
   "outputs": [],
   "source": [
    "global  # 全局变量 != 外层函数变量\n",
    "nonlocal  # 上一级的局部变量 ！= 全局变量"
   ]
  },
  {
   "cell_type": "code",
   "execution_count": 9,
   "metadata": {},
   "outputs": [
    {
     "name": "stdout",
     "output_type": "stream",
     "text": [
      "([],)\n",
      "[100]\n",
      "([100],)\n",
      "[100, 100]\n",
      "([100, 100],)\n"
     ]
    }
   ],
   "source": [
    "# 缺省值的作用域\n",
    "def foo(xyz=[]):\n",
    "    xyz.append(100)\n",
    "    print(xyz)\n",
    "\n",
    "    \n",
    "print(foo.__defaults__)  # 返回的是tuple\n",
    "foo()\n",
    "print(foo.__defaults__)\n",
    "foo()\n",
    "print(foo.__defaults__)\n",
    "# 不是xyz造成的，foo.__defaults__这个元组并没有变化"
   ]
  },
  {
   "cell_type": "markdown",
   "metadata": {},
   "source": [
    "# 变量名解析原则LEGB"
   ]
  },
  {
   "cell_type": "code",
   "execution_count": null,
   "metadata": {},
   "outputs": [],
   "source": [
    "# Local，本地作用域、局部作用域local命名空间。函数调用时创建，调用结束消亡\n",
    "# Enclosing，Python2.2时引入了嵌套函数，实现了闭包，这个就是嵌套函数的外部函数的命名空间\n",
    "# Global，全局作用域，即一个模块的命名空间。模块被import时创建，解释器退出时消亡\n",
    "# Build-in，内置模块的命名空间，生命周期从python解释器启动时创建到解释器退出时消亡。例如print(open)，print和open都是内置的变量"
   ]
  },
  {
   "cell_type": "markdown",
   "metadata": {},
   "source": [
    "# 生成器/generator、yield"
   ]
  },
  {
   "cell_type": "code",
   "execution_count": 1,
   "metadata": {},
   "outputs": [],
   "source": [
    "# 生成器：生成器对象，可以由生成器表达式得到，也可以使用yield得到一个生成器函数，调用这个函数得到一个生成器对象\n",
    "# 生成器函数：\n",
    "#     函数体中包含yield语句的函数，返回生成器对象\n",
    "#     生成器对象，是一个可迭代对象，是一个迭代器\n",
    "#     生成器对象，是延迟计算、惰性求值的"
   ]
  },
  {
   "cell_type": "code",
   "execution_count": 2,
   "metadata": {},
   "outputs": [
    {
     "name": "stdout",
     "output_type": "stream",
     "text": [
      "line1\n",
      "line1\n",
      "line1\n",
      "1\n",
      "line2\n",
      "2\n",
      "line3\n",
      "End\n"
     ]
    }
   ],
   "source": [
    "def gen():\n",
    "    print(\"line1\")\n",
    "    yield 1\n",
    "    print(\"line2\")\n",
    "    yield 2\n",
    "    print(\"line3\")\n",
    "    return 3\n",
    "\n",
    "next(gen())\n",
    "next(gen())  # 每次都是调用一个新的生成器对象\n",
    "g = gen()\n",
    "print(next(g))\n",
    "print(next(g))\n",
    "print(next(g, \"End\"))  # 默认值"
   ]
  },
  {
   "cell_type": "code",
   "execution_count": 3,
   "metadata": {},
   "outputs": [
    {
     "name": "stdout",
     "output_type": "stream",
     "text": [
      "0\n",
      "1\n"
     ]
    }
   ],
   "source": [
    "def inc():\n",
    "    # from i in range(100):\n",
    "    #     yield i\n",
    "    yield from range(100)  # == 上面两句\n",
    "    \n",
    "foo = inc()\n",
    "print(next(foo))\n",
    "print(next(foo))"
   ]
  },
  {
   "cell_type": "markdown",
   "metadata": {},
   "source": [
    "# 习题"
   ]
  },
  {
   "cell_type": "code",
   "execution_count": 4,
   "metadata": {},
   "outputs": [
    {
     "data": {
      "text/plain": [
       "{'a.b': 1, 'a.c.q': 22, 'a.c.p': 1, 'd.e': 3, 'd.f.g': 4}"
      ]
     },
     "execution_count": 4,
     "metadata": {},
     "output_type": "execute_result"
    }
   ],
   "source": [
    "# 字典扁平化\n",
    "\n",
    "origin_dict = {\"a\":{\"b\":1,\"c\":{\"q\":22, \"p\":1}},\"d\":{\"e\":3,\"f\":{\"g\":4}}}\n",
    "\n",
    "def flat_dict(origin_dict, out_dict=None):\n",
    "    if out_dict is None:  # out_dict是引用变量\n",
    "        out_dict = {}\n",
    "    if not isinstance(origin_dict, dict):\n",
    "        return origin_dict\n",
    "    else:\n",
    "        have_dict = False  # 判断还有再下一层\n",
    "        for key, val in origin_dict.items():\n",
    "            if isinstance(val, dict):\n",
    "                have_dict = True \n",
    "                for key_in, val_in in val.items():\n",
    "                    out_dict.update({f\"{key}.{key_in}\": val_in})\n",
    "            else:\n",
    "                out_dict.update({key: val})\n",
    "        if have_dict:  # 如果还存在字典了，则进一步递归\n",
    "            return flat_dict(out_dict)           \n",
    "        return out_dict\n",
    "    \n",
    "flat_dict(origin_dict)"
   ]
  }
 ],
 "metadata": {
  "kernelspec": {
   "display_name": "Python 3",
   "language": "python",
   "name": "python3"
  },
  "language_info": {
   "codemirror_mode": {
    "name": "ipython",
    "version": 3
   },
   "file_extension": ".py",
   "mimetype": "text/x-python",
   "name": "python",
   "nbconvert_exporter": "python",
   "pygments_lexer": "ipython3",
   "version": "3.7.3"
  }
 },
 "nbformat": 4,
 "nbformat_minor": 2
}
