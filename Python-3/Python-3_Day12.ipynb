{
 "cells": [
  {
   "cell_type": "markdown",
   "metadata": {},
   "source": [
    "# 序列化：pickle"
   ]
  },
  {
   "cell_type": "code",
   "execution_count": null,
   "metadata": {},
   "outputs": [],
   "source": [
    "serialization、deserialization\n",
    "pickle使用python程序之间；跨语言、跨平台，用Xml、Json、Protocol Buffer"
   ]
  },
  {
   "cell_type": "code",
   "execution_count": null,
   "metadata": {},
   "outputs": [],
   "source": [
    "# 需要参数file\n",
    "# pickle.dump(obj, file, protocol=None,)\n",
    "#     必填参数obj表示将要封装的对象\n",
    "#     必填参数file表示obj要写入的文件对象，file必须以二进制可写模式打开，即“wb” \n",
    "# pickle.load(file, *, fix_imports=True, encoding=\"ASCII\", errors=\"strict\")\n",
    "#     必填参数file必须以二进制可读模式打开，即“rb”，其他都为可选参数\n",
    "\n",
    "# 不需要写入文件，需要参数file：\n",
    "# pickle.dumps(obj)：以字节对象形式返回封装的对象，不需要写入文件中\n",
    "# pickle.loads(bytes_object): 从字节对象中读取被封装的对象，并返回"
   ]
  },
  {
   "cell_type": "markdown",
   "metadata": {},
   "source": [
    "# 序列化：Json"
   ]
  },
  {
   "cell_type": "code",
   "execution_count": null,
   "metadata": {},
   "outputs": [],
   "source": [
    "# Json: JavaScript Object Notation\n",
    "\n",
    "# 一般json编码的数据很少落地，数据都是通过网络传输。传输的时候，要考虑压缩。本质上来说它就是个文本，就是个字符串。\n",
    "# 内外网切换时，需要用ftp落地，效率低很多。"
   ]
  },
  {
   "cell_type": "markdown",
   "metadata": {},
   "source": [
    "# 序列化：MessagePack"
   ]
  },
  {
   "cell_type": "code",
   "execution_count": null,
   "metadata": {},
   "outputs": [],
   "source": [
    "# 字符更少，更加解决空间、流量\n",
    "$ pip install magpack-python"
   ]
  }
 ],
 "metadata": {
  "kernelspec": {
   "display_name": "Python 3",
   "language": "python",
   "name": "python3"
  },
  "language_info": {
   "codemirror_mode": {
    "name": "ipython",
    "version": 3
   },
   "file_extension": ".py",
   "mimetype": "text/x-python",
   "name": "python",
   "nbconvert_exporter": "python",
   "pygments_lexer": "ipython3",
   "version": "3.7.3"
  }
 },
 "nbformat": 4,
 "nbformat_minor": 2
}
