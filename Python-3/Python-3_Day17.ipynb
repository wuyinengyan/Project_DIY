{
 "cells": [
  {
   "cell_type": "markdown",
   "metadata": {},
   "source": [
    "# 上下文管理"
   ]
  },
  {
   "cell_type": "code",
   "execution_count": null,
   "metadata": {},
   "outputs": [],
   "source": [
    "应用场景\n",
    "1.增强功能\n",
    "在代码执行的前后增强其功能，类似装饰器的功能。\n",
    "2.资源管理\n",
    "打开了资源需要关闭，如文件对象、网络连接、数据库连接。\n",
    "3.权限验证\n",
    "在执行代码之前，在__enter__中处理。"
   ]
  },
  {
   "cell_type": "code",
   "execution_count": 2,
   "metadata": {},
   "outputs": [
    {
     "name": "stdout",
     "output_type": "stream",
     "text": [
      "9\n",
      "2.000114\n"
     ]
    }
   ],
   "source": [
    "# 如果业务逻辑简单可以contextlib.contextmanager装饰器，如果业务复杂，则用类的方法__enter__和__exit__\n",
    "\n",
    "import datetime\n",
    "import time\n",
    "import contextlib\n",
    "\n",
    "@contextlib.contextmanager\n",
    "def add(x, y):  # 为生成器函数增加了上下文管理\n",
    "    start = datetime.datetime.now()\n",
    "    try:\n",
    "        yield x + y  # yield的值只有一个，作为__enter__方法的返回值\n",
    "    finally:\n",
    "        delta = (datetime.datetime.now() - start).total_seconds()\n",
    "        print(delta)\n",
    "        \n",
    "with add(4, 5) as f:\n",
    "    # raise Exception()\n",
    "    time.sleep(2)\n",
    "    print(f)"
   ]
  },
  {
   "cell_type": "markdown",
   "metadata": {},
   "source": [
    "# 反射"
   ]
  },
  {
   "cell_type": "code",
   "execution_count": null,
   "metadata": {},
   "outputs": [],
   "source": [
    "reflection，指的是运行时获取类型定义信息。"
   ]
  },
  {
   "cell_type": "code",
   "execution_count": null,
   "metadata": {},
   "outputs": [],
   "source": [
    "三个内建函数：\n",
    "getattr(object, name[, default]) => 属性不存在，使用default返回，没有default，抛出AttributeError。\n",
    "getattr(object, name, value) => 存在则覆盖，不存在，则新增\n",
    "hasattr(object, name) => name必须为字符串"
   ]
  },
  {
   "cell_type": "code",
   "execution_count": null,
   "metadata": {},
   "outputs": [],
   "source": [
    "四个魔术方法：\n",
    "__getattr__ => 当通过搜索实例、实例的类及祖先类查不到属性，就会调用此方法\n",
    "__setattr__ => 通过访问实例属性，进行增加、修改，即self.x = x，都要调用此方法\n",
    "            => 可以拦截对实例属性的增加、修改操作，也可以自己操作把属性添加到实例的__dict__\n",
    "__delattr__ => 当通过实例来删除属性时调用此方法\n",
    "            => 可以用来阻止通过实例删除属性的操作，但依然可以通过类来删除。\n",
    "__getattribute__ => 实例所有的属性调用都从这个方法开始\n",
    "                 => 为了避免在该方法中无限递归，它的实现应调用基类的同名方法以访问需要的任何属性，\n",
    "                    如， object.__getattribute__(self, name)。"
   ]
  },
  {
   "cell_type": "code",
   "execution_count": null,
   "metadata": {},
   "outputs": [],
   "source": [
    "属性查找顺序：\n",
    "实例调用__getattribute__() --> instance.__dict --> instance.__class__.__dict__ --> 继承的祖先类（直到object）的__dict__\n",
    "--> 找不到 --> 调用__getattr__() \n",
    "\n",
    "实例的所有属性访问，第一个都会调用__getattribute__，它阻止了属性的查找，它的return值作为属性查找的结果。\n",
    "如果抛出AttributeError（必须是AttributeError异常，raise AttributeError()），则会直接调用__getattr__，因为表示属性没有找到。"
   ]
  },
  {
   "cell_type": "code",
   "execution_count": null,
   "metadata": {},
   "outputs": [],
   "source": [
    "这种动态增加属性的方式和装饰器修饰一个类、Mixin方式的差异？\n",
    "这种方式是运行时改变类或者实例，但另两种都是定义时就决定了，因此反射能力具有更大的灵活性。"
   ]
  },
  {
   "cell_type": "markdown",
   "metadata": {},
   "source": [
    "# Descriptors/描述器"
   ]
  },
  {
   "cell_type": "code",
   "execution_count": null,
   "metadata": {},
   "outputs": [],
   "source": [
    "三个魔术方法：\n",
    "object.__get__(self, instance, owner)\n",
    "object.__set__(self, instance, value)\n",
    "object.__delete__(self, instance)"
   ]
  },
  {
   "cell_type": "code",
   "execution_count": null,
   "metadata": {},
   "outputs": [],
   "source": [
    "一个类实现了__get__、__set__、__delete__三个方法中的任何一个，就是描述器。\n",
    "\n",
    "如果仅实现了__get__，就是非数据性描述器 non-data descriptor\n",
    "如果实现了__set__或__delete__至少一个，就是数据性描述器 data descriptor\n",
    "如果一个类的类属性设置为描述器，那么它被称为owner属主。"
   ]
  },
  {
   "cell_type": "code",
   "execution_count": null,
   "metadata": {},
   "outputs": [],
   "source": [
    "属性查找顺序：\n",
    "实例的__dict__优先于非数据描述器，数据描述器优先于实例的__dict__\n",
    "原因：\n",
    "数据描述器会把实例额的属性从实例的__dict__中去除掉，造成了数据描述器优先访问的假象。"
   ]
  },
  {
   "cell_type": "code",
   "execution_count": 18,
   "metadata": {},
   "outputs": [
    {
     "name": "stdout",
     "output_type": "stream",
     "text": [
      "2 A init\n",
      "4 <__main__.A object at 0x0000000005BBA5F8> None <class '__main__.B'>\n",
      "5 None\n",
      "1 B init\n",
      "******************************\n",
      "3 <__main__.A object at 0x0000000005BBA5F8> <__main__.B object at 0x0000000005BBA748> b.x\n",
      "{}\n",
      "******************************\n",
      "4 <__main__.A object at 0x0000000005BBA5F8> <__main__.B object at 0x0000000005BBA748> <class '__main__.B'>\n",
      "6 None\n"
     ]
    }
   ],
   "source": [
    "class A:\n",
    "    def __init__(self, x):\n",
    "        self.x = x\n",
    "        print(2, \"A init\")\n",
    "        \n",
    "    def __set__(self, instance, value):\n",
    "        print(3, self, instance, value)\n",
    "        \n",
    "#     def __delete__(self, instance):  # 依然是数据描述器\n",
    "#         print(3, self, instance)\n",
    "        \n",
    "    def __get__(self, instance, owner):\n",
    "        print(4, self, instance, owner)\n",
    "        \n",
    "class B:\n",
    "    x = A(7)  # 类的实例，必须是一个实例\n",
    "    \n",
    "    def __init__(self):\n",
    "        print(1, \"B init\")\n",
    "        print(\"*\" * 30)\n",
    "        self.x = \"b.x\"  # 如果存在__delete__，不存在__set__，会报错AttributeError: __set__\n",
    "        print(self.__dict__)  # 非数据描述器时，输出为{'x': 'b.x'}；数据描述器时，输出为{}\n",
    "        print(\"*\" * 30)\n",
    "        \n",
    "print(5, B.x)\n",
    "b = B()\n",
    "print(6, b.x)"
   ]
  },
  {
   "cell_type": "code",
   "execution_count": null,
   "metadata": {},
   "outputs": [],
   "source": [
    "staticmethod()和classmethod()都是非数据描述器。实例可以重新定义和覆盖方法，允许单个实例获取与其他实例不同的行为。\n",
    "property()实现是数据描述器。不允许实例不能覆盖属性的行为。"
   ]
  },
  {
   "cell_type": "code",
   "execution_count": 21,
   "metadata": {},
   "outputs": [
    {
     "name": "stdout",
     "output_type": "stream",
     "text": [
      "Static Method\n",
      "static method\n",
      "Class Method\n",
      "<class '__main__.A'> class method\n"
     ]
    }
   ],
   "source": [
    "from functools import partial\n",
    "\n",
    "class StaticMethod:\n",
    "    def __init__(self, fn):\n",
    "        self.fn = fn\n",
    "        \n",
    "    def __get__(self, instance, owner):\n",
    "        print(\"Static Method\")\n",
    "        return self.fn\n",
    "    \n",
    "class ClassMethod:\n",
    "    def __init__(self, fn):\n",
    "        self.fn = fn\n",
    "        \n",
    "    def __get__(self, instance, cls):\n",
    "        print(\"Class Method\")\n",
    "        # return self.fn(cls)\n",
    "        return partial(self.fn, cls)\n",
    "    \n",
    "class A:\n",
    "    @StaticMethod\n",
    "    def s_mtd():\n",
    "        print(\"static method\")\n",
    "      \n",
    "    @ClassMethod\n",
    "    def c_mtd(cls):\n",
    "        print(f\"{cls} class method\")\n",
    "        \n",
    "a = A()\n",
    "a.s_mtd()\n",
    "a.c_mtd()"
   ]
  }
 ],
 "metadata": {
  "kernelspec": {
   "display_name": "Python 3",
   "language": "python",
   "name": "python3"
  },
  "language_info": {
   "codemirror_mode": {
    "name": "ipython",
    "version": 3
   },
   "file_extension": ".py",
   "mimetype": "text/x-python",
   "name": "python",
   "nbconvert_exporter": "python",
   "pygments_lexer": "ipython3",
   "version": "3.7.3"
  }
 },
 "nbformat": 4,
 "nbformat_minor": 2
}
