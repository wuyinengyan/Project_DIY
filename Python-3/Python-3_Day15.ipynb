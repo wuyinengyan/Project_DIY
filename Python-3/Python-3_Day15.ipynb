{
 "cells": [
  {
   "cell_type": "markdown",
   "metadata": {},
   "source": [
    "# 类：Mixin"
   ]
  },
  {
   "cell_type": "code",
   "execution_count": 13,
   "metadata": {},
   "outputs": [],
   "source": [
    "class Word:\n",
    "    \n",
    "    def __init__(self, content):\n",
    "        self.content = content"
   ]
  },
  {
   "cell_type": "code",
   "execution_count": 16,
   "metadata": {},
   "outputs": [
    {
     "name": "stdout",
     "output_type": "stream",
     "text": [
      "test str\n",
      "[<class '__main__.PrintableWord'>, <class '__main__.Word'>, <class 'object'>]\n"
     ]
    }
   ],
   "source": [
    "# def printable(cls):\n",
    "#     cls.print = lambda self: print(self.content)\n",
    "#     return cls\n",
    "\n",
    "def printable(cls):\n",
    "    def _print(self):\n",
    "        print(self.content)\n",
    "    cls.print = _print\n",
    "    return cls\n",
    "\n",
    "@printable\n",
    "class PrintableWord(Word):pass\n",
    "        \n",
    "pw = PrintableWord(\"test str\")\n",
    "pw.print()\n",
    "print(PrintableWord.mro())  # 实例没有mro属性，类有属性"
   ]
  },
  {
   "cell_type": "code",
   "execution_count": 17,
   "metadata": {},
   "outputs": [
    {
     "data": {
      "text/plain": [
       "28.274333882308138"
      ]
     },
     "execution_count": 17,
     "metadata": {},
     "output_type": "execute_result"
    }
   ],
   "source": [
    "import math\n",
    "\n",
    "class Shape:\n",
    "    @property\n",
    "    def area(self):\n",
    "        raise Exception(\"Error\")\n",
    "\n",
    "\n",
    "class Circle(Shape):\n",
    "    def __init__(self, r):\n",
    "        self.r = r\n",
    "        \n",
    "    @property\n",
    "    def area(self):\n",
    "        return self.r ** 2 * math.pi\n",
    "    \n",
    "c = Circle(3)\n",
    "c.area"
   ]
  },
  {
   "cell_type": "code",
   "execution_count": 18,
   "metadata": {},
   "outputs": [
    {
     "name": "stdout",
     "output_type": "stream",
     "text": [
      "28.274333882308138\n",
      "<bound method SerializableMixin.dumps of <__main__.SerializableCircleMixin object at 0x00000000029688D0>>\n"
     ]
    }
   ],
   "source": [
    "class SerializableMixin:\n",
    "    import json\n",
    "    import msgpack\n",
    "    import pickle\n",
    "    def dumps(self, m=\"json\"):\n",
    "        if m == \"json\":\n",
    "            return json.dumps(self.__dict__)\n",
    "        elif m == \"msgpack\":\n",
    "            return msgpack.dumps(self.__dict__)\n",
    "        else:\n",
    "            return pickle.dumps(self.__dict__)\n",
    "\n",
    "class SerializableCircleMixin(SerializableMixin, Circle): pass\n",
    "\n",
    "c = SerializableCircleMixin(3)\n",
    "print(c.area)\n",
    "print(c.dumps)"
   ]
  },
  {
   "cell_type": "markdown",
   "metadata": {},
   "source": [
    "# 二分查找、插入"
   ]
  },
  {
   "cell_type": "code",
   "execution_count": null,
   "metadata": {},
   "outputs": [],
   "source": [
    "#  必须是有序的序列\n",
    "#  时间复杂度log(n)"
   ]
  },
  {
   "cell_type": "code",
   "execution_count": 4,
   "metadata": {},
   "outputs": [
    {
     "name": "stdout",
     "output_type": "stream",
     "text": [
      "1\n",
      "3\n",
      "[1, 3, 3, 3, 6, 8, 12, 15]\n",
      "[1, 3, 3, 3, 3, 6, 8, 12, 15]\n"
     ]
    }
   ],
   "source": [
    "import bisect\n",
    "\n",
    "li = [1, 3, 3, 6, 8, 12, 15]  \n",
    "x = 3  \n",
    "  \n",
    "x_insert_point = bisect.bisect_left(li, x)  # 在li中查找x，x存在时返回x左侧的位置，x不存在返回应该插入的位置 \n",
    "print(x_insert_point)\n",
    "x_insert_point = bisect.bisect_right(li, x)  # 在li中查找x，x存在时返回x右侧的位置，x不存在返回应该插入的位置\n",
    "# x_insert_point = bisect.bisect(li, x)  # 默认右边\n",
    "print(x_insert_point) \n",
    "x_insort_left = bisect.insort_left(li, x)  # 将x插入到列表li中，x存在时插入在左侧  \n",
    "print(li)\n",
    "x_insort_rigth = bisect.insort_right(li, x)  # 将x插入到列表li中，x存在时插入在右侧 \n",
    "# x_insort_rigth = bisect.insort(li, x)  # 默认右边\n",
    "print(li)"
   ]
  },
  {
   "cell_type": "code",
   "execution_count": 6,
   "metadata": {},
   "outputs": [
    {
     "data": {
      "text/plain": [
       "1"
      ]
     },
     "execution_count": 6,
     "metadata": {},
     "output_type": "execute_result"
    }
   ],
   "source": [
    "# 二分法原码\n",
    "def bisect(li, x):\n",
    "    lo = 0\n",
    "    hi = len(li)  # 不是len(li) - 1\n",
    "    \n",
    "    while lo < hi:\n",
    "        mid = (lo + hi) // 2\n",
    "        if x < li[mid]: hi = mid\n",
    "        else: lo = mid + 1\n",
    "    \n",
    "    return lo\n",
    "\n",
    "li = [1, 3, 3, 6, 8, 12, 15]  \n",
    "bisect_left(li, 1)"
   ]
  },
  {
   "cell_type": "code",
   "execution_count": null,
   "metadata": {},
   "outputs": [],
   "source": [
    "# 笨方法\n",
    "def list_insert(li, subli):\n",
    "    ordered_li = sorted(li)\n",
    "    \n",
    "    for x in subli:\n",
    "        for i, v in enumerate(ordered_li):\n",
    "            if v > x: break\n",
    "        else: i = len(ordered_li)\n",
    "        ordered_li.insert(i, x)\n",
    "    return ordered_li\n",
    "     \n",
    "lst = [37, 99, 73, 48, 47, 40, 40, 25, 99, 51]\n",
    "sublst= [40, 41, 100]\n",
    "list_insert(lst, sublst)"
   ]
  }
 ],
 "metadata": {
  "kernelspec": {
   "display_name": "Python 3",
   "language": "python",
   "name": "python3"
  },
  "language_info": {
   "codemirror_mode": {
    "name": "ipython",
    "version": 3
   },
   "file_extension": ".py",
   "mimetype": "text/x-python",
   "name": "python",
   "nbconvert_exporter": "python",
   "pygments_lexer": "ipython3",
   "version": "3.7.3"
  }
 },
 "nbformat": 4,
 "nbformat_minor": 2
}
