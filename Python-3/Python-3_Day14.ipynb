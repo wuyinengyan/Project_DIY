{
 "cells": [
  {
   "cell_type": "markdown",
   "metadata": {},
   "source": [
    "# 日志"
   ]
  },
  {
   "cell_type": "code",
   "execution_count": null,
   "metadata": {},
   "outputs": [],
   "source": [
    "# 如何抽取日志中的有效信息"
   ]
  },
  {
   "cell_type": "code",
   "execution_count": 3,
   "metadata": {},
   "outputs": [
    {
     "name": "stdout",
     "output_type": "stream",
     "text": [
      "{'remote': '183.60.212.153', '-': '-', 'datetime': datetime.datetime(2013, 2, 19, 10, 23, 29, tzinfo=datetime.timezone(datetime.timedelta(seconds=28800))), 'protocol': ['GET', '/o2o/media.html?menu=3', 'HTTP/1.1'], 'status': 200, 'size': 16691, 'useragent': 'Mezilla/5.0 (compatible; EasouSpider; +http://www.easou.com/search/spider.html)'}\n"
     ]
    }
   ],
   "source": [
    "import datetime\n",
    "\n",
    "line = \"\"\"183.60.212.153 - - [19/Feb/2013:10:23:29 +0800] \\\n",
    "\"GET /o2o/media.html?menu=3 HTTP/1.1\" 200 16691 \"-\" \\\n",
    "\"Mezilla/5.0 (compatible; EasouSpider; +http://www.easou.com/search/spider.html)\"\n",
    "\"\"\"\n",
    "\n",
    "CHARS = set(\" \\t\")  # 常量，大写\n",
    "\n",
    "def makekey(line:str):\n",
    "    start = 0\n",
    "    skip = False\n",
    "    for i, c in enumerate(line):\n",
    "        if not skip and c in '\"[':\n",
    "            start = i + 1\n",
    "            skip = True\n",
    "        elif skip and c in '\"]':\n",
    "            skip = False\n",
    "            yield line[start:i]\n",
    "            start = i + 1\n",
    "            continue\n",
    "            \n",
    "        if skip:\n",
    "            continue\n",
    "            \n",
    "        if c in CHARS:\n",
    "            if start == i:\n",
    "                start = i + 1\n",
    "                continue\n",
    "            yield line[start:i]   \n",
    "            start = i + 1\n",
    "        \n",
    "    else:\n",
    "        if start < len(line):\n",
    "            yield line[start:]   \n",
    "            \n",
    "    \n",
    "names = (\"remote\", \"-\", \"-\", \"datetime\", \"protocol\", \"status\", \"size\", \"-\", \"useragent\")\n",
    "ops = (None, None, None,\n",
    "       lambda datestr: datetime.datetime.strptime(datestr, \"%d/%b/%Y:%H:%M:%S %z\"),\n",
    "       lambda x: x.split(),\n",
    "       int, int, None, None) \n",
    "\n",
    "d = {name:data if op is None else op(data) for name,op, data in zip(names, ops, makekey(line))}\n",
    "print(d)"
   ]
  },
  {
   "cell_type": "code",
   "execution_count": 9,
   "metadata": {},
   "outputs": [
    {
     "name": "stdout",
     "output_type": "stream",
     "text": [
      "{'remote': '183.60.212.153', 'datetime': datetime.datetime(2013, 2, 19, 10, 23, 29, tzinfo=datetime.timezone(datetime.timedelta(seconds=28800))), 'protocol': {'method': 'GET', 'url': '/o2o/media.html?menu=3', 'protocol': 'HTTP/1.1'}, 'status': 200, 'size': 16691, 'useragent': 'Mezilla/5.0 (compatible; EasouSpider; +http://www.easou.com/search/spider.html)'}\n"
     ]
    }
   ],
   "source": [
    "import datetime\n",
    "import re\n",
    "\n",
    "line = \"\"\"183.60.212.153 - - [19/Feb/2013:10:23:29 +0800] \\\n",
    "\"GET /o2o/media.html?menu=3 HTTP/1.1\" 200 16691 \"-\" \\\n",
    "\"Mezilla/5.0 (compatible; EasouSpider; +http://www.easou.com/search/spider.html)\"\n",
    "\"\"\"\n",
    "\n",
    "PATTERN = '''(?P<remote>[\\d\\.]{7,})\\s-\\s-\\s\\[(?P<datetime>[^\\[\\]]+)\\]\\s\"(?P<protocol>[^\"]+)\"\\s(?P<status>\\d{3})\\s(?P<size>\\d+)\\s\"[^\"]+\"\\s\"(?P<useragent>[^\"]+)\"'''\n",
    "regex = re.compile(PATTERN)\n",
    "\n",
    "ops = {\"datetime\": lambda datestr: datetime.datetime.strptime(datestr, \"%d/%b/%Y:%H:%M:%S %z\"),\n",
    "       \"protocol\": lambda x: dict(zip((\"method\", \"url\", \"protocol\"), x.split())),\n",
    "       \"status\": int,\n",
    "       \"size\": int}\n",
    "\n",
    "def extract(line:str):\n",
    "    matcher = regex.match(line)\n",
    "    if matcher:\n",
    "        return {name:ops.get(name, lambda x: x)(data) for name, data in matcher.groupdict().items()}\n",
    "    else:\n",
    "        return None\n",
    "\n",
    "print(extract(line))"
   ]
  },
  {
   "cell_type": "markdown",
   "metadata": {},
   "source": [
    "# 日志分析"
   ]
  },
  {
   "cell_type": "code",
   "execution_count": null,
   "metadata": {},
   "outputs": [],
   "source": [
    "一般采集流程：\n",
    "日志产出 -> 采集(Logstash、Flume、Scribe) -> 存储 -> 分析 -> 存储(数据库、NoSQL) -> 可视化"
   ]
  },
  {
   "cell_type": "code",
   "execution_count": null,
   "metadata": {},
   "outputs": [],
   "source": [
    "文本分析依赖下面三项技术：\n",
    "文件操作，\n",
    "字符串操作，\n",
    "正则表达式。"
   ]
  },
  {
   "cell_type": "markdown",
   "metadata": {},
   "source": [
    "# 生产者和消费者、queue"
   ]
  },
  {
   "cell_type": "code",
   "execution_count": null,
   "metadata": {},
   "outputs": [],
   "source": [
    "解决办法：队列queue\n",
    "作用：解耦、缓冲"
   ]
  },
  {
   "cell_type": "code",
   "execution_count": null,
   "metadata": {},
   "outputs": [],
   "source": [
    "单机：queue内建的模块构建进程内的队列，满足多个线程间的生成消费需要。\n",
    "大型项目：使用第三方消息中间件——RabbitMQ、SocketMQ、Kafka。"
   ]
  },
  {
   "cell_type": "markdown",
   "metadata": {},
   "source": [
    "# 面向对象"
   ]
  },
  {
   "cell_type": "code",
   "execution_count": null,
   "metadata": {},
   "outputs": [],
   "source": [
    "一切皆对象\n",
    "对象是数据/属性和操作/方法/行为的封装\n",
    "对象时独立的，但是对象之间可以相互作用\n",
    "目前OOP是最接近人类认知的编程范式"
   ]
  },
  {
   "cell_type": "code",
   "execution_count": 8,
   "metadata": {},
   "outputs": [
    {
     "name": "stdout",
     "output_type": "stream",
     "text": [
      "A\n",
      "<class 'type'>\n",
      "<class '__main__.A'>\n",
      "type\n",
      "A\n"
     ]
    }
   ],
   "source": [
    "class A:\n",
    "    def __init__(self, name:str=\"hi\"):\n",
    "        self.name = name\n",
    "\n",
    "print(A.__name__)\n",
    "print(A.__class__)\n",
    "print(A().__class__)\n",
    "print(A.__class__.__name__)\n",
    "print(A().__class__.__name__)"
   ]
  },
  {
   "cell_type": "code",
   "execution_count": 7,
   "metadata": {},
   "outputs": [
    {
     "name": "stdout",
     "output_type": "stream",
     "text": [
      "1 [('__dict__', <attribute '__dict__' of 'A' objects>), ('__doc__', None), ('__init__', <function A.__init__ at 0x0000000005BAA598>), ('__module__', '__main__'), ('__weakref__', <attribute '__weakref__' of 'A' objects>)]\n",
      "2 <class '__main__.A'>\n",
      "3 [('name', 'hi')]\n",
      "4 {'name': 'hi'}\n",
      "5 [('__dict__', <attribute '__dict__' of 'A' objects>), ('__doc__', None), ('__init__', <function A.__init__ at 0x0000000005BAA598>), ('__module__', '__main__'), ('__weakref__', <attribute '__weakref__' of 'A' objects>)]\n"
     ]
    }
   ],
   "source": [
    "print(1, sorted(A.__dict__.items()))\n",
    "hi = A()\n",
    "print(2, hi.__class__)\n",
    "print(3, sorted(hi.__dict__.items()))\n",
    "print(4, hi.__dict__)\n",
    "print(5, sorted(hi.__class__.__dict__.items()))"
   ]
  },
  {
   "cell_type": "markdown",
   "metadata": {},
   "source": [
    "# 私有变量和保护变量"
   ]
  },
  {
   "cell_type": "code",
   "execution_count": null,
   "metadata": {},
   "outputs": [],
   "source": [
    "__：私有成员 = 私有变量 + 私有方法\n",
    "_：保护成员 = 保护变量 + 保护方法"
   ]
  },
  {
   "cell_type": "markdown",
   "metadata": {},
   "source": [
    "# property"
   ]
  },
  {
   "cell_type": "code",
   "execution_count": 4,
   "metadata": {},
   "outputs": [],
   "source": [
    "class A:\n",
    "    \n",
    "    def __init__(self, name):\n",
    "        self.__name = name\n",
    "        \n",
    "    @property  # 只读，== getter\n",
    "    def name(self):\n",
    "        return self.__name\n",
    "    \n",
    "    @name.setter  # 只读，== getter\n",
    "    def name(self, name):\n",
    "        self.__name = name\n",
    "    \n",
    "    @name.deleter  # 只读，== getter\n",
    "    def name(self):\n",
    "        del self.__name"
   ]
  }
 ],
 "metadata": {
  "kernelspec": {
   "display_name": "Python 3",
   "language": "python",
   "name": "python3"
  },
  "language_info": {
   "codemirror_mode": {
    "name": "ipython",
    "version": 3
   },
   "file_extension": ".py",
   "mimetype": "text/x-python",
   "name": "python",
   "nbconvert_exporter": "python",
   "pygments_lexer": "ipython3",
   "version": "3.7.3"
  }
 },
 "nbformat": 4,
 "nbformat_minor": 2
}
