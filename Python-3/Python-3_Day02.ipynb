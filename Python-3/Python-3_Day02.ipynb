{
 "cells": [
  {
   "cell_type": "markdown",
   "metadata": {},
   "source": [
    "# 素数解析式"
   ]
  },
  {
   "cell_type": "code",
   "execution_count": 1,
   "metadata": {},
   "outputs": [
    {
     "data": {
      "text/plain": [
       "'2 3 5 7 11 13 17 19 23 29 31 37 41 43 47 53 59 61 67 71 73 79 83 89 97'"
      ]
     },
     "execution_count": 1,
     "metadata": {},
     "output_type": "execute_result"
    }
   ],
   "source": [
    "def mersenne(n):\n",
    "    print(\" \".join([str(i) for i in range(2, n + 1) if not [i%j for j in range(2, i//2 + 1) if not i%j]]))\n",
    "    # []空集合是false\n",
    "    \n",
    "mersenne(int(input(\"求__内的素数：\")))"
   ]
  },
  {
   "cell_type": "code",
   "execution_count": 5,
   "metadata": {},
   "outputs": [
    {
     "data": {
      "text/plain": [
       "'2 3 5 7 11 13 17 19 23 29 31 37 41 43 47 53 59 61 67 71 73 79 83 89 97'"
      ]
     },
     "execution_count": 5,
     "metadata": {},
     "output_type": "execute_result"
    }
   ],
   "source": [
    "\" \".join(map(lambda x: str(x), filter(lambda x: not [x%y for y in range(2, x//2 +1) if not x%y], [i for i in range(2, 100)])))\n",
    "# 利用lambda、map和filter，但是更加复杂了"
   ]
  },
  {
   "cell_type": "markdown",
   "metadata": {},
   "source": [
    "# 斐波那契数列"
   ]
  },
  {
   "cell_type": "code",
   "execution_count": 6,
   "metadata": {},
   "outputs": [
    {
     "name": "stdout",
     "output_type": "stream",
     "text": [
      "求第__位的斐波那契数：36\n",
      "14930352 [1, 1, 2, 3, 5, 8, 13, 21, 34, 55, 89, 144, 233, 377, 610, 987, 1597, 2584, 4181, 6765, 10946, 17711, 28657, 46368, 75025, 121393, 196418, 317811, 514229, 832040, 1346269, 2178309, 3524578, 5702887, 9227465, 14930352]\n"
     ]
    }
   ],
   "source": [
    "# 求n位斐波那契数列\n",
    "def fibonacci(n):\n",
    "    if n < 2:\n",
    "        print(\"输入错误！\")\n",
    "        return\n",
    "    \n",
    "    li1 = [1, 1]\n",
    "    [li1.append(li1[i - 1] + li1[i - 2]) for i in range(2, n)]\n",
    "    print(li1[-1], li1)\n",
    "    \n",
    "fibonacci(int(input(\"求第__位的斐波那契数：\")))"
   ]
  },
  {
   "cell_type": "code",
   "execution_count": 11,
   "metadata": {},
   "outputs": [
    {
     "name": "stdout",
     "output_type": "stream",
     "text": [
      "请输入一个数字：36\n",
      "第36个数字为：14930352\n",
      "斐波那契数列为：[1, 1, 2, 3, 5, 8, 13, 21, 34, 55, 89, 144, 233, 377, 610, 987, 1597, 2584, 4181, 6765, 10946, 17711, 28657, 46368, 75025, 121393, 196418, 317811, 514229, 832040, 1346269, 2178309, 3524578, 5702887, 9227465, 14930352]\n",
      "运算时间0:00:14.802681\n"
     ]
    }
   ],
   "source": [
    "# 递归实现斐波那契数列\n",
    "from datetime import datetime\n",
    "\n",
    "def recursion(n):\n",
    "    if n == 1 or n == 2:\n",
    "        return 1\n",
    "    elif n > 2:\n",
    "        return recursion(n - 1) + recursion(n - 2)\n",
    "    else:\n",
    "        return \"输入错误！\"\n",
    "    \n",
    "num = input(\"请输入一个数字：\")\n",
    "time1 =  datetime.now()\n",
    "gl_li = [recursion(i) for i in range(1, int(num) + 1)]\n",
    "print(\"第{0}个数字为：{1}\".format(num, gl_li[-1]))\n",
    "print(f\"斐波那契数列为：{gl_li}\")\n",
    "time2 =  datetime.now()\n",
    "print(\"运算时间{0}\".format(time2 - time1))"
   ]
  },
  {
   "cell_type": "code",
   "execution_count": 8,
   "metadata": {},
   "outputs": [
    {
     "name": "stdout",
     "output_type": "stream",
     "text": [
      "求__以内的斐波那契数：89\n",
      "[1, 1, 2, 3, 5, 8, 13, 21, 34, 55, 89]\n"
     ]
    }
   ],
   "source": [
    "# 求n以内的斐波那契数列\n",
    "def fibonacci(n):\n",
    "    if n < 2:\n",
    "        print(\"输入错误！\")\n",
    "        return\n",
    "    \n",
    "    li1 = [1, 1]\n",
    "    i = 2\n",
    "    while (li1[-1] + li1[-2]) <= n:  # 出现一个超出n的元素时，结束\n",
    "        li1.append(li1[-1] + li1[-2])\n",
    "        i += 1\n",
    "    print(li1)\n",
    "    \n",
    "fibonacci(int(input(\"求__以内的斐波那契数：\")))"
   ]
  },
  {
   "cell_type": "markdown",
   "metadata": {},
   "source": [
    "# 画菱形◇"
   ]
  },
  {
   "cell_type": "code",
   "execution_count": 12,
   "metadata": {},
   "outputs": [
    {
     "name": "stdout",
     "output_type": "stream",
     "text": [
      "N阶：7\n",
      "   *   \n",
      "  ***  \n",
      " ***** \n",
      "*******\n",
      " ***** \n",
      "  ***  \n",
      "   *   \n"
     ]
    }
   ],
   "source": [
    "# 画n阶菱形\n",
    "n = int(input(\"N阶：\"))  # n必须是奇数，最好加判断\n",
    "\n",
    "def fuc1(n):\n",
    "    for i in range(n):\n",
    "        if i > n//2:  # 镜像，过半后，转化为上半部分\n",
    "            i = n - 1 - i \n",
    "        print(\" \" * (n//2 - i) + \"*\" * (1 + 2 * i) + \" \" * (n//2 - i))\n",
    "        \n",
    "fuc1(n)"
   ]
  },
  {
   "cell_type": "markdown",
   "metadata": {},
   "source": [
    "# Hanoi/汉诺塔"
   ]
  },
  {
   "cell_type": "code",
   "execution_count": 13,
   "metadata": {},
   "outputs": [],
   "source": [
    "# Hanoi:透过现象看本质"
   ]
  },
  {
   "cell_type": "code",
   "execution_count": 14,
   "metadata": {},
   "outputs": [
    {
     "name": "stdout",
     "output_type": "stream",
     "text": [
      "第00步：[5, 4, 3, 2, 1] [] []\n",
      "第01步：[5, 4, 3, 2] [] [1]\n",
      "第02步：[5, 4, 3] [2] [1]\n",
      "第03步：[5, 4, 3] [2, 1] []\n",
      "第04步：[5, 4] [2, 1] [3]\n",
      "第05步：[5, 4, 1] [2] [3]\n",
      "第06步：[5, 4, 1] [] [3, 2]\n",
      "第07步：[5, 4] [] [3, 2, 1]\n",
      "第08步：[5] [4] [3, 2, 1]\n",
      "第09步：[5] [4, 1] [3, 2]\n",
      "第10步：[5, 2] [4, 1] [3]\n",
      "第11步：[5, 2, 1] [4] [3]\n",
      "第12步：[5, 2, 1] [4, 3] []\n",
      "第13步：[5, 2] [4, 3] [1]\n",
      "第14步：[5] [4, 3, 2] [1]\n",
      "第15步：[5] [4, 3, 2, 1] []\n",
      "第16步：[] [4, 3, 2, 1] [5]\n",
      "第17步：[1] [4, 3, 2] [5]\n",
      "第18步：[1] [4, 3] [5, 2]\n",
      "第19步：[] [4, 3] [5, 2, 1]\n",
      "第20步：[3] [4] [5, 2, 1]\n",
      "第21步：[3] [4, 1] [5, 2]\n",
      "第22步：[3, 2] [4, 1] [5]\n",
      "第23步：[3, 2, 1] [4] [5]\n",
      "第24步：[3, 2, 1] [] [5, 4]\n",
      "第25步：[3, 2] [] [5, 4, 1]\n",
      "第26步：[3] [2] [5, 4, 1]\n",
      "第27步：[3] [2, 1] [5, 4]\n",
      "第28步：[] [2, 1] [5, 4, 3]\n",
      "第29步：[1] [2] [5, 4, 3]\n",
      "第30步：[1] [] [5, 4, 3, 2]\n",
      "第31步：[] [] [5, 4, 3, 2, 1]\n"
     ]
    }
   ],
   "source": [
    "gl_step = 0  # 全局变量，总步数\n",
    "\n",
    "# 打印每一步的变化\n",
    "def printstep(li1, li2, li3, num):\n",
    "    x = y = z = []\n",
    "    for li in [li1, li2, li3]:\n",
    "        if li[0] == 'x':  # 查找x开头的序列\n",
    "            x = li[1:]\n",
    "        elif li[0] == 'y':  # 查找y开头的序列\n",
    "            y = li[1:]\n",
    "        else:\n",
    "            z = li[1:]\n",
    "    print(\"第{0:02d}步：{1} {2} {3}\".format(num, x, y, z)) \n",
    "\n",
    "# 递归循环\n",
    "def basecircle(li1, li2, li3, n):\n",
    "    global gl_step  # 需要修改gl_step的值\n",
    "    \n",
    "    if n == 1:\n",
    "        li3.append(li1.pop())  # 只需要一步\n",
    "        gl_step += 1\n",
    "        printstep(li1, li2, li3, gl_step)\n",
    "    else:\n",
    "        basecircle(li1, li3, li2, n-1)  # 除n外的n-1个元素：li1 -> li2\n",
    "        \n",
    "        # 关键的一步：移动最大元素n li1 -> li3，依此分隔\n",
    "        li3.append(li1.pop())  # 移动最大元素的一步：依次逐层分隔\n",
    "        gl_step += 1\n",
    "        printstep(li1, li2, li3, gl_step)\n",
    "        \n",
    "        basecircle(li2, li1, li3, n-1)  # 除n外的n-1个元素：li2 -> li3\n",
    "    \n",
    "# 主函数\n",
    "# 目标：把li1的元素，逐个移到li3中\n",
    "def hanoi(n):\n",
    "    li1 = [\"x\"]  # x是标记符号，不用于显示，用于在PrintList区分各个序列\n",
    "    li2 = [\"y\"]  # y是标记符号，不用于显示，用于在PrintList区分各个序列\n",
    "    li3 = [\"z\"]  # z是标记符号，不用于显示，用于在PrintList区分各个序列\n",
    "    \n",
    "    [li1.append(i) for i in range(n, 0, -1)]  # 往li1中添加初始元素，倒序添加\n",
    "    printstep(li1, li2, li3, gl_step)  # 打印各序列的初始状态 \n",
    "    \n",
    "    basecircle(li1, li2, li3, n)  # 递归循环\n",
    "  \n",
    "hanoi(5)"
   ]
  }
 ],
 "metadata": {
  "kernelspec": {
   "display_name": "Python 3",
   "language": "python",
   "name": "python3"
  },
  "language_info": {
   "codemirror_mode": {
    "name": "ipython",
    "version": 3
   },
   "file_extension": ".py",
   "mimetype": "text/x-python",
   "name": "python",
   "nbconvert_exporter": "python",
   "pygments_lexer": "ipython3",
   "version": "3.7.3"
  }
 },
 "nbformat": 4,
 "nbformat_minor": 2
}
