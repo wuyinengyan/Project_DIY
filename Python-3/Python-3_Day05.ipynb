{
 "cells": [
  {
   "cell_type": "markdown",
   "metadata": {},
   "source": [
    "# 杨辉三角"
   ]
  },
  {
   "cell_type": "code",
   "execution_count": 17,
   "metadata": {},
   "outputs": [
    {
     "name": "stdout",
     "output_type": "stream",
     "text": [
      "[1]\n",
      "[1, 1]\n",
      "[1, 2, 1]\n",
      "[1, 3, 3, 1]\n",
      "[1, 4, 6, 4, 1]\n",
      "[1, 5, 10, 10, 5, 1]\n"
     ]
    }
   ],
   "source": [
    "# 存储后一次性打印\n",
    "def triangle(n):\n",
    "    tri_li = [[1],[1, 1]]\n",
    "    \n",
    "    for i in range(2, n):\n",
    "        preline = tri_li[i-1]\n",
    "        newline = [1]\n",
    "        for j in range(i-1):\n",
    "            newline.append(preline[j] + preline[j+1])\n",
    "\n",
    "        tri_li.append(newline + [1])\n",
    "\n",
    "    [print(tri_li[i]) for i in range(len(tri_li))]\n",
    "    \n",
    "triangle(6)"
   ]
  },
  {
   "cell_type": "code",
   "execution_count": 16,
   "metadata": {},
   "outputs": [
    {
     "name": "stdout",
     "output_type": "stream",
     "text": [
      "[1]\n",
      "[1, 1]\n",
      "[1, 2, 1]\n",
      "[1, 3, 3, 1]\n",
      "[1, 4, 6, 4, 1]\n",
      "[1, 5, 10, 10, 5, 1]\n"
     ]
    }
   ],
   "source": [
    "# 不存储，边运行，边打印\n",
    "def triangle(n):\n",
    "    \n",
    "    for i in range(n):\n",
    "        curline = [1]\n",
    "        if i == 0:\n",
    "            print(curline)\n",
    "            continue\n",
    "        \n",
    "        for j in range(i-1):\n",
    "            curline.append(preline[j] + preline[j+1])\n",
    "        \n",
    "        curline.append(1)\n",
    "        print(curline)\n",
    "        preline = curline\n",
    "    \n",
    "triangle(6)"
   ]
  },
  {
   "cell_type": "code",
   "execution_count": 14,
   "metadata": {},
   "outputs": [
    {
     "name": "stdout",
     "output_type": "stream",
     "text": [
      "[1]\n",
      "[1, 1]\n",
      "[1, 2, 1]\n",
      "[1, 3, 3, 1]\n",
      "[1, 4, 6, 4, 1]\n",
      "[1, 5, 10, 10, 5, 1]\n"
     ]
    }
   ],
   "source": [
    "# 利用对称性\n",
    "def triangle(n):\n",
    "    \n",
    "    for i in range(n):\n",
    "        curline = [1]\n",
    "        \n",
    "        for j in range(1, i+1):    \n",
    "            if j <= i//2:\n",
    "                curline.append(preline[j-1] + preline[j])\n",
    "            else:\n",
    "                curline.append(curline[i-j])\n",
    "\n",
    "        print(curline)\n",
    "        preline = curline\n",
    "    \n",
    "triangle(6)"
   ]
  },
  {
   "cell_type": "code",
   "execution_count": 18,
   "metadata": {},
   "outputs": [
    {
     "name": "stdout",
     "output_type": "stream",
     "text": [
      "[1]\n",
      "[1, 1]\n",
      "[1, 2, 1]\n",
      "[1, 3, 3, 1]\n",
      "[1, 4, 6, 4, 1]\n",
      "[1, 5, 10, 10, 5, 1]\n"
     ]
    }
   ],
   "source": [
    "# 利用对称性、一次性开辟空间\n",
    "def triangle(n):\n",
    "    tri_li = []\n",
    "    \n",
    "    for i in range(n):\n",
    "        row = [1] * (i+1)\n",
    "        tri_li.append(row)\n",
    "        \n",
    "        for j in range(1, i//2+1):  \n",
    "            val = tri_li[i-1][j-1] + tri_li[i-1][j]\n",
    "            row[j] = val\n",
    "            if i != j*2:  # 奇数的中点跳过\n",
    "                row[i-j] = val\n",
    "\n",
    "    [print(tri_li[i]) for i in range(n)]\n",
    "    \n",
    "triangle(6)"
   ]
  },
  {
   "cell_type": "code",
   "execution_count": 1,
   "metadata": {},
   "outputs": [
    {
     "name": "stdout",
     "output_type": "stream",
     "text": [
      "[1]\n",
      "[1, 1]\n",
      "[1, 2, 1]\n",
      "[1, 3, 3, 1]\n",
      "[1, 4, 6, 4, 1]\n",
      "[1, 5, 10, 10, 5, 1]\n"
     ]
    }
   ],
   "source": [
    "# 终极方法：一个列表、一次性开辟空间\n",
    "\n",
    "def triangle(n):\n",
    "    \n",
    "    tri_li = [1] * (n+1)\n",
    "    for i in range(n):\n",
    "        \n",
    "        temp_li = tri_li[:i]  # 临时存储上一行的数据，是否能省掉？\n",
    "        for j in range(1, i//2+1):\n",
    "            val = temp_li[j-1] + temp_li[j]\n",
    "            tri_li[j] = val\n",
    "            if i != j*2:\n",
    "                tri_li[i-j] = val\n",
    "                \n",
    "        print(tri_li[:i+1])\n",
    "        \n",
    "triangle(6)"
   ]
  }
 ],
 "metadata": {
  "kernelspec": {
   "display_name": "Python 3",
   "language": "python",
   "name": "python3"
  },
  "language_info": {
   "codemirror_mode": {
    "name": "ipython",
    "version": 3
   },
   "file_extension": ".py",
   "mimetype": "text/x-python",
   "name": "python",
   "nbconvert_exporter": "python",
   "pygments_lexer": "ipython3",
   "version": "3.7.3"
  }
 },
 "nbformat": 4,
 "nbformat_minor": 2
}
