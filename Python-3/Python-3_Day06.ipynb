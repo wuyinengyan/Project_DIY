{
 "cells": [
  {
   "cell_type": "markdown",
   "metadata": {},
   "source": [
    "# str"
   ]
  },
  {
   "cell_type": "code",
   "execution_count": 1,
   "metadata": {},
   "outputs": [
    {
     "data": {
      "text/plain": [
       "'ifcfg'"
      ]
     },
     "execution_count": 1,
     "metadata": {},
     "output_type": "execute_result"
    }
   ],
   "source": [
    "# 获取最后的目录或者文件名\n",
    "r\"/ect/sysconfig/network/ifcfg\".rsplit(\"/\", 1)[-1]  # rsplit"
   ]
  },
  {
   "cell_type": "code",
   "execution_count": 5,
   "metadata": {},
   "outputs": [
    {
     "name": "stdout",
     "output_type": "stream",
     "text": [
      "['ab', '', 'cd', 'ef', '', 'j', 'k']\n",
      "['ab\\n', '\\n', 'cd\\r', 'ef\\n', '\\r', 'j\\r\\n', 'k']\n"
     ]
    }
   ],
   "source": [
    "# splitlines：\\n、\\r、\\r\\n分割，\\n\\r算两个\n",
    "print(\"ab\\n\\ncd\\ref\\n\\rj\\r\\nk\".splitlines())\n",
    "print(\"ab\\n\\ncd\\ref\\n\\rj\\r\\nk\".splitlines(True))"
   ]
  },
  {
   "cell_type": "code",
   "execution_count": 8,
   "metadata": {},
   "outputs": [
    {
     "name": "stdout",
     "output_type": "stream",
     "text": [
      "('a', ',', 'b,c,d,e')\n",
      "('a,b,c,d', ',', 'e')\n",
      "['a', 'b', 'c', 'd', 'e']\n"
     ]
    }
   ],
   "source": [
    "# partition有且只有一个参数，只能切一刀，返回三元组：头部、分隔符、尾部\n",
    "print(\"a,b,c,d,e\".partition(\",\"))\n",
    "print(\"a,b,c,d,e\".rpartition(\",\"))  # 返回的是tuple\n",
    "print(\"a,b,c,d,e\".split(\",\"))  # 返回的是list"
   ]
  },
  {
   "cell_type": "code",
   "execution_count": 20,
   "metadata": {},
   "outputs": [
    {
     "name": "stdout",
     "output_type": "stream",
     "text": [
      "st&\\76r1\n",
      "St&\\76R1\n"
     ]
    }
   ],
   "source": [
    "print(r\"sT&\\76r1\".upper().lower())  # 小写\n",
    "print(r\"sT&\\76r1\".swapcase())  # 大小写转换"
   ]
  },
  {
   "cell_type": "code",
   "execution_count": 21,
   "metadata": {},
   "outputs": [
    {
     "name": "stdout",
     "output_type": "stream",
     "text": [
      "Hello World\n",
      "Hello world\n"
     ]
    }
   ],
   "source": [
    "print(\"hello world\".title())  # 标题，每个单词的首字母都大写\n",
    "print(\"hello world\".capitalize())  # 首个单词的首字母大写"
   ]
  },
  {
   "cell_type": "code",
   "execution_count": 27,
   "metadata": {},
   "outputs": [
    {
     "data": {
      "text/plain": [
       "'hello worldD'"
      ]
     },
     "execution_count": 27,
     "metadata": {},
     "output_type": "execute_result"
    }
   ],
   "source": [
    "\"dhello worldDo\".strip(\"double\")  # 左右两端所有存在于\"double\"的字符都去除\n",
    "# \"dhello worldDo\".strip([\"D\", \"o\"])  # TypeError: strip arg must be None or str"
   ]
  },
  {
   "cell_type": "code",
   "execution_count": null,
   "metadata": {},
   "outputs": [],
   "source": [
    "find(sub[,start[,end]])  # 在指定的区间[start,end)内，查找字符，返回索引，找不到返回-1\n",
    "rfind(sub[,start[,end]])  # 在指定的区间[start,end)内，查找字符，返回索引，找不到返回-1\n",
    "index(sub[,start[,end]])   # 在指定的区间[start,end)内，查找字符，返回索引，找不到抛出异常ValueError\n",
    "rindex(sub[,start[,end]]) \n",
    "# find、index的时间复杂度都是O(n)"
   ]
  },
  {
   "cell_type": "code",
   "execution_count": null,
   "metadata": {},
   "outputs": [],
   "source": [
    "# 判断结尾字符、起始字符\n",
    "endswith(suffix[,start[,end]])  # -> bool\n",
    "startswith(prefix[,start[,end]])   # -> bool"
   ]
  },
  {
   "cell_type": "code",
   "execution_count": null,
   "metadata": {},
   "outputs": [],
   "source": [
    "isalnum()  # 是否都是字母、数字\n",
    "isalpha()  # 是否都是字母\n",
    "isdecimal()  # 是否只包含十进制数字\n",
    "isdigit()  # 是否只包含(0-9)\n",
    "isidentifier()  # 是否字母和下划线开头，其余都是字母、数字、下划线\n",
    "islower()  # 是否都是小写\n",
    "isupper()  # 是否都是大写\n",
    "isspace()  # 是否都是空白符"
   ]
  },
  {
   "cell_type": "code",
   "execution_count": 28,
   "metadata": {},
   "outputs": [
    {
     "name": "stdout",
     "output_type": "stream",
     "text": [
      "False False False\n",
      "False True False\n",
      "False True True\n"
     ]
    }
   ],
   "source": [
    "# isdigit()\n",
    "# True: Unicode数字，byte数字（单字节），全角数字（双字节）\n",
    "# False: 汉字数字，罗马数字，小数\n",
    "# Error: 无 \n",
    "\n",
    "# isdecimal() \n",
    "# True: Unicode数字，全角数字（双字节） \n",
    "# False: 罗马数字，汉字数字，小数\n",
    "# Error: byte数字（单字节） \n",
    "    \n",
    "# isnumeric() \n",
    "# True: Unicode数字，全角数字（双字节），罗马数字，汉字数字 \n",
    "# False: 小数 \n",
    "# Error: byte数字（单字节）\n",
    "\n",
    "# 小数、unicode、中文数字、罗马字符\n",
    "print(\"1.1\".isdecimal(), \"\\u00b2\".isdecimal(), \"一千零一\".isdecimal())\n",
    "print(\"1.1\".isdigit(), \"\\u00b2\".isdigit(), \"一千零一\".isdigit())\n",
    "print(\"1.1\".isnumeric(), \"\\u00b2\".isnumeric(), \"一千零一\".isnumeric())"
   ]
  },
  {
   "cell_type": "markdown",
   "metadata": {},
   "source": [
    "# 字符串格式化"
   ]
  },
  {
   "cell_type": "code",
   "execution_count": 29,
   "metadata": {},
   "outputs": [],
   "source": [
    "# 占位符：使用%和格式字符组成，例如%s、%d等\n",
    "#     s调用str()，r调用repr()，a调用ascii()。所有对象都可以被这两个转换"
   ]
  },
  {
   "cell_type": "code",
   "execution_count": 35,
   "metadata": {},
   "outputs": [
    {
     "name": "stdout",
     "output_type": "stream",
     "text": [
      " 97\n",
      "097\n",
      "97 \n",
      "  a\n"
     ]
    }
   ],
   "source": [
    "print(\"%03s\" % 97)  # 字符串\n",
    "print(\"%03d\" % 97)  # 右对齐，前面补0\n",
    "print(\"%-03d\" % 97)  # 左对齐\n",
    "print(\"%03c\" % 97)  # c:ascii"
   ]
  },
  {
   "cell_type": "code",
   "execution_count": 42,
   "metadata": {},
   "outputs": [
    {
     "name": "stdout",
     "output_type": "stream",
     "text": [
      "hh55hh6hh\n"
     ]
    }
   ],
   "source": [
    "# print(\"hh%dhh%shh\" % (55, 6, 55))  # TypeError: not all arguments converted during string formatting\n",
    "print(\"hh{}hh{}hh\".format(55, 6, 55))  # python3的新语法，鼓励使用：format优于%"
   ]
  },
  {
   "cell_type": "code",
   "execution_count": 43,
   "metadata": {},
   "outputs": [
    {
     "name": "stdout",
     "output_type": "stream",
     "text": [
      "int:42 hex:2a oct:52 bin:101010\n",
      "int:42 hex:0x2a oct:0o52 bin:0b101010\n"
     ]
    }
   ],
   "source": [
    "s1 = \"int:{0:d} hex:{0:x} oct:{0:o} bin:{0:b}\"\n",
    "s2 = \"int:{0:d} hex:{0:#x} oct:{0:#o} bin:{0:#b}\"\n",
    "print(s1.format(42))\n",
    "print(s2.format(42))"
   ]
  },
  {
   "cell_type": "code",
   "execution_count": 45,
   "metadata": {},
   "outputs": [
    {
     "name": "stdout",
     "output_type": "stream",
     "text": [
      "1.732\n",
      "1.7321\n",
      "33.333%\n"
     ]
    }
   ],
   "source": [
    "print(\"{:.4}\".format(3**0.5))  # 4位有效数字\n",
    "print(\"{:.4f}\".format(3**0.5))  # 小数精度位4\n",
    "print(\"{:3.3%}\".format(1/3))  # 百分号"
   ]
  },
  {
   "cell_type": "markdown",
   "metadata": {},
   "source": [
    "# bytes、bytearray"
   ]
  },
  {
   "cell_type": "code",
   "execution_count": 1,
   "metadata": {},
   "outputs": [],
   "source": [
    "# bytes:由二进制组成的有序的不可变序列\n",
    "# bytearray:由二进制组成的有序的可变序列"
   ]
  },
  {
   "cell_type": "code",
   "execution_count": null,
   "metadata": {},
   "outputs": [],
   "source": [
    "# 编码：\n",
    "# encode(encoding=\"utf-8\", errors=\"strict\") -> bytes\n",
    "# 解码：\n",
    "# bytes.decode(encoding=\"utf-8\", errors=\"strict\") -> str\n",
    "# bytearray.decode(encoding=\"utf-8\", errors=\"strict\") -> str\n",
    "# errors -- 设置不同错误的处理方案。默认为 'strict',意为编码错误引起一个UnicodeError。 \n",
    "# 其他可能得值有 'ignore', 'replace', 'xmlcharrefreplace', 'backslashreplace' 以及通过 codecs.register_error() 注册的任何值。"
   ]
  },
  {
   "cell_type": "code",
   "execution_count": 2,
   "metadata": {},
   "outputs": [
    {
     "data": {
      "text/plain": [
       "'中'"
      ]
     },
     "execution_count": 2,
     "metadata": {},
     "output_type": "execute_result"
    }
   ],
   "source": [
    "b\"\\xe4\\xb8\\xad\".decode()"
   ]
  },
  {
   "cell_type": "code",
   "execution_count": 3,
   "metadata": {},
   "outputs": [
    {
     "data": {
      "text/plain": [
       "b'\\xe4\\xb8\\xad'"
      ]
     },
     "execution_count": 3,
     "metadata": {},
     "output_type": "execute_result"
    }
   ],
   "source": [
    "bytes((0xe4, 0xb8, 0xad))"
   ]
  },
  {
   "cell_type": "code",
   "execution_count": 4,
   "metadata": {},
   "outputs": [
    {
     "data": {
      "text/plain": [
       "'中'"
      ]
     },
     "execution_count": 4,
     "metadata": {},
     "output_type": "execute_result"
    }
   ],
   "source": [
    "_.decode()  # _:上次的输出结果"
   ]
  },
  {
   "cell_type": "code",
   "execution_count": null,
   "metadata": {},
   "outputs": [],
   "source": [
    "bytes.from"
   ]
  }
 ],
 "metadata": {
  "kernelspec": {
   "display_name": "Python 3",
   "language": "python",
   "name": "python3"
  },
  "language_info": {
   "codemirror_mode": {
    "name": "ipython",
    "version": 3
   },
   "file_extension": ".py",
   "mimetype": "text/x-python",
   "name": "python",
   "nbconvert_exporter": "python",
   "pygments_lexer": "ipython3",
   "version": "3.7.3"
  }
 },
 "nbformat": 4,
 "nbformat_minor": 2
}
