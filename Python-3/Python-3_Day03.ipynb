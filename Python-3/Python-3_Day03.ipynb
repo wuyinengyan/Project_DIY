{
 "cells": [
  {
   "cell_type": "markdown",
   "metadata": {},
   "source": [
    "# ！位运算符"
   ]
  },
  {
   "cell_type": "code",
   "execution_count": null,
   "metadata": {},
   "outputs": [],
   "source": [
    "# ！！！二进制数在内存中以补码的形式存储，所有运算都是针对补码的，之后再算回原码"
   ]
  },
  {
   "cell_type": "code",
   "execution_count": 1,
   "metadata": {},
   "outputs": [],
   "source": [
    "# 位运算符  说明     使用形式  举例\n",
    "# &        按位与     a & b    4 & 5\n",
    "# |        按位或     a | b    4 | 5\n",
    "# ^        按位异或   a ^ b    4 ^ 5\n",
    "# ~        按位取反   ~a       ~4\n",
    "# <<       按位左移   a << b   4 << 2，表示数字 4 按位左移 2 位\n",
    "# >>       按位右移   a >> b   4 >> 2，表示数字 4 按位右移 2 位"
   ]
  },
  {
   "cell_type": "code",
   "execution_count": 2,
   "metadata": {},
   "outputs": [],
   "source": [
    "# 原码是直接将一个数值换算成二进制数。有符号整数的最高位是符号位，符号位为 0 代表正数，符号位为 1 代表负数。\n",
    "# 无符号整数则没有符号位，因此无符号整数只能表示 0 和正数。\n",
    "# 反码：正数的反码与其原码相同，负数的反码是对正数逐位取反，符号位保持为1。\n",
    "# 补码：正数的补码与其原码相同，负数的补码是其反码 + 1；"
   ]
  },
  {
   "cell_type": "code",
   "execution_count": 17,
   "metadata": {},
   "outputs": [
    {
     "data": {
      "text/plain": [
       "4"
      ]
     },
     "execution_count": 17,
     "metadata": {},
     "output_type": "execute_result"
    }
   ],
   "source": [
    "4 & 5  \n",
    "# 0000 0000 0000 0100 -> 4的原码\n",
    "# 0000 0000 0000 0101 -> 5的原码\n",
    "#                   & -> 按位与\n",
    "# 0000 0000 0000 0100 -> 4的原码"
   ]
  },
  {
   "cell_type": "code",
   "execution_count": 14,
   "metadata": {},
   "outputs": [
    {
     "name": "stdout",
     "output_type": "stream",
     "text": [
      "0\n",
      "1\n"
     ]
    }
   ],
   "source": [
    "# 判断奇偶数，效率比 i%2==0 略高\n",
    "print(4 & 1)  # 偶数的按位与 -> 0\n",
    "print(7 & 1)  # 奇数的按位与 -> 1"
   ]
  },
  {
   "cell_type": "code",
   "execution_count": 4,
   "metadata": {},
   "outputs": [
    {
     "data": {
      "text/plain": [
       "5"
      ]
     },
     "execution_count": 4,
     "metadata": {},
     "output_type": "execute_result"
    }
   ],
   "source": [
    "4 | 5  \n",
    "# 0000 0000 0000 0100 -> 4的补码 == 4的原码\n",
    "# 0000 0000 0000 0101 -> 5的补码 == 5的原码  \n",
    "#                   | -> 按位或\n",
    "# 0000 0000 0000 0101 -> 5的原码 == 5的补码"
   ]
  },
  {
   "cell_type": "code",
   "execution_count": 5,
   "metadata": {},
   "outputs": [
    {
     "data": {
      "text/plain": [
       "1"
      ]
     },
     "execution_count": 5,
     "metadata": {},
     "output_type": "execute_result"
    }
   ],
   "source": [
    "4 ^ 5  \n",
    "# 0000 0000 0000 0100 -> 4的补码 == 4的原码\n",
    "# 0000 0000 0000 0101 -> 5的补码 == 5的原码 \n",
    "#                   ^ -> 按位异或\n",
    "# 0000 0000 0000 0001 -> 1的原码 == 1的补码"
   ]
  },
  {
   "cell_type": "code",
   "execution_count": 6,
   "metadata": {},
   "outputs": [
    {
     "data": {
      "text/plain": [
       "-5"
      ]
     },
     "execution_count": 6,
     "metadata": {},
     "output_type": "execute_result"
    }
   ],
   "source": [
    "~4\n",
    "# 0000 0000 0000 0100 -> 4的补码 == 4的原码\n",
    "# 1111 1111 1111 1011 -> 按位取反（补码形式），需要再次求其补码，即补码的补码 = 原码\n",
    "# 1000 0000 0000 0100 -> 反码：负数的反码是对正数逐位取反，符号位保持为1\n",
    "# 1000 0000 0000 0101 -> 补码：负数的补码是其反码 + 1"
   ]
  },
  {
   "cell_type": "code",
   "execution_count": 7,
   "metadata": {},
   "outputs": [
    {
     "data": {
      "text/plain": [
       "3"
      ]
     },
     "execution_count": 7,
     "metadata": {},
     "output_type": "execute_result"
    }
   ],
   "source": [
    "~-4\n",
    "# 1000 0000 0000 0100 -> -4的原码\n",
    "# 1111 1111 1111 1011 -> -4的反码\n",
    "# 1111 1111 1111 1100 -> -4的补码\n",
    "# 0000 0000 0000 0011 -> 按位取反（补码形式），需要再次求其补码，即补码的补码 = 原码\n",
    "# 0000 0000 0000 0011 -> 补码：正数的补码与其原码相同"
   ]
  },
  {
   "cell_type": "code",
   "execution_count": 8,
   "metadata": {},
   "outputs": [
    {
     "data": {
      "text/plain": [
       "16"
      ]
     },
     "execution_count": 8,
     "metadata": {},
     "output_type": "execute_result"
    }
   ],
   "source": [
    "4 << 2\n",
    "# 0000 0000 0000 0100 -> 4的补码 == 4的原码\n",
    "#                  << -> 左移2位\n",
    "# 0000 0000 0001 0000 -> 16的原码 == 16的补码"
   ]
  },
  {
   "cell_type": "code",
   "execution_count": 12,
   "metadata": {},
   "outputs": [
    {
     "data": {
      "text/plain": [
       "(1, 0)"
      ]
     },
     "execution_count": 12,
     "metadata": {},
     "output_type": "execute_result"
    }
   ],
   "source": [
    "4 >> 2, 4 >> 4\n",
    "# 0000 0000 0000 0100 -> 4的补码 == 4的原码\n",
    "#                  >> -> 右移2位\n",
    "# 0000 0000 0000 0001 -> 1的原码 == 1的补码\n",
    "#                  >> -> 右移4位\n",
    "# 0000 0000 0000 0000 -> 0的原码 == 0的补码"
   ]
  },
  {
   "cell_type": "markdown",
   "metadata": {},
   "source": [
    "# 数组类型"
   ]
  },
  {
   "cell_type": "code",
   "execution_count": null,
   "metadata": {},
   "outputs": [],
   "source": [
    "# 数值型：\n",
    "# int：python3的int就是长整型，没有大小限制，受限于内存区域的大小\n",
    "# float：有整数和小数部分组成，支持十进制和科学计数法。只有双精度行。\n",
    "# complex：复数，有实部和虚部组成，都是浮点数， 2+4.2j\n",
    "# bool：int的子类，可以和int运算\n",
    "\n",
    "# 序列对象：\n",
    "# str：\n",
    "# list：\n",
    "# tuple：\n",
    "\n",
    "# 键值对：\n",
    "# set：\n",
    "# dict："
   ]
  },
  {
   "cell_type": "code",
   "execution_count": 2,
   "metadata": {},
   "outputs": [
    {
     "name": "stdout",
     "output_type": "stream",
     "text": [
      "1.0 3.0\n",
      "(2+4.2j) <class 'complex'>\n"
     ]
    }
   ],
   "source": [
    "x = 1 + 3j\n",
    "print(x.real, x.imag)  # 获取复数x的实部和虚部；都是浮点型\n",
    "print(complex(2, 4.2), type(complex(2, 4.2)))"
   ]
  },
  {
   "cell_type": "markdown",
   "metadata": {},
   "source": [
    "# math"
   ]
  },
  {
   "cell_type": "code",
   "execution_count": 6,
   "metadata": {},
   "outputs": [
    {
     "name": "stdout",
     "output_type": "stream",
     "text": [
      "2 -3\n",
      "3 -2\n",
      "-3 -2 -1\n",
      "-4 2 2\n",
      "3 -4 -4 -3\n",
      "0 -1 -1\n"
     ]
    }
   ],
   "source": [
    "import math\n",
    "\n",
    "print(math.floor(2.5), math.floor(-2.5))  # 地板，去小\n",
    "print(math.ceil(2.5), math.ceil(-2.5))  # 天花板，去大\n",
    "print(int(-3.6), int(-2.5), int(-1.4))  # 取整\n",
    "print(round(-3.5), round(2.5), round(1.5))  # 四舍六入、五取偶\n",
    "print(7//2, 7//-2, -7//2, -(7//2)) # == math.floor\n",
    "print(1//3, -2//3, -1//3) # == math.floor"
   ]
  },
  {
   "cell_type": "code",
   "execution_count": 21,
   "metadata": {},
   "outputs": [
    {
     "name": "stdout",
     "output_type": "stream",
     "text": [
      "3.141592653589793\n",
      "5040\n"
     ]
    }
   ],
   "source": [
    "import math\n",
    "# pow(x ,y)  # 幂 == x ** y（基本不用）\n",
    "print(math.pi)\n",
    "print(math.factorial(7))  # 阶乘"
   ]
  },
  {
   "cell_type": "code",
   "execution_count": 11,
   "metadata": {},
   "outputs": [
    {
     "name": "stdout",
     "output_type": "stream",
     "text": [
      "0b1100 <class 'str'>\n",
      "0o14 <class 'str'>\n",
      "0xc <class 'str'>\n"
     ]
    }
   ],
   "source": [
    "print(bin(12), type(bin(12)))  # 二进制，返回字符串\n",
    "print(oct(12), type(oct(12)))  # 八进制，返回字符串\n",
    "print(hex(12), type(hex(12)))  # 十六进制，返回字符串"
   ]
  },
  {
   "cell_type": "markdown",
   "metadata": {},
   "source": [
    "# decimal、float"
   ]
  },
  {
   "cell_type": "code",
   "execution_count": 20,
   "metadata": {},
   "outputs": [
    {
     "name": "stdout",
     "output_type": "stream",
     "text": [
      "3.0 0.30000000000000004 False\n",
      "True\n"
     ]
    }
   ],
   "source": [
    "# float和decimal的不同\n",
    "print(6 / 2, 0.1 + 0.2, 0.3 == 0.1 + 0.2)  # 浮点数的比较大小\n",
    "\n",
    "import decimal  # 精度更高\n",
    "\n",
    "a = decimal.Decimal(\"0.1\")\n",
    "b = decimal.Decimal(\"0.2\")\n",
    "c = decimal.Decimal(\"0.3\")\n",
    "print(a + b == c)"
   ]
  },
  {
   "cell_type": "code",
   "execution_count": 18,
   "metadata": {},
   "outputs": [
    {
     "name": "stdout",
     "output_type": "stream",
     "text": [
      "0.1 0.2 0.30000000000000004 0.4 0.5 0.6 0.7 0.7999999999999999 0.8999999999999999 0.9999999999999999 1.0999999999999999 "
     ]
    }
   ],
   "source": [
    "i = 0 \n",
    "while i < 1:\n",
    "    i += 0.1\n",
    "    print(i, end=\" \")"
   ]
  },
  {
   "cell_type": "code",
   "execution_count": 22,
   "metadata": {},
   "outputs": [
    {
     "name": "stdout",
     "output_type": "stream",
     "text": [
      "True\n",
      "<class 'float'>\n"
     ]
    }
   ],
   "source": [
    "print(isinstance(6, (str, bool, int)))  # 后面接的可迭代对象\n",
    "print(type(1 + True + 2.0))  # 隐性转换"
   ]
  },
  {
   "cell_type": "markdown",
   "metadata": {},
   "source": [
    "# random"
   ]
  },
  {
   "cell_type": "code",
   "execution_count": 23,
   "metadata": {},
   "outputs": [],
   "source": [
    "# random伪随机的实现"
   ]
  },
  {
   "cell_type": "code",
   "execution_count": 27,
   "metadata": {},
   "outputs": [
    {
     "name": "stdout",
     "output_type": "stream",
     "text": [
      "3 4 3 1 1 \n",
      "3 4 3 1 1 4 5 4 4 5 "
     ]
    }
   ],
   "source": [
    "import random\n",
    "\n",
    "x = random.getstate()  # getstate() 用来记录生成器的状态\n",
    "[print(random.randint(1, 5), end=\" \") for _ in range(5)]\n",
    "random.setstate(x)  # setstate(state) 用来将生成器恢复到上次记录的状态\n",
    "print()\n",
    "\n",
    "for i in range(10):\n",
    "    print(random.randint(1, 5), end=\" \")"
   ]
  }
 ],
 "metadata": {
  "kernelspec": {
   "display_name": "Python 3",
   "language": "python",
   "name": "python3"
  },
  "language_info": {
   "codemirror_mode": {
    "name": "ipython",
    "version": 3
   },
   "file_extension": ".py",
   "mimetype": "text/x-python",
   "name": "python",
   "nbconvert_exporter": "python",
   "pygments_lexer": "ipython3",
   "version": "3.7.3"
  }
 },
 "nbformat": 4,
 "nbformat_minor": 2
}
