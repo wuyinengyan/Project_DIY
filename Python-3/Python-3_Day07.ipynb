{
 "cells": [
  {
   "cell_type": "markdown",
   "metadata": {},
   "source": [
    "# 杨辉三角2：Cmn"
   ]
  },
  {
   "cell_type": "code",
   "execution_count": 1,
   "metadata": {},
   "outputs": [],
   "source": [
    "# 求杨辉三角第m行的第n个数\n",
    "# 求Cmn=m! / (n! * (m-n)!)"
   ]
  },
  {
   "cell_type": "code",
   "execution_count": 3,
   "metadata": {},
   "outputs": [
    {
     "name": "stdout",
     "output_type": "stream",
     "text": [
      "21\n"
     ]
    }
   ],
   "source": [
    "def combination(m, n):\n",
    "    res = []\n",
    "    factorial = 1\n",
    "    \n",
    "    c = m - n\n",
    "    for i in range(1, m + 1):\n",
    "        factorial *= i\n",
    "        \n",
    "        if i == c:\n",
    "            res.append(factorial)  # (m-n)!\n",
    "        if i == n:\n",
    "            res.append(factorial)  # n!\n",
    "        if i == m:\n",
    "            res.append(factorial)  # m!\n",
    "\n",
    "    print(int(res[2] / (res[0] * res[1])))\n",
    "\n",
    "combination(7, 2)"
   ]
  },
  {
   "cell_type": "markdown",
   "metadata": {},
   "source": [
    "# 矩阵置换"
   ]
  },
  {
   "cell_type": "code",
   "execution_count": 4,
   "metadata": {},
   "outputs": [
    {
     "data": {
      "text/plain": [
       "[[1, 4, 7, 11], [2, 5, 8, 12], [3, 6, 9, 13]]"
      ]
     },
     "execution_count": 4,
     "metadata": {},
     "output_type": "execute_result"
    }
   ],
   "source": [
    "li1 = [[1,2,3], [4,5,6], [7,8,9], [11,12,13]]\n",
    "\n",
    "# 一次性开辟内存空间，但是多了循环次数，效率优势视情况而定\n",
    "# 矩阵规模越大，先开辟内存空间，比之后append效率更高\n",
    "li2 = [[0 for j in range(len(li1))] for i in range(len(li1[0]))]\n",
    "\n",
    "for i in range(len(li1[0])):\n",
    "    for j in range(len(li1)):\n",
    "        li2[i][j] = li1[j][i]\n",
    "        \n",
    "li2"
   ]
  },
  {
   "cell_type": "markdown",
   "metadata": {},
   "source": [
    "# 丢弃变量_"
   ]
  },
  {
   "cell_type": "code",
   "execution_count": 6,
   "metadata": {},
   "outputs": [
    {
     "name": "stdout",
     "output_type": "stream",
     "text": [
      "1 4 6\n"
     ]
    }
   ],
   "source": [
    "# 去字符串的第2,5,7个\n",
    "li = [i for i in range(10)]\n",
    "\n",
    "_, a, _, _, b, _, c, *_ = li  # _表示该变量没有任何意义，不希望之后被使用\n",
    "print(a, b, c)"
   ]
  },
  {
   "cell_type": "code",
   "execution_count": 7,
   "metadata": {},
   "outputs": [
    {
     "name": "stdout",
     "output_type": "stream",
     "text": [
      "JAVA_HOME /usr/bin\n"
     ]
    }
   ],
   "source": [
    "str = r\"JAVA_HOME=/usr/bin\"\n",
    "\n",
    "a, _, b = str.partition(\"=\")  # 一刀两断，用partition，不用split\n",
    "print(a, b)"
   ]
  },
  {
   "cell_type": "markdown",
   "metadata": {},
   "source": [
    "# set"
   ]
  },
  {
   "cell_type": "code",
   "execution_count": null,
   "metadata": {},
   "outputs": [],
   "source": [
    "# 可变的：除了list、dict、set，即不可变\n",
    "# 无序的：非线性、不可索引\n",
    "# 不重复："
   ]
  },
  {
   "cell_type": "code",
   "execution_count": 19,
   "metadata": {},
   "outputs": [
    {
     "data": {
      "text/plain": [
       "dict"
      ]
     },
     "execution_count": 19,
     "metadata": {},
     "output_type": "execute_result"
    }
   ],
   "source": [
    "type({})"
   ]
  },
  {
   "cell_type": "code",
   "execution_count": 20,
   "metadata": {},
   "outputs": [
    {
     "data": {
      "text/plain": [
       "{'1', '2', '3', 'a', 'b', 'c'}"
      ]
     },
     "execution_count": 20,
     "metadata": {},
     "output_type": "execute_result"
    }
   ],
   "source": [
    "s = set()  # 创建空集合\n",
    "s.update(\"123\", \"abc\")  # 字符串作为可迭代对象处理\n",
    "s"
   ]
  },
  {
   "cell_type": "code",
   "execution_count": 21,
   "metadata": {},
   "outputs": [
    {
     "data": {
      "text/plain": [
       "{'1', '123', '2', '3', 'a', 'b', 'c'}"
      ]
     },
     "execution_count": 21,
     "metadata": {},
     "output_type": "execute_result"
    }
   ],
   "source": [
    "s.add(\"123\")  # 添加字符串\n",
    "s"
   ]
  },
  {
   "cell_type": "code",
   "execution_count": 22,
   "metadata": {},
   "outputs": [
    {
     "data": {
      "text/plain": [
       "{'1', '123', '2', '3', 'a', 'abc', 'b', 'c'}"
      ]
     },
     "execution_count": 22,
     "metadata": {},
     "output_type": "execute_result"
    }
   ],
   "source": [
    "s.update((\"123\", \"abc\"))  # 批量添加字符串，已重复的元素，不会再次添加\n",
    "s"
   ]
  },
  {
   "cell_type": "code",
   "execution_count": 18,
   "metadata": {},
   "outputs": [],
   "source": [
    "s.remove(\"123\")  # 如果元素不存在，KeyError: '123'\n",
    "s.discard(\"123\") # 如果元素不存在，无视\n",
    "s.pop()  # -> item 随机移除，返回弹出值，如果是空集合，则KeyError\n",
    "s.clear()  # 清空"
   ]
  },
  {
   "cell_type": "code",
   "execution_count": 25,
   "metadata": {},
   "outputs": [],
   "source": [
    "list1 = list(range(100))\n",
    "list2 = list(range(100000))\n",
    "set1 = set(range(100))\n",
    "set2 = set(range(1000000))"
   ]
  },
  {
   "cell_type": "code",
   "execution_count": 26,
   "metadata": {},
   "outputs": [
    {
     "name": "stdout",
     "output_type": "stream",
     "text": [
      "1.22 µs ± 16.6 ns per loop (mean ± std. dev. of 7 runs, 1000000 loops each)\n"
     ]
    }
   ],
   "source": [
    "%timeit (-1 in list1)"
   ]
  },
  {
   "cell_type": "code",
   "execution_count": 27,
   "metadata": {},
   "outputs": [
    {
     "name": "stdout",
     "output_type": "stream",
     "text": [
      "1.21 ms ± 9.17 µs per loop (mean ± std. dev. of 7 runs, 1000 loops each)\n"
     ]
    }
   ],
   "source": [
    "%timeit (-1 in list2)"
   ]
  },
  {
   "cell_type": "code",
   "execution_count": 28,
   "metadata": {},
   "outputs": [
    {
     "name": "stdout",
     "output_type": "stream",
     "text": [
      "45 ns ± 1.14 ns per loop (mean ± std. dev. of 7 runs, 10000000 loops each)\n"
     ]
    }
   ],
   "source": [
    "%timeit (-1 in set1)"
   ]
  },
  {
   "cell_type": "code",
   "execution_count": 29,
   "metadata": {},
   "outputs": [
    {
     "name": "stdout",
     "output_type": "stream",
     "text": [
      "45.7 ns ± 0.727 ns per loop (mean ± std. dev. of 7 runs, 10000000 loops each)\n"
     ]
    }
   ],
   "source": [
    "%timeit (-1 in set2)"
   ]
  },
  {
   "cell_type": "code",
   "execution_count": null,
   "metadata": {},
   "outputs": [],
   "source": [
    "# 上述测试说明：\n",
    "# list查询的时间复杂度O(n)，set查询的时间复杂度O(1)\n",
    "# set、dict的查询时间不随数据量增加而增加\n",
    "# set、dict的内部使用hash值作为key"
   ]
  },
  {
   "cell_type": "markdown",
   "metadata": {},
   "source": [
    "# 集合运算符"
   ]
  },
  {
   "cell_type": "code",
   "execution_count": 30,
   "metadata": {},
   "outputs": [],
   "source": [
    "# 子集、超集、真子集、真超集"
   ]
  },
  {
   "cell_type": "code",
   "execution_count": null,
   "metadata": {},
   "outputs": [],
   "source": [
    "# 并集：A∪B\n",
    "| == union(*others)\n",
    "|= == update(*others)"
   ]
  },
  {
   "cell_type": "code",
   "execution_count": null,
   "metadata": {},
   "outputs": [],
   "source": [
    "# 交集：A∩B\n",
    "& == intersection(*others)\n",
    "&= == intersection_update(*others)"
   ]
  },
  {
   "cell_type": "code",
   "execution_count": null,
   "metadata": {},
   "outputs": [],
   "source": [
    "# 差集：A-B\n",
    "- == difference(*others)\n",
    "-= == difference_update(*others)"
   ]
  },
  {
   "cell_type": "code",
   "execution_count": null,
   "metadata": {},
   "outputs": [],
   "source": [
    "# 对称差集：(A-B)∪(B-A)\n",
    "^ == symmertric_difference(other)\n",
    "^= == symmertric_difference_update(other)"
   ]
  },
  {
   "cell_type": "code",
   "execution_count": null,
   "metadata": {},
   "outputs": [],
   "source": [
    "set1 <= set2 == set1.issubset(set2)  # set1是否是set2的子集\n",
    "set1 >= set2 == set1.isuperset(set2)  # set1是否是set2的超集\n",
    "set1 < set2  # set1是否是set2的真子集\n",
    "set1 > set2  # set1是否是set2的真超集\n",
    "set1 & set2 = set()\n",
    "set1.isdisjoint(set2) # set1和set2是否没有交集"
   ]
  },
  {
   "cell_type": "markdown",
   "metadata": {},
   "source": [
    "# dict"
   ]
  },
  {
   "cell_type": "code",
   "execution_count": null,
   "metadata": {},
   "outputs": [],
   "source": [
    "# defaultdict  # 缺省字典\n",
    "# OrderedDict  # 有序字典，记录key插入的顺序，v 3.6.x以后默认都是有序字典"
   ]
  },
  {
   "cell_type": "code",
   "execution_count": 31,
   "metadata": {},
   "outputs": [
    {
     "name": "stdout",
     "output_type": "stream",
     "text": [
      "defaultdict(<class 'list'>, {'a': [0, 1, 2, 3, 4], 'b': [0], 'c': [0, 1, 2], 'd': [0, 1, 2, 3, 4], 'e': [0, 1, 2]})\n"
     ]
    }
   ],
   "source": [
    "import random\n",
    "from collections import defaultdict\n",
    "\n",
    "# 缺省字典，第一个参数default_factory，缺省是None，提供一个初始化函数。\n",
    "# 当key不存在时，会调用这个工厂函数来生成key对应的value\n",
    "collections.default(default_factory[,...])\n",
    "d = defaultdict(list)  # 省略下面两行\n",
    "for c in \"abcde\":\n",
    "    for i in range(random.randint(1,5)):\n",
    "        # if d[c] not in d:  # 可省略\n",
    "        #     d[c] = list()  # == d[c] = []  可省略\n",
    "        d[c].append(i)\n",
    "        \n",
    "print(d)"
   ]
  },
  {
   "cell_type": "markdown",
   "metadata": {},
   "source": [
    "# 内建函数"
   ]
  },
  {
   "cell_type": "code",
   "execution_count": 34,
   "metadata": {},
   "outputs": [
    {
     "data": {
      "text/plain": [
       "(6, 66)"
      ]
     },
     "execution_count": 34,
     "metadata": {},
     "output_type": "execute_result"
    }
   ],
   "source": [
    "# divmod(x, y) == (x//y, x%y)\n",
    "divmod(666, 100)"
   ]
  },
  {
   "cell_type": "code",
   "execution_count": null,
   "metadata": {},
   "outputs": [],
   "source": [
    "iter(iterable)、next(iterator[,default])\n",
    "# iter将一个可迭代对象封装成一个迭代器\n",
    "# next对一个迭代器取下一个元素。超出后，输出defautl，没有缺省值，则输出抛出异常StopIteration"
   ]
  }
 ],
 "metadata": {
  "kernelspec": {
   "display_name": "Python 3",
   "language": "python",
   "name": "python3"
  },
  "language_info": {
   "codemirror_mode": {
    "name": "ipython",
    "version": 3
   },
   "file_extension": ".py",
   "mimetype": "text/x-python",
   "name": "python",
   "nbconvert_exporter": "python",
   "pygments_lexer": "ipython3",
   "version": "3.7.3"
  }
 },
 "nbformat": 4,
 "nbformat_minor": 2
}
