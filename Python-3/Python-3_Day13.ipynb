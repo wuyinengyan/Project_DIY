{
 "cells": [
  {
   "cell_type": "markdown",
   "metadata": {},
   "source": [
    "# re"
   ]
  },
  {
   "cell_type": "code",
   "execution_count": null,
   "metadata": {},
   "outputs": [],
   "source": [
    "# re: Regular Expression\n",
    "工具 Regex Tester"
   ]
  },
  {
   "cell_type": "code",
   "execution_count": null,
   "metadata": {},
   "outputs": [],
   "source": [
    ". 匹配除换行符外的任意一个字符\n",
    "* == {0,}  至少0次\n",
    "? == {0,1} 0或1次\n",
    "+ == {1,}  至少1次\n",
    "\\bb 单词以b开头的字符b\n",
    "t\\B 单词包含t但不以t结尾的字符t\n",
    "\\Bb 单词不以b开头的字符b\n",
    "\\w 匹配[a-zA-Z0-9_]，包括中文字符\n",
    "\\W 匹配\\w之外的字符"
   ]
  },
  {
   "cell_type": "code",
   "execution_count": null,
   "metadata": {},
   "outputs": [],
   "source": [
    "\\数字: 匹配对应的分组\n",
    "(very) \\1 匹配very very"
   ]
  },
  {
   "cell_type": "code",
   "execution_count": null,
   "metadata": {},
   "outputs": [],
   "source": [
    "1. re.match, re.search, re.finditer 的返回值均为m=<re.Match object; span=(0, 1), match='她'>类型，\n",
    "    若想获得匹配值的位置：m.span()；\n",
    "    若想获得匹配值的内容，m.group()；\n",
    "    特殊：re.finditer返回的为迭代器需要循环输出\n",
    "2. re.sub返回替换后的内容\n",
    "3. re.findall 返回匹配值的列表\n",
    "4. ?P<value1>为组名，可根据组名定位匹配值的位置， 注意：是在.group()中的标记"
   ]
  }
 ],
 "metadata": {
  "kernelspec": {
   "display_name": "Python 3",
   "language": "python",
   "name": "python3"
  },
  "language_info": {
   "codemirror_mode": {
    "name": "ipython",
    "version": 3
   },
   "file_extension": ".py",
   "mimetype": "text/x-python",
   "name": "python",
   "nbconvert_exporter": "python",
   "pygments_lexer": "ipython3",
   "version": "3.7.3"
  }
 },
 "nbformat": 4,
 "nbformat_minor": 2
}
