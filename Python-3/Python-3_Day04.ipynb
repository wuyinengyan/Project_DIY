{
 "cells": [
  {
   "cell_type": "markdown",
   "metadata": {},
   "source": [
    "# 数据结构：Stack/栈"
   ]
  },
  {
   "cell_type": "code",
   "execution_count": 2,
   "metadata": {},
   "outputs": [],
   "source": [
    "# 程序=数据结构+算法"
   ]
  },
  {
   "cell_type": "code",
   "execution_count": 3,
   "metadata": {},
   "outputs": [],
   "source": [
    "# Python将数存放在一个内存单元中，在列表中的元素指向那个内存单元。所以列表中的元素在内存单元中可能在一起，也可能不在一起。\n",
    "# [].insert()、[].remove()、[].pop(0)的时间复杂度为o(n)\n",
    "# [].append()、[].pop()的时间复杂度为o(1)"
   ]
  },
  {
   "cell_type": "code",
   "execution_count": 4,
   "metadata": {},
   "outputs": [],
   "source": [
    "# 栈(Stack)是一个数据集合，可以理解为只能在一端进行插入或删除操作的列表。\n",
    "# 栈的特点：后进先出\n",
    "# 进栈函数：append()\n",
    "# 出栈函数：pop()\n",
    "# 查看栈顶函数：li[-1]"
   ]
  },
  {
   "cell_type": "code",
   "execution_count": 6,
   "metadata": {},
   "outputs": [
    {
     "data": {
      "text/plain": [
       "True"
      ]
     },
     "execution_count": 6,
     "metadata": {},
     "output_type": "execute_result"
    }
   ],
   "source": [
    "# 示例：给一个字符串，其中包含小括号、中括号、大括号，求该字符串中的括号是否匹配。\n",
    "# 思路：检查字符串是否包含\"{\",\"[\",\"(\"如果包含则将其入栈，遇到\"}\",\"]\",\")\"时检查当前栈顶，相同则将其出栈，否则返回False\n",
    "def check_kuohao(str1):\n",
    "    stack = []\n",
    "    for s in str1:\n",
    "        if s in \"([{\":\n",
    "            stack.append(s)\n",
    "        elif s == \")\":\n",
    "            if len(stack) > 0 and stack[-1] == \"(\":\n",
    "                stack.pop()\n",
    "            else:\n",
    "                return False\n",
    "        elif s == \"]\":\n",
    "            if len(stack) > 0 and stack[-1] == \"[\":\n",
    "                stack.pop()\n",
    "            else:\n",
    "                return False\n",
    "        elif s == \"}\":\n",
    "            if len(stack) > 0 and stack[-1] == \"{\":\n",
    "                stack.pop()\n",
    "            else:\n",
    "                return False\n",
    "    if not len(stack):\n",
    "        return True\n",
    "    return False\n",
    "\n",
    "check_kuohao(\"({1})\")"
   ]
  },
  {
   "cell_type": "code",
   "execution_count": 6,
   "metadata": {},
   "outputs": [
    {
     "name": "stdout",
     "output_type": "stream",
     "text": [
      "[(1, 1), (2, 1), (3, 1), (4, 1), (5, 1), (5, 2), (5, 3), (6, 3), (6, 4), (6, 5), (5, 5), (5, 6), (5, 7), (6, 7), (6, 8), (7, 8), (8, 8)]\n",
      "解题成功！\n"
     ]
    }
   ],
   "source": [
    "# 示例：迷宫问题（深度优先，一条路走到黑）\n",
    "maze = [\n",
    "    [1,1,1,1,1,1,1,1,1,1],\n",
    "    [1,0,0,1,0,0,0,1,0,1],\n",
    "    [1,0,0,1,0,0,0,1,0,1],\n",
    "    [1,0,0,0,0,1,1,0,0,1],\n",
    "    [1,0,1,1,1,0,0,0,0,1],\n",
    "    [1,0,0,0,1,0,0,0,0,1],\n",
    "    [1,0,1,0,0,0,1,0,0,1],\n",
    "    [1,0,1,1,1,0,1,1,0,1],\n",
    "    [1,1,0,0,0,0,0,1,0,1],\n",
    "    [1,1,1,1,1,1,1,1,1,1]\n",
    "]\n",
    "\n",
    "def mazepath(x1, y1, x2, y2):\n",
    "    # 移动的方法队列，返回一个元组\n",
    "    # 移动的规则，关系到移动路径是否最短、是否是唯一解\n",
    "    # 起点在左上，则优先向下、向右\n",
    "    dirs = [\n",
    "        lambda x, y: (x + 1, y),  # 向下一步\n",
    "        lambda x, y: (x, y + 1),  # 向右一步\n",
    "        lambda x, y: (x - 1, y),  # 向上一步\n",
    "        lambda x, y: (x, y - 1),  # 向左一步\n",
    "    ]\n",
    "    \n",
    "    stepstack = []  # 记录移动的痕迹步骤\n",
    "    stepstack.append((x1, y1))  # 初始位置\n",
    "    \n",
    "    while len(stepstack) > 0:\n",
    "        laststep = laststep_x, laststep_y = stepstack[-1]  # 最后一步\n",
    "        \n",
    "        if laststep_x == x2 and laststep_y == y2:  # 到达终点\n",
    "            print([step for step in stepstack])  # 打印移动的痕迹步骤\n",
    "            return print(\"解题成功！\")\n",
    "        else:\n",
    "            for dir in dirs:  # 上下左右尝试下一步\n",
    "                # nextstep = nextstep_x, nextstep_y = dir(laststep)  # 参数是2个变量，不是1个元组，可以用*把元组拆成两个元素\n",
    "                nextstep = nextstep_x, nextstep_y = dir(*laststep)  # 下一步 == dir(laststep_x, laststep_y)\n",
    "                if maze[nextstep_x][nextstep_y] == 0:  # 如果这一步可以走，不是墙\n",
    "                    stepstack.append(nextstep)\n",
    "                    maze[nextstep_x][nextstep_y] = -1  # 标志这一步已经走过了\n",
    "                    break             \n",
    "            else:  # 各种尝试失败后，后退一步\n",
    "                stepstack.pop()\n",
    "                \n",
    "    return print(\"此题无解！\")\n",
    "    \n",
    "mazepath(1, 1, 8, 8)"
   ]
  },
  {
   "cell_type": "markdown",
   "metadata": {},
   "source": [
    "# 数据结构：Queue/队列"
   ]
  },
  {
   "cell_type": "code",
   "execution_count": 8,
   "metadata": {},
   "outputs": [],
   "source": [
    "# https://www.cnblogs.com/x54256/p/8312938.html\n",
    "# 队列(Queue)是一个数据集合，仅允许在列表的一端进行插入，另一端进行删除。\n",
    "# 进行插入的一端称为队尾(rear)，插入动作称为进队或入队，进行删除的一端称为队头(front)，删除动作称为出队\n",
    "# 队列的性质：先进先出"
   ]
  },
  {
   "cell_type": "code",
   "execution_count": 9,
   "metadata": {},
   "outputs": [],
   "source": [
    "# 双向队列：队列的两端都允许进行进队和出队操作。\n",
    "# 队列的实现原理：\n",
    "# 初步设想：列表+两个下标指针\n",
    "# 创建一个列表和两个变量，front变量指向队首，rear变量指向队尾。初始时，front和rear都为0。\n",
    "# 进队操作：元素写到li[rear]的位置，rear自增1。\n",
    "# 出队操作：返回li[front]的元素，front自增1。"
   ]
  },
  {
   "cell_type": "code",
   "execution_count": 10,
   "metadata": {},
   "outputs": [],
   "source": [
    "# 环形队列：\n",
    "# 实现方式：求余数运算\n",
    "# 队首指针前进1：front = (front + 1) % MaxSize\n",
    "# 队尾指针前进1：rear = (rear + 1) % MaxSize\n",
    "# 队空条件：rear == front\n",
    "# 队满条件：(rear + 1) % MaxSize == front  # 其实还空着一个单元"
   ]
  },
  {
   "cell_type": "code",
   "execution_count": null,
   "metadata": {},
   "outputs": [],
   "source": [
    "# Python实现队列：\n",
    "# from collections import deque　　# 双向队列\n",
    "# 创建队列：queue = deque(li)\n",
    "# 队尾进队：append\n",
    "# 队尾出队：pop\n",
    "# 队首进队：appendleft\n",
    "# 队首出队：popleft"
   ]
  },
  {
   "cell_type": "code",
   "execution_count": 7,
   "metadata": {},
   "outputs": [
    {
     "name": "stdout",
     "output_type": "stream",
     "text": [
      "[(1, 1), (2, 1), (3, 1), (4, 1), (5, 1), (5, 2), (5, 3), (6, 3), (6, 4), (6, 5), (5, 5), (5, 6), (5, 7), (6, 7), (6, 8), (7, 8), (8, 8)]\n",
      "解题成功！\n"
     ]
    }
   ],
   "source": [
    "# 示例：迷宫问题（广度优先）\n",
    "# 思路：从一个节点开始，寻找所有下面能继续走的点。继续寻找，直到找到出口。\n",
    "# 相当于一个四叉树，逐层拓展子节点，path记录自身的坐标和父节点的index。等到达终点后，以终点为起点，根据父节点逆向推出路径\n",
    "from collections import deque\n",
    "\n",
    "maze = [\n",
    "    [1,1,1,1,1,1,1,1,1,1],\n",
    "    [1,0,0,1,0,0,0,1,0,1],\n",
    "    [1,0,0,1,0,0,0,1,0,1],\n",
    "    [1,0,0,0,0,1,1,0,0,1],\n",
    "    [1,0,1,1,1,0,0,0,0,1],\n",
    "    [1,0,0,0,1,0,0,0,0,1],\n",
    "    [1,0,1,0,0,0,1,0,0,1],\n",
    "    [1,0,1,1,1,0,1,1,0,1],\n",
    "    [1,1,0,0,0,0,0,1,0,1],\n",
    "    [1,1,1,1,1,1,1,1,1,1]\n",
    "]\n",
    "\n",
    "def get_realpath(paths):\n",
    "    realpath = []\n",
    "    tempstep = paths[-1]  # 记录终点\n",
    "    while tempstep[2] != -1:  # curstep[2] == -1 是起点\n",
    "        realpath.append(tempstep[0:2])\n",
    "        tempstep = paths[tempstep[2]]  # 查找tempstep的父节点\n",
    "    realpath.append(tempstep[0:2])  # 记录起点\n",
    "    realpath.reverse()\n",
    "    print(realpath)\n",
    "\n",
    "def mazepath(x1, y1, x2, y2):\n",
    "    dirs = [\n",
    "        lambda x, y: (x + 1, y),  # 向下一步\n",
    "        lambda x, y: (x, y + 1),  # 向右一步\n",
    "        lambda x, y: (x - 1, y),  # 向上一步\n",
    "        lambda x, y: (x, y - 1),  # 向左一步\n",
    "    ]\n",
    "    \n",
    "    paths = [] # 记录所有路径\n",
    "    queue = deque()   # 临时队列\n",
    "    queue.append((x1, y1, -1))  # 起点\n",
    "    while len(queue) > 0:\n",
    "        laststep = queue.popleft()  # 从队首弹出\n",
    "        paths.append(laststep)\n",
    "        if laststep[0] == x2 and laststep[1] == y2:  # 到达终点\n",
    "            get_realpath(paths)\n",
    "            return print(\"解题成功！\")\n",
    "        else:\n",
    "            for dir in dirs:\n",
    "                nextstep = dir(laststep[0], laststep[1])\n",
    "                if maze[nextstep[0]][nextstep[1]] == 0:\n",
    "                    queue.append((*nextstep, len(paths)-1))  # 记录父节点的index\n",
    "                    maze[nextstep[0]][nextstep[1]] = -1  # 标志这一步已经走过了\n",
    "      \n",
    "    return print(\"此题无解！\")\n",
    "    \n",
    "mazepath(1, 1, 8, 8)"
   ]
  },
  {
   "cell_type": "markdown",
   "metadata": {},
   "source": [
    "# 排序"
   ]
  },
  {
   "cell_type": "code",
   "execution_count": null,
   "metadata": {},
   "outputs": [],
   "source": [
    "# 插入排序\n",
    "# 希尔排序\n",
    "# 快速排序\n",
    "# 堆排序  ？（暂未通透）\n",
    "# 归并排序  ？（暂未通透）"
   ]
  },
  {
   "cell_type": "code",
   "execution_count": null,
   "metadata": {},
   "outputs": [],
   "source": [
    "# 时间复杂度\n",
    "\n",
    "# 时间复杂度是用来估计算法运行时间的一个式子（单位）。\n",
    "# 一般来说，时间复杂度高的算法比复杂度低的算法慢。\n",
    "\n",
    "# 常见的时间复杂度（按效率排序）\n",
    "# O(1)<O(logn)<O(n)<O(nlogn)<O(n2)<O(n2logn)<O(n3)\n",
    "\n",
    "# 不常见的时间复杂度（看看就好）\n",
    "# O(n!) O(2n) O(nn) …\n",
    "\n",
    "# 如何一眼判断时间复杂度？\n",
    "# 循环减半的过程 o(logn)\n",
    "# 几次循环就是n的几次方的复杂度"
   ]
  },
  {
   "cell_type": "code",
   "execution_count": 11,
   "metadata": {},
   "outputs": [],
   "source": [
    "# 插入排序\n",
    "def insert_sort(li):\n",
    "    for i in range(1, len(li)):\n",
    "        tmp = li[i]\n",
    "        j = i - 1\n",
    "        while j >= 0 and li[j] > tmp:\n",
    "            li[j + 1] = li[j]\n",
    "            j -= 1\n",
    "        li[j + 1] = tmp"
   ]
  },
  {
   "cell_type": "code",
   "execution_count": null,
   "metadata": {},
   "outputs": [],
   "source": [
    "# 希尔排序 == 进阶版插入排序\n",
    "# 当gap = 1时，就是插入排序，\n",
    "# 效率的提升点在于第二层while循环，如果已经顺序之前已排好，则第二层while循环直接跳过，节省时间。\n",
    "# 那么是否比单纯的插入排序更优呢？  不确定\n",
    "def shell_sort(li):\n",
    "    gap = int(len(li) // 2)\n",
    "    while gap >= 1:\n",
    "        for i in range(gap, len(li)):\n",
    "            tmp = li[i]\n",
    "            j = i - gap\n",
    "            while j >= 0 and tmp < li[j]:  # *关键点*\n",
    "                li[j + gap] = li[j]\n",
    "                j -= gap\n",
    "            li[j + gap] = tmp\n",
    "        gap = gap // 2                      # *关键点*"
   ]
  },
  {
   "cell_type": "code",
   "execution_count": 13,
   "metadata": {},
   "outputs": [
    {
     "data": {
      "text/plain": [
       "[2, 3, 5, 8, 9, 11, 12, 22, 32, 33, 43, 50, 63, 74, 111, 223, 554]"
      ]
     },
     "execution_count": 13,
     "metadata": {},
     "output_type": "execute_result"
    }
   ],
   "source": [
    "# 快速排序法；最好还是用系统自带的（用C语言写的，比快排还快）\n",
    "def quick_sort_x(data, left, right):\n",
    "    if left < right:\n",
    "        mid = partition(data, left, right)  # mid并不是中间值，这是分割区域的基准值最后的位置\n",
    "        quick_sort_x(data, left, mid - 1)\n",
    "        quick_sort_x(data, mid + 1, right)\n",
    "\n",
    "# 核心算法：\n",
    "# 选取基准值，所有元素和基准值比较，小于基准值的放左边，大于基准值的放右边\n",
    "def partition(data, left, right):\n",
    "    tmp = data[left]  # 选取基准值\n",
    "    while left < right:\n",
    "        while left < right and data[right] >= tmp:\n",
    "            right -= 1\n",
    "        data[left] = data[right]\n",
    "        while left < right and data[left] <= tmp:\n",
    "            left += 1\n",
    "        data[right] = data[left]\n",
    "    data[left] = tmp\n",
    "    return left  # 返回基准值最后的位置\n",
    "\n",
    "li = [10, 3, 8, 554, 32, 74, 2, 12, 11, 43, 9, 33, 22, 63, 5, 223, 111]\n",
    "\n",
    "def quick_sort(li):\n",
    "    return quick_sort_x(li, 0, len(li) - 1)\n",
    "\n",
    "quick_sort(li)\n",
    "li"
   ]
  },
  {
   "cell_type": "code",
   "execution_count": 2,
   "metadata": {},
   "outputs": [
    {
     "name": "stdout",
     "output_type": "stream",
     "text": [
      "[1, 2, 2, 3, 4, 5, 5, 6, 7, 7, 9, 9, 10, 12, 15, 15, 17]\n"
     ]
    }
   ],
   "source": [
    "# 分而治之 + 递归\n",
    "# 思路和上面的方法一致，更加简洁明白，不稳定，一般时间复杂度O(nlogn)，最大时间复杂度O(n2)\n",
    "def quick_sort(li):\n",
    "    \"\"\"快速排序\"\"\"\n",
    "    if len(li) >=2:\n",
    "        base = li[len(li)//2]  # 选取基准元素，选任意一个都可以\n",
    "        l_li = []  # 小于基准元素的集合\n",
    "        r_li = []  # 大于基准元素的集合\n",
    "        li.remove(base)  # 时间复杂度O(1)\n",
    "        for _ in li:\n",
    "            if _ >= base:\n",
    "                r_li.append(_)\n",
    "            else:\n",
    "                l_li.append(_)\n",
    "        return quick_sort(l_li) + [base] + quick_sort(r_li)\n",
    "    return li\n",
    "\n",
    "# 示例：\n",
    "li = [2, 3, 5, 7, 1, 4, 6, 15, 5, 2, 7, 9, 10, 15, 9, 17, 12]\n",
    "print(quick_sort(li))"
   ]
  },
  {
   "cell_type": "markdown",
   "metadata": {},
   "source": [
    "# list"
   ]
  },
  {
   "cell_type": "code",
   "execution_count": 11,
   "metadata": {},
   "outputs": [
    {
     "name": "stdout",
     "output_type": "stream",
     "text": [
      "[94665160, 94665160, 94665160]\n",
      "[94665416, 94711944, 94638664]\n",
      "[[1, 9, 3], [1, 9, 3], [1, 9, 3]]\n",
      "[[1, 9, 3], [1, 2, 3], [1, 2, 3]]\n"
     ]
    }
   ],
   "source": [
    "li1 = [[1, 2, 3]] * 3\n",
    "li2 = [[1, 2, 3],\n",
    "       [1, 2, 3],\n",
    "       [1, 2, 3]\n",
    "      ]\n",
    "print([id(li1[i]) for i in range(3)])  # li1中的三个元素id相同\n",
    "print([id(li2[i]) for i in range(3)])\n",
    "li1[0][1] = 9\n",
    "li2[0][1] = 9\n",
    "print(li1, li2, sep=\"\\n\")"
   ]
  },
  {
   "cell_type": "code",
   "execution_count": 12,
   "metadata": {},
   "outputs": [
    {
     "name": "stdout",
     "output_type": "stream",
     "text": [
      "95589408 95589360\n"
     ]
    }
   ],
   "source": [
    "li1 = range(4)\n",
    "li2 = range(4)\n",
    "print(id(li1), id(li2))  # li1和li2的地址不同"
   ]
  },
  {
   "cell_type": "code",
   "execution_count": 19,
   "metadata": {},
   "outputs": [
    {
     "name": "stdout",
     "output_type": "stream",
     "text": [
      "98334280 98335496\n",
      "94713800 94713800\n",
      "[98334344, 98333832, 94664008]\n",
      "[98334344, 98333832, 94664008]\n",
      "[97788104, 94664200, 95333960]\n"
     ]
    }
   ],
   "source": [
    "li1 = [1, [1, 2, 3], 4]\n",
    "li2 = li1.copy()\n",
    "li3 = [[1, 2, 3],\n",
    "       [1, 2, 3],\n",
    "       [1, 2, 3]\n",
    "      ]\n",
    "li4 = li3.copy()  # 浅copy，如果元素时地址id，就复制地址id\n",
    "import copy\n",
    "li5 = copy.deepcopy(li3)  # 深copy\n",
    "print(id(li1), id(li2))\n",
    "print(id(li1[1]), id(li2[1]))\n",
    "print([id(li3[i]) for i in range(3)])\n",
    "print([id(li4[i]) for i in range(3)])\n",
    "print([id(li5[i]) for i in range(3)])"
   ]
  }
 ],
 "metadata": {
  "kernelspec": {
   "display_name": "Python 3",
   "language": "python",
   "name": "python3"
  },
  "language_info": {
   "codemirror_mode": {
    "name": "ipython",
    "version": 3
   },
   "file_extension": ".py",
   "mimetype": "text/x-python",
   "name": "python",
   "nbconvert_exporter": "python",
   "pygments_lexer": "ipython3",
   "version": "3.7.3"
  }
 },
 "nbformat": 4,
 "nbformat_minor": 2
}
