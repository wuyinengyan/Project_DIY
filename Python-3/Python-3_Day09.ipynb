{
 "cells": [
  {
   "cell_type": "code",
   "execution_count": null,
   "metadata": {},
   "outputs": [],
   "source": [
    "dict(map(lambda x, y:(x, y), zip(\"abcde\", range(500))))  # ？会报错吗"
   ]
  },
  {
   "cell_type": "markdown",
   "metadata": {},
   "source": [
    "# 柯里化Curring"
   ]
  },
  {
   "cell_type": "code",
   "execution_count": 1,
   "metadata": {},
   "outputs": [],
   "source": [
    "# 柯里化：将原来接受两个参数的函数变成接受一个参数的函数的过程。新的函数返回一个以原第二参数为参数的函数\n",
    "# 例：f(x, y) -> f(x)(y)"
   ]
  },
  {
   "cell_type": "markdown",
   "metadata": {},
   "source": [
    "# ！装饰器"
   ]
  },
  {
   "cell_type": "code",
   "execution_count": 12,
   "metadata": {},
   "outputs": [
    {
     "name": "stdout",
     "output_type": "stream",
     "text": [
      "begin\n",
      "end\n",
      "******************************\n",
      "minus 5\n",
      "******************************\n",
      "-1 minus This is a minus function\n",
      "    \n",
      "    for example ...\n",
      "    \n"
     ]
    }
   ],
   "source": [
    "def copy_properties(src, dest):\n",
    "    dest.__name__ = src.__name__\n",
    "    dest.__doc__ = src.__doc__\n",
    "    \n",
    "def copy_properties(src):\n",
    "    def _wrapper(dest):\n",
    "        dest.__name__ = src.__name__\n",
    "        dest.__doc__ = src.__doc__\n",
    "        return dest\n",
    "    return _wrapper\n",
    "    \n",
    "\n",
    "def logger(duration, func=lambda name, duration: print(name, duration)):  # 柯里化保持三层，就足够\n",
    "    def _logger(fn):\n",
    "        # @functools._wrapper(fn)  # _wrapper == functools._wrapper(fn)(_wrapper)\n",
    "        @copy_properties(fn)  # _wrapper == copy_properties(fn)(_wrapper)  fn对应装饰器中参数dest\n",
    "        def _wrapper(*args, **kwargs):\n",
    "            print(\"begin\")\n",
    "            res = fn(*args, **kwargs)\n",
    "            print(\"end\")\n",
    "            print(\"*\" * 30)\n",
    "            func(fn.__name__, duration)\n",
    "            print(\"*\" * 30)\n",
    "            return res\n",
    "        # functools.update_warpper(_wrapper, fn)  # 系统自带功能\n",
    "        # copy_properties(fn, _wrapper)  # 重写装饰器的属性，和被包装函数一致\n",
    "        return _wrapper\n",
    "    return _logger\n",
    "\n",
    "@logger(5)  # (logger(5) == _logger) => (logger(5)(minus) == _logger(minus))\n",
    "def minus(x, y):\n",
    "    \"\"\"This is a minus function\n",
    "    \n",
    "    for example ...\n",
    "    \"\"\"\n",
    "    return x - y\n",
    "\n",
    "print(minus(3, 4), minus.__name__, minus.__doc__)"
   ]
  },
  {
   "cell_type": "markdown",
   "metadata": {},
   "source": [
    "# functools模块"
   ]
  },
  {
   "cell_type": "code",
   "execution_count": null,
   "metadata": {},
   "outputs": [],
   "source": [
    "functools.update_wrapper(wrapper, wrapped, assigned=WRAPPER_ASSIGNMENTS, updated=WRAPPER_UPDATES)\n",
    "# C:\\\\Users\\\\Administrator\\\\Anaconda3\\\\lib\\\\functools.py"
   ]
  },
  {
   "cell_type": "markdown",
   "metadata": {},
   "source": [
    "# 函数注解"
   ]
  },
  {
   "cell_type": "code",
   "execution_count": 14,
   "metadata": {},
   "outputs": [
    {
     "name": "stdout",
     "output_type": "stream",
     "text": [
      "<class 'dict'> {'x': <class 'int'>}\n",
      "<class 'type'> <class 'int'>\n"
     ]
    }
   ],
   "source": [
    "# pycharm: Insert documentation string stub\n",
    "def add(x:int, y):\n",
    "    \"\"\"\n",
    "\n",
    "    :param x: int\n",
    "    :param y: int\n",
    "    :return: int\n",
    "    \"\"\"\n",
    "    return x + y\n",
    "\n",
    "\n",
    "print(type(add.__annotations__), add.__annotations__)\n",
    "print(type(add.__annotations__[\"x\"]), add.__annotations__[\"x\"])\n",
    "# print(type(add.__annotations__[\"y\"]), add.__annotations__[\"y\"])  # KeyError: 'y'"
   ]
  },
  {
   "cell_type": "code",
   "execution_count": 15,
   "metadata": {},
   "outputs": [
    {
     "data": {
      "text/plain": [
       "'abc'"
      ]
     },
     "execution_count": 15,
     "metadata": {},
     "output_type": "execute_result"
    }
   ],
   "source": [
    "i:int = 6  # 函数类型注解，非强制性的\n",
    "i = \"abc\"  # 依然可以用str，动态语言的性质未变\n",
    "i"
   ]
  },
  {
   "cell_type": "markdown",
   "metadata": {},
   "source": [
    "# inspect模块"
   ]
  },
  {
   "cell_type": "code",
   "execution_count": 26,
   "metadata": {},
   "outputs": [
    {
     "data": {
      "text/plain": [
       "<Signature (a, *, b: int, **kwargs)>"
      ]
     },
     "execution_count": 26,
     "metadata": {},
     "output_type": "execute_result"
    }
   ],
   "source": [
    "from inspect import signature\n",
    "\n",
    "def foo(a, *, b:int, **kwargs):  # 可变参数后面不要加:int，可以加不会报错\n",
    "    pass\n",
    "\n",
    "sig = signature(foo)\n",
    "sig"
   ]
  },
  {
   "cell_type": "code",
   "execution_count": 28,
   "metadata": {},
   "outputs": [
    {
     "name": "stdout",
     "output_type": "stream",
     "text": [
      "<class 'inspect.Signature'> (a, *, b: int, **kwargs)\n",
      "OrderedDict([('a', <Parameter \"a\">), ('b', <Parameter \"b: int\">), ('kwargs', <Parameter \"**kwargs\">)])\n",
      "<class 'int'> <class 'inspect._empty'>\n"
     ]
    }
   ],
   "source": [
    "print(type(sig), sig)  # print函数会默认把参数转为str == print(str(sig))\n",
    "print(sig.parameters)  # OrderedDict\n",
    "print(sig.parameters['b'].annotation, sig.parameters['kwargs'].annotation)  # inspect._empty != None，模块下的空值"
   ]
  },
  {
   "cell_type": "markdown",
   "metadata": {},
   "source": [
    "# partial/偏函数"
   ]
  },
  {
   "cell_type": "code",
   "execution_count": null,
   "metadata": {},
   "outputs": [],
   "source": [
    "# 把一个函数的部分参数固定下来，返回一个新的函数，新函数是对原函数的封装。"
   ]
  },
  {
   "cell_type": "code",
   "execution_count": 4,
   "metadata": {},
   "outputs": [
    {
     "name": "stdout",
     "output_type": "stream",
     "text": [
      "(x, *, y=4, z)\n",
      "21\n"
     ]
    }
   ],
   "source": [
    "from functools import partial\n",
    "import inspect\n",
    "\n",
    "def add(x, y, z):\n",
    "    return x + y * z\n",
    "\n",
    "newadd = partial(add, y=4)\n",
    "print(inspect.signature(newadd))\n",
    "print(newadd(5, z=4))  # z变成了keyword-only参数"
   ]
  },
  {
   "cell_type": "code",
   "execution_count": 5,
   "metadata": {},
   "outputs": [
    {
     "data": {
      "text/plain": [
       "10"
      ]
     },
     "execution_count": 5,
     "metadata": {},
     "output_type": "execute_result"
    }
   ],
   "source": [
    "def add(x ,y):\n",
    "    return x + y\n",
    "\n",
    "# partial的部分原码\n",
    "def partial(func, *args, **kwargs):\n",
    "    def newfunc(*fargs, **fkwargs):\n",
    "        newkwargs = kwargs.copy()\n",
    "        newkwargs.update(fkwargs)\n",
    "        return func(*(args + fargs), **newkwargs)\n",
    "    \n",
    "    newfunc.func = func  # 对原有函数的包装\n",
    "    newfunc.args = args  # 空元组\n",
    "    newfunc.kwargs = kwargs  # {\"y\":6}\n",
    "    return newfunc  # 返回一个新的函数\n",
    "\n",
    "newadd = partial(add, y=6)  #  newadd = newfunc\n",
    "newadd(4)"
   ]
  },
  {
   "cell_type": "markdown",
   "metadata": {},
   "source": [
    "# lru_cache"
   ]
  },
  {
   "cell_type": "code",
   "execution_count": null,
   "metadata": {},
   "outputs": [],
   "source": [
    "# 使用前提：同样的函数参数一定得到同样的结果\n",
    "#           函数执行时间很长，且要多次执行\n",
    "# 缺点：\n",
    "#     不支持缓存过期\n",
    "#     不支持清除操作\n",
    "#     不支持分布式，是一个单机的缓存\n",
    "# 使用场景：\n",
    "#    单机上需要空间换时间的地方\n",
    "\n",
    "# 理解，实用价值不高"
   ]
  },
  {
   "cell_type": "code",
   "execution_count": null,
   "metadata": {},
   "outputs": [],
   "source": [
    "# lru:Least-recently-used装饰器\n",
    "@functool.lru_cache(maxsize=128, typed=False)"
   ]
  },
  {
   "cell_type": "code",
   "execution_count": 7,
   "metadata": {},
   "outputs": [
    {
     "data": {
      "text/plain": [
       "10"
      ]
     },
     "execution_count": 7,
     "metadata": {},
     "output_type": "execute_result"
    }
   ],
   "source": [
    "import functools\n",
    "import time\n",
    "\n",
    "def add(x, y, z=5):\n",
    "    time.sleep(z)\n",
    "    return x + y\n",
    "\n",
    "add(4, 6)  # 1\n",
    "add(4.0, 6)  # 1\n",
    "add(4, y=6)  # 2\n",
    "add(x=4, y=6)  # 3\n",
    "add(y=6, x=4)  # 3:字典是经过排序处理的\n",
    "# 根据args，kwargs是否相同，觉得是否缓存"
   ]
  },
  {
   "cell_type": "code",
   "execution_count": 8,
   "metadata": {},
   "outputs": [
    {
     "name": "stdout",
     "output_type": "stream",
     "text": [
      "[1, 1, 1, 2, 3, 5, 8, 13, 21, 34, 55, 89, 144, 233, 377, 610, 987, 1597, 2584, 4181, 6765, 10946, 17711, 28657, 46368, 75025, 121393, 196418, 317811, 514229, 832040, 1346269, 2178309, 3524578, 5702887]\n"
     ]
    }
   ],
   "source": [
    "import functools\n",
    "\n",
    "@functools.lru_cache(maxsize=200)  # 添加缓存，效率的差异\n",
    "def fib(n):\n",
    "    if n < 3:\n",
    "        return 1\n",
    "    return fib(n-1) + fib(n-2)\n",
    "\n",
    "print([fib(i) for i in range(35)])"
   ]
  }
 ],
 "metadata": {
  "kernelspec": {
   "display_name": "Python 3",
   "language": "python",
   "name": "python3"
  },
  "language_info": {
   "codemirror_mode": {
    "name": "ipython",
    "version": 3
   },
   "file_extension": ".py",
   "mimetype": "text/x-python",
   "name": "python",
   "nbconvert_exporter": "python",
   "pygments_lexer": "ipython3",
   "version": "3.7.3"
  }
 },
 "nbformat": 4,
 "nbformat_minor": 2
}
