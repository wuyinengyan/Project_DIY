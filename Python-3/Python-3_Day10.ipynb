{
 "cells": [
  {
   "cell_type": "markdown",
   "metadata": {},
   "source": [
    "# 习题"
   ]
  },
  {
   "cell_type": "code",
   "execution_count": 1,
   "metadata": {},
   "outputs": [],
   "source": [
    "# 矩阵法：求两个字符串的最大公共字符串"
   ]
  },
  {
   "cell_type": "code",
   "execution_count": 10,
   "metadata": {},
   "outputs": [
    {
     "name": "stdout",
     "output_type": "stream",
     "text": [
      "a\n",
      "cd\n",
      "abc\n"
     ]
    }
   ],
   "source": [
    "def find_common_str(str_x, str_y):\n",
    "    matrix = []  # 交叉比较的结果矩阵\n",
    "    maxlen = 0  # 最大公共字符串长度\n",
    "    maxindex = 0  # 最大字符串的结束索引\n",
    "    \n",
    "    # for i in range(len(str_y)):\n",
    "    for j, y in enumerate(str_y):  # enumerate代替range\n",
    "        matrix.append([])\n",
    "        for i, x in enumerate(str_x):\n",
    "            if x != y:  # 两个字符不同\n",
    "                matrix[j].append(0)\n",
    "            elif i == 0 or j == 0:  # 若两个字符相同，但是在边上\n",
    "                matrix[j].append(1)\n",
    "            else:\n",
    "                matrix[j].append(matrix[j-1][i-1] + 1)\n",
    "                \n",
    "            if matrix[j][i] > maxlen:  # 如果出现新的最大长度\n",
    "                maxlen = matrix[j][i]\n",
    "                maxindex = i  # 不是j，字符串str_x中的索引值\n",
    "                \n",
    "    return str_x[maxindex + 1 - maxlen: maxindex + 1]  # 需要都 + 1\n",
    "\n",
    "str1 = \"abcde\"\n",
    "str2 = \"a\"\n",
    "str3 = \"cccda\"\n",
    "str4 = \"xuexiabc\"\n",
    "print(find_common_str(str1, str2))\n",
    "print(find_common_str(str1, str3))\n",
    "print(find_common_str(str1, str4))"
   ]
  },
  {
   "cell_type": "code",
   "execution_count": null,
   "metadata": {},
   "outputs": [],
   "source": [
    "# 原创：字符串比较法\n",
    "\n",
    "def find_common_str(str1, str2):\n",
    "    common_str_list = []  # \n",
    "    minlen, maxlen = len(str1), len(str2)\n",
    "    if minlen > maxlen:  # 保证len(str1) < len(str2)\n",
    "        minlen, maxlen = maxlen, minlen\n",
    "        str1, str2 = str2, str1\n",
    "        \n",
    "    for i in range(minlen, 0, -1):  # i = 2\n",
    "        for j in range(0, minlen - i + 1):  # j=0,4\n",
    "            if str1[j:j+i] in str2:\n",
    "                li.append(str1[j:j+i])\n",
    "        if li:  # 如果已找到，则停止查找\n",
    "            break\n",
    "            \n",
    "    return common_str_list\n",
    "\n",
    "print(find_common_str(input(\">>>\"), input(\">>>\")))"
   ]
  },
  {
   "cell_type": "code",
   "execution_count": null,
   "metadata": {},
   "outputs": [],
   "source": [
    "# str1[j:j+i] in str2\n",
    "# str2.find(str1[j:j+i]) > -1\n",
    "# re.match(str1[j:j+i], str2)\n",
    "# 第一种效率最优"
   ]
  },
  {
   "cell_type": "markdown",
   "metadata": {},
   "source": [
    "# 堆排序/Heap Sort"
   ]
  },
  {
   "cell_type": "code",
   "execution_count": 11,
   "metadata": {},
   "outputs": [],
   "source": [
    "# 先根遍历、中根遍历、后根遍历\n",
    "# 堆是一个完全二叉树、先根遍历 == 先序遍历\n",
    "# 大顶堆每个非叶子结点都要大于或者等于其左右孩子结点的值，根结点是最大值\n",
    "# 小顶堆每个非叶子结点都要小于或者等于其左右孩子结点的值，根结点是最小值"
   ]
  },
  {
   "cell_type": "markdown",
   "metadata": {},
   "source": [
    "# 树打印"
   ]
  },
  {
   "cell_type": "code",
   "execution_count": 12,
   "metadata": {},
   "outputs": [
    {
     "name": "stdout",
     "output_type": "stream",
     "text": [
      "              30                \n",
      "      20              80        \n",
      "  40      50      10      60    \n",
      "70  90  \n"
     ]
    }
   ],
   "source": [
    "# 居中对齐实现\n",
    "# 优点：代码简洁\n",
    "# 缺点：每行末尾多打印了\" \" * unit_width\n",
    "import math\n",
    "\n",
    "def print_tree(origin_li, unit_width):\n",
    "    length = len(origin_li)  # 字符串的长度\n",
    "    depth = math.ceil(math.log2(length + 1))  # 树的深度\n",
    "    width = 2 ** depth - 1  # 最深行的宽度\n",
    "    index = 0  # 打印的索引\n",
    "\n",
    "    for i in range(depth):  # 逐层打印\n",
    "        for j in range(2**i):  # 每次的打印次数:第0层只有1个数\n",
    "            print(\"{:^{}}\".format(origin_li[index], width * unit_width), end=\" \" * unit_width)\n",
    "            index += 1\n",
    "            if index == length:\n",
    "                break\n",
    "                \n",
    "        width = width//2\n",
    "        print()  # 换行\n",
    "    \n",
    "origin_li = [30, 20, 80, 40, 50, 10, 60, 70, 90]\n",
    "print_tree(origin_li, 2)"
   ]
  },
  {
   "cell_type": "code",
   "execution_count": 14,
   "metadata": {},
   "outputs": [
    {
     "name": "stdout",
     "output_type": "stream",
     "text": [
      "              30\n",
      "      20              80\n",
      "  40      50      10      60\n",
      "70  90\n"
     ]
    }
   ],
   "source": [
    "# 投影栅格实现\n",
    "# 优点：不会打印多余的空格，易于理解\n",
    "# 缺点：代码略多\n",
    "import math\n",
    "\n",
    "def print_tree(origin_li, unit_width):  # unit_width：单位宽度\n",
    "    length = len(origin_li)  # 字符串的长度\n",
    "    depth = math.ceil(math.log2(length + 1))  # 树的深度\n",
    "    index = 0  # 打印的索引\n",
    "\n",
    "    for i in range(depth):  # 逐层打印 \n",
    "        margin_width = 2 ** (depth-i-1) - 1   # 首元素前空格数\n",
    "        interval_width = margin_width * 2 + 1  # 元素间距 \n",
    "        \n",
    "        for j in range(2**i):  # 每次的打印次数：第0层只有1个数\n",
    "            margin_width = margin_width if j == 0 else interval_width  # 先用margin_width，之后替换为interval_width\n",
    "            print(\" \" * margin_width * unit_width + str(origin_li[index]), end=\"\")\n",
    "                \n",
    "            index += 1\n",
    "            if index == length:  # 超过索引，结束\n",
    "                break\n",
    "                \n",
    "        print()  # 换行\n",
    "    \n",
    "origin_li = [30, 20, 80, 40, 50, 10, 60, 70, 90]\n",
    "print_tree(origin_li, 2)"
   ]
  },
  {
   "cell_type": "markdown",
   "metadata": {},
   "source": [
    "# 文件IO"
   ]
  },
  {
   "cell_type": "code",
   "execution_count": null,
   "metadata": {},
   "outputs": [],
   "source": [
    "# fileObject.seek(offset[, whence])\n",
    "# offset -- 开始的偏移量，也就是代表需要移动偏移的字节数\n",
    "# whence：可选，默认值为 0。给offset参数一个定义，表示要从哪个位置开始偏移；\n",
    "#         0代表从文件开头开始算起，1代表从当前位置开始算起，2代表从EOF(End Of File)文件末尾算起。\n",
    "# whence = 0时，offset >= 0\n",
    "# whence = 1,2时，offset只能为0\n",
    "\n",
    "# 二进制下：\n",
    "# whence = 0时，offset >= 0，可以向右超出索引\n",
    "# whence = 1,2时，offset可正可负，可以向右超出索引，不可以向左超出索引"
   ]
  }
 ],
 "metadata": {
  "kernelspec": {
   "display_name": "Python 3",
   "language": "python",
   "name": "python3"
  },
  "language_info": {
   "codemirror_mode": {
    "name": "ipython",
    "version": 3
   },
   "file_extension": ".py",
   "mimetype": "text/x-python",
   "name": "python",
   "nbconvert_exporter": "python",
   "pygments_lexer": "ipython3",
   "version": "3.7.3"
  }
 },
 "nbformat": 4,
 "nbformat_minor": 2
}
