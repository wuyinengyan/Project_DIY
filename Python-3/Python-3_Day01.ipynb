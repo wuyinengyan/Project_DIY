{
 "cells": [
  {
   "cell_type": "markdown",
   "metadata": {},
   "source": [
    "# 补齐字符串"
   ]
  },
  {
   "cell_type": "code",
   "execution_count": 1,
   "metadata": {},
   "outputs": [],
   "source": [
    "# 字符串补齐的三个方法："
   ]
  },
  {
   "cell_type": "code",
   "execution_count": 2,
   "metadata": {},
   "outputs": [
    {
     "data": {
      "text/plain": [
       "('bbbaaaaaaa', 'aaaaaaabbb', 'aaabbbaaaa')"
      ]
     },
     "execution_count": 2,
     "metadata": {},
     "output_type": "execute_result"
    }
   ],
   "source": [
    "\"bbb\".ljust(10, 'a'), \"bbb\".rjust(10, 'a'), \"bbb\".center(10, 'a')"
   ]
  },
  {
   "cell_type": "code",
   "execution_count": 3,
   "metadata": {
    "scrolled": true
   },
   "outputs": [
    {
     "name": "stdout",
     "output_type": "stream",
     "text": [
      "00002\n"
     ]
    }
   ],
   "source": [
    "# 补零的特殊用法：zfill(width)指定字符串长度，右对齐，前面补充0\n",
    "print(\"2\".zfill(5))"
   ]
  },
  {
   "cell_type": "markdown",
   "metadata": {},
   "source": [
    "# 随机选取random"
   ]
  },
  {
   "cell_type": "code",
   "execution_count": 15,
   "metadata": {},
   "outputs": [
    {
     "data": {
      "text/plain": [
       "'C:\\\\Users\\\\Administrator\\\\Anaconda3\\\\lib\\\\random.py'"
      ]
     },
     "execution_count": 15,
     "metadata": {},
     "output_type": "execute_result"
    }
   ],
   "source": [
    "import random\n",
    "\n",
    "random.__file__"
   ]
  },
  {
   "cell_type": "code",
   "execution_count": 16,
   "metadata": {},
   "outputs": [],
   "source": [
    "# 随机整数：random.randint(a,b),生成区间内的整数\n",
    "# 随机小数：习惯用numpy库，利用np.random.randn(5)生成5个随机小数\n",
    "# 0-1随机小数：random.random(),括号中不传参"
   ]
  },
  {
   "cell_type": "code",
   "execution_count": null,
   "metadata": {},
   "outputs": [],
   "source": [
    "import random\n",
    "\n",
    "# 返回0<=n<1之间的随机实数n\n",
    "random.random()  # 会生成一个随机的浮点数，范围是在0.0~1.0之间。\n",
    "random.uniform()  # 弥补了上面函数的不足，可以设定浮点数的范围，一个是上限，一个是下限。\n",
    "def uniform(self, a, b):\n",
    "    \"\"\"Get a random number in the range [a, b) or [a, b] depending on rounding.\"\"\"\n",
    "    return a + (b-a) * self.random()\n",
    "\n",
    "random.randint()  # 随机生一个整数int类型，可以指定这个整数的范围，同样有上限和下限值，python random.randint。\n",
    "def randint(self, a, b):\n",
    "    \"\"\"Return random integer in range [a, b], including both end points.\"\"\"\n",
    "    return self.randrange(a, b+1)\n",
    "\n",
    "# 从序列seq中返回一个随机的元素；\n",
    "random.choice(seq)  # 可以从任何序列，比如list列表中，选取一个随机的元素返回，可以用于字符串、列表、元组等。\n",
    "# 随机打乱指定seq序列；\n",
    "random.shuffle(seq[, random])  # 如果你想将一个序列中的元素，随机打乱的话可以用这个函数方法。\n",
    "# 从序列seq中选择n个随机且独立的元素\n",
    "random.sample(seq, n)  # 可以从指定的序列中，随机的截取指定长度的片断，不作原地修改"
   ]
  },
  {
   "cell_type": "code",
   "execution_count": 17,
   "metadata": {},
   "outputs": [
    {
     "name": "stdout",
     "output_type": "stream",
     "text": [
      "[0, 1, 2, 3, 4, 5, 6, 7, 8, 9, 10, 11, 12, 13, 14, 15, 16, 17, 18, 19]\n",
      "[19, 3, 2, 13, 8, 11, 9, 10, 16, 14, 18, 6, 7, 4, 5, 12, 17, 15, 1, 0]\n"
     ]
    }
   ],
   "source": [
    "import random\n",
    "\n",
    "li = [i for i in range(20)]\n",
    "print(li)\n",
    "random.shuffle(li)\n",
    "print(li)"
   ]
  },
  {
   "cell_type": "markdown",
   "metadata": {},
   "source": [
    "# string"
   ]
  },
  {
   "cell_type": "code",
   "execution_count": 13,
   "metadata": {},
   "outputs": [
    {
     "data": {
      "text/plain": [
       "'C:\\\\Users\\\\Administrator\\\\Anaconda3\\\\lib\\\\string.py'"
      ]
     },
     "execution_count": 13,
     "metadata": {},
     "output_type": "execute_result"
    }
   ],
   "source": [
    "import string\n",
    "\n",
    "string.__file__"
   ]
  },
  {
   "cell_type": "code",
   "execution_count": 18,
   "metadata": {},
   "outputs": [
    {
     "name": "stdout",
     "output_type": "stream",
     "text": [
      "abcdefghijklmnopqrstuvwxyz\n"
     ]
    }
   ],
   "source": [
    "import string\n",
    "\n",
    "print(string.ascii_lowercase)"
   ]
  },
  {
   "cell_type": "code",
   "execution_count": 23,
   "metadata": {},
   "outputs": [
    {
     "name": "stdout",
     "output_type": "stream",
     "text": [
      "The quick brown fox jumped over the lazy dog.\n",
      "The Quick Brown Fox Jumped Over The Lazy Dog.\n",
      "Th5 qui3k 2rown 6ox jump54 ov5r th5 l1zy 4o7.\n"
     ]
    }
   ],
   "source": [
    "# capwords() 把字符串(string)中, 所有单词的首字母大写;\n",
    "# maketrans() 创建对照表, 然后使用translate()函数, 调用对照表, 把字符串(string)中的字符, 进行相应的替换.\n",
    "import string\n",
    " \n",
    "s = 'The quick brown fox jumped over the lazy dog.'\n",
    "trantab = str.maketrans('abcdefg', '1234567')  # intab和outtab的长度必须一致，为一一对应的关系。\n",
    "print(s)\n",
    "print(string.capwords(s)) #首字母大写\n",
    "print(s.translate(leet)) #转换"
   ]
  },
  {
   "cell_type": "markdown",
   "metadata": {},
   "source": [
    "# 真值表"
   ]
  },
  {
   "cell_type": "code",
   "execution_count": 25,
   "metadata": {},
   "outputs": [
    {
     "name": "stdout",
     "output_type": "stream",
     "text": [
      "[' ', '1', 1]\n"
     ]
    }
   ],
   "source": [
    "# 任何非空字符串，非零数字都为真\n",
    "print(list(filter(lambda x:x, [\"\", \" \", \"1\", 0, 1, (), [], {}, None])))"
   ]
  },
  {
   "cell_type": "code",
   "execution_count": 28,
   "metadata": {},
   "outputs": [
    {
     "name": "stdout",
     "output_type": "stream",
     "text": [
      "True True False False\n"
     ]
    }
   ],
   "source": [
    "# 但只有1 == True、0 == False成立\n",
    "print(1 == True, 0 == False, 2 == True, \"1\" == True)"
   ]
  },
  {
   "cell_type": "markdown",
   "metadata": {},
   "source": [
    "# 解析式、format"
   ]
  },
  {
   "cell_type": "code",
   "execution_count": 67,
   "metadata": {},
   "outputs": [
    {
     "name": "stdout",
     "output_type": "stream",
     "text": [
      "[('c', 88), ('d', 42), ('a', 14), (10, 10), ('b', 2)]\n",
      "['d', 'c', 'b', 'a']\n"
     ]
    }
   ],
   "source": [
    "# 一行代码对字典根据次数排序\n",
    "dict1 = {\"a\": 14, \"b\": 2, \"c\": 88, \"d\": 42, 10: 10}\n",
    "dict2 = {\"a\": 14, \"b\": 2, \"c\": 88, \"d\": 42}\n",
    "li1 = sorted(dict1.items(), key=lambda item:item[1], reverse = True)  # 指定用序列的第二个元素，即value排序\n",
    "print(li1)\n",
    "print(sorted(dict2, reverse = True))  # 默认根据key排序，key必须是同一类型\n",
    "\n",
    "# sorted(iterable[, key][, reverse])\n",
    "# 从iterable中的项目返回新的排序列表。\n",
    "# 有两个可选参数，必须指定为关键字参数。\n",
    "# key指定一个参数的函数，用于从每个列表元素中提取比较键：key=str.lower。默认值为None（直接比较元素）。"
   ]
  },
  {
   "cell_type": "code",
   "execution_count": 59,
   "metadata": {},
   "outputs": [
    {
     "name": "stdout",
     "output_type": "stream",
     "text": [
      "1*1=1 \n",
      "1*2=2  2*2=4 \n",
      "1*3=3  2*3=6  3*3=9 \n",
      "1*4=4  2*4=8  3*4=12 4*4=16\n",
      "1*5=5  2*5=10 3*5=15 4*5=20 5*5=25\n",
      "1*6=6  2*6=12 3*6=18 4*6=24 5*6=30 6*6=36\n",
      "1*7=7  2*7=14 3*7=21 4*7=28 5*7=35 6*7=42 7*7=49\n",
      "1*8=8  2*8=16 3*8=24 4*8=32 5*8=40 6*8=48 7*8=56 8*8=64\n",
      "1*9=9  2*9=18 3*9=27 4*9=36 5*9=45 6*9=54 7*9=63 8*9=72 9*9=81\n",
      "0000007\n",
      "7000000\n",
      "0007000\n",
      "xxx7xxx\n",
      "xxx7xxx\n",
      "7zzzzzz\n",
      "7000000\n"
     ]
    }
   ],
   "source": [
    "# 一行代码打印九九乘法表\n",
    "[print(\"{}*{}={:<2}\".format(y, x, x*y), end = \"\\n\" if x==y else \" \") for x in range(1, 10) for y in range(1, x+1)]\n",
    "\n",
    "print(\"{:>07d}\".format(7))  # 右对齐 (默认)\n",
    "print(\"{:<07d}\".format(7))  # 左对齐\n",
    "print(\"{:^07d}\".format(7))  # 中间对齐\n",
    "print(\"{:x^07d}\".format(7))  # 中间对齐\n",
    "print(\"{:x^7d}\".format(7))  # 中间对齐\n",
    "print(\"{0:z<7d}\".format(7))  # 左对齐\n",
    "print(\"{0:0<7d}\".format(7))  # 左对齐"
   ]
  },
  {
   "cell_type": "code",
   "execution_count": 48,
   "metadata": {},
   "outputs": [
    {
     "name": "stdout",
     "output_type": "stream",
     "text": [
      "00003.1400\n",
      "+0003.1400\n",
      "-0003.1400\n"
     ]
    }
   ],
   "source": [
    "print(\"{:010.04f}\".format(3.14))  # \n",
    "print(\"{:+010.04f}\".format(3.14))  # 带符号保留小数点后两位，总位数包括符号在内\n",
    "print(\"{:+010.04f}\".format(-3.14))  # 带符号保留小数点后两位，总位数包括符号在内"
   ]
  },
  {
   "cell_type": "code",
   "execution_count": 58,
   "metadata": {},
   "outputs": [
    {
     "name": "stdout",
     "output_type": "stream",
     "text": [
      "1,000,000\n",
      "25.00%\n",
      "1.00e+09\n"
     ]
    }
   ],
   "source": [
    "print(\"{:,}\".format(1000000))  # 以逗号分隔的数字格式\n",
    "print(\"{:.2%}\".format(0.25))  # 百分比格式\n",
    "print(\"{:.2e}\".format(1000000000))  # 指数记法"
   ]
  }
 ],
 "metadata": {
  "kernelspec": {
   "display_name": "Python 3",
   "language": "python",
   "name": "python3"
  },
  "language_info": {
   "codemirror_mode": {
    "name": "ipython",
    "version": 3
   },
   "file_extension": ".py",
   "mimetype": "text/x-python",
   "name": "python",
   "nbconvert_exporter": "python",
   "pygments_lexer": "ipython3",
   "version": "3.7.3"
  }
 },
 "nbformat": 4,
 "nbformat_minor": 2
}
