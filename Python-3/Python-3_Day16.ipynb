{
 "cells": [
  {
   "cell_type": "markdown",
   "metadata": {},
   "source": [
    "# 魔术方法"
   ]
  },
  {
   "cell_type": "code",
   "execution_count": null,
   "metadata": {},
   "outputs": [],
   "source": [
    "返回类或者对象的所有成员名称列表。dir(obj) == obj.__dir__()\n",
    "如果提供__dir__()，则返回属性列表，否则会尽量从__dict__属性中收集信息。\n",
    "如果对象是模块，返回列表包含模块的属性名。\n",
    "如果对象是类型或类，返回列表包括类的属性名，及它的基类的属性名。\n",
    "否则，返回列表包括对象的属性名，它的类的属性名和类的基类的属性名。"
   ]
  },
  {
   "cell_type": "code",
   "execution_count": 8,
   "metadata": {},
   "outputs": [
    {
     "name": "stdout",
     "output_type": "stream",
     "text": [
      "['__class__', '__delattr__', '__dict__', '__dir__', '__doc__', '__eq__', '__format__', '__ge__', '__getattribute__', '__gt__', '__hash__', '__init__', '__init_subclass__', '__le__', '__lt__', '__module__', '__ne__', '__new__', '__reduce__', '__reduce_ex__', '__repr__', '__setattr__', '__sizeof__', '__str__', '__subclasshook__', '__weakref__']\n",
      "['__class__', '__delattr__', '__dict__', '__dir__', '__doc__', '__eq__', '__format__', '__ge__', '__getattribute__', '__gt__', '__hash__', '__init__', '__init_subclass__', '__le__', '__lt__', '__module__', '__ne__', '__new__', '__reduce__', '__reduce_ex__', '__repr__', '__setattr__', '__sizeof__', '__str__', '__subclasshook__', '__weakref__', 'name']\n",
      "{'__module__': '__main__', '__init__': <function A.__init__ at 0x0000000005845510>, '__dict__': <attribute '__dict__' of 'A' objects>, '__weakref__': <attribute '__weakref__' of 'A' objects>, '__doc__': None}\n",
      "{'name': 'Jun'}\n"
     ]
    }
   ],
   "source": [
    "class A:\n",
    "    def __init__(self, name=\"Jun\"):\n",
    "        self.name = name\n",
    "        \n",
    "print(dir(A))\n",
    "print(dir(A()))  # == dir(Fib) + Fib().__dict__\n",
    "print(A.__dict__)\n",
    "print(A().__dict__)"
   ]
  },
  {
   "cell_type": "markdown",
   "metadata": {},
   "source": [
    "# __init__、__del__"
   ]
  },
  {
   "cell_type": "code",
   "execution_count": null,
   "metadata": {},
   "outputs": [],
   "source": [
    "__init__不能有返回值，即只能用None\n",
    "__new__必须有返回值\n",
    "__del__对象的引用计数为0时，调用"
   ]
  },
  {
   "cell_type": "markdown",
   "metadata": {},
   "source": [
    "# __hash__、__eq__"
   ]
  },
  {
   "cell_type": "code",
   "execution_count": null,
   "metadata": {},
   "outputs": [],
   "source": [
    "__eq__ => == 判断2个对象是否相等，返回bool值；如果没有定义__eq__()，会判断两个对象的id。\n",
    "__hash__ => hash()，只是返回一个hash值作为set的key；去重，需要__eq__来判断2个对象。"
   ]
  },
  {
   "cell_type": "code",
   "execution_count": null,
   "metadata": {},
   "outputs": [],
   "source": [
    "list类的实例不可hash？\n",
    "是因为list类中，__hash__ = None，调用__hash__() 相当于调用None()，一定报错。"
   ]
  },
  {
   "cell_type": "markdown",
   "metadata": {},
   "source": [
    "# __repr__、__str__、__bytes__"
   ]
  },
  {
   "cell_type": "code",
   "execution_count": null,
   "metadata": {},
   "outputs": [],
   "source": [
    "__repr__ => repr()，如果没有定义，就直接返回object的定义，即显示内存地址信息。\n",
    "__str__ => 内建函数str()、format()、print()。如果没有定义，就调用__repr__\n",
    "__bytes__ => bytes()，返回的是byte对象"
   ]
  },
  {
   "cell_type": "code",
   "execution_count": 30,
   "metadata": {},
   "outputs": [
    {
     "name": "stdout",
     "output_type": "stream",
     "text": [
      "repr: 9863140845\n",
      "str: 9863140845\n",
      "str: 9863140845\n",
      "str: 9863140845\n",
      "{repr: 9863140845}\n",
      "b'bytes'\n"
     ]
    }
   ],
   "source": [
    "class Point:\n",
    "    \n",
    "    def __init__(self, x, y):\n",
    "        self.x = x\n",
    "        self.y = y\n",
    "        \n",
    "    def __bool__(self):\n",
    "        print(\"~\" * 30)\n",
    "        return False\n",
    "    \n",
    "    def __repr__(self):  # repr\n",
    "        return f\"repr: {id(self)}{self.x}{self.y}\"\n",
    "    \n",
    "    def __str__(self):  # str、format、print\n",
    "        return f\"str: {id(self)}{self.x}{self.y}\"\n",
    "    \n",
    "    def __bytes__(self):\n",
    "        return b\"bytes\"\n",
    "    \n",
    "pi = Point(4, 5)\n",
    "\n",
    "print(repr(pi))  # repr\n",
    "print(str(pi))  # str\n",
    "print(format(pi))  # format\n",
    "print(pi)  # print\n",
    "print({pi, pi})  # repr\n",
    "print(bytes(pi))"
   ]
  },
  {
   "cell_type": "markdown",
   "metadata": {},
   "source": [
    "# 运算符重载"
   ]
  },
  {
   "cell_type": "code",
   "execution_count": null,
   "metadata": {},
   "outputs": [],
   "source": [
    "<  => __lt__\n",
    "<= => __le__\n",
    "=  => __eq__\n",
    ">  => __gt__\n",
    ">= => __ge__\n",
    "!= => __ne__\n",
    "\n",
    "+  => __add__\n",
    "-  => __sub__\n",
    "*  => __mul__\n",
    "/  => __truediv__\n",
    "%  => __mod__\n",
    "// => __floordiv__\n",
    "** => __pow__\n",
    "divmod => __divmod__\n",
    "\n",
    "+=  => __iadd__\n",
    "-=  => __isub__\n",
    "*=  => __imul__"
   ]
  },
  {
   "cell_type": "code",
   "execution_count": 22,
   "metadata": {},
   "outputs": [
    {
     "name": "stdout",
     "output_type": "stream",
     "text": [
      "2 2 81\n"
     ]
    }
   ],
   "source": [
    "x, y = divmod(10, 4), pow(9, 2)\n",
    "print(*x, y)"
   ]
  },
  {
   "cell_type": "markdown",
   "metadata": {},
   "source": [
    "# 容器和大小"
   ]
  },
  {
   "cell_type": "code",
   "execution_count": null,
   "metadata": {},
   "outputs": [],
   "source": [
    "__len__ => len()，返回对象的长度\n",
    "__bool__ => bool()，如果没有定义__bool__，则调用__len__，非零为真\n",
    "__iter__ => iter()，迭代容器时，调用，返回一个新的迭代器对象\n",
    "__contains__ => in，成员运算符，没有实现，就调用__iter__遍历\n",
    "__getitem__ => self[key]\n",
    "__setitem__\n",
    "__missing__ => self[key]，key不存在时调用 "
   ]
  },
  {
   "cell_type": "code",
   "execution_count": 38,
   "metadata": {},
   "outputs": [
    {
     "name": "stdout",
     "output_type": "stream",
     "text": [
      "1\n",
      "['abc', 'd', 'f', 'e', 'h', 'i']\n"
     ]
    }
   ],
   "source": [
    "class Cart:\n",
    "    def __init__(self):\n",
    "        self.items = []\n",
    "        \n",
    "    def __len__(self):\n",
    "        return len(self.items)\n",
    "    \n",
    "    def __getitem__(self, index):\n",
    "        return self.items[index]\n",
    "    \n",
    "    def __setitem__(self, index, value):\n",
    "        self.items[index] = value\n",
    "        \n",
    "    def additem(self, item):\n",
    "        self.items.append(item)\n",
    "        return self # 链式编程\n",
    "    \n",
    "    def __add__(self, other):\n",
    "        self.items.append(other)\n",
    "        return self # 链式编程\n",
    "    \n",
    "    def __iter__(self):\n",
    "        # yield from self.items\n",
    "        return iter(self.items)\n",
    "    \n",
    "    def __str__(self):\n",
    "        return str(self.items)\n",
    "    \n",
    "cart = Cart()\n",
    "cart.additem(\"abc\")\n",
    "print(len(cart))\n",
    "cart + \"d\" + \"f\" + \"e\"  # 链式编程\n",
    "cart.additem(\"h\").additem(\"i\") # 链式编程\n",
    "print(cart)"
   ]
  },
  {
   "cell_type": "markdown",
   "metadata": {},
   "source": [
    "# __call__"
   ]
  },
  {
   "cell_type": "code",
   "execution_count": 29,
   "metadata": {},
   "outputs": [
    {
     "name": "stdout",
     "output_type": "stream",
     "text": [
      "144 [0, 1, 1, 2, 3, 5, 8, 13, 21, 34, 55, 89, 144]\n"
     ]
    }
   ],
   "source": [
    "# 斐波那契数列\n",
    "class Fib:\n",
    "    def __init__(self):\n",
    "        self.items = [0, 1, 1]\n",
    "    \n",
    "    def __len__(self):\n",
    "        return len(self.items)\n",
    "    \n",
    "    def __getitem__(self, index):\n",
    "        return self.items[index]\n",
    "    \n",
    "    def __call__(self, n):\n",
    "        l = len(self)  # => __len__\n",
    "        if n < 1: raise IndexError()  # 超出索引\n",
    "        for i in range(l, n+1): # n < l时，自动跳出循环\n",
    "            self.items.append(self[i-1] + self[i-2])      \n",
    "        return self[n]  # => __getitem__\n",
    "        \n",
    "fib = Fib()\n",
    "print(fib(12), fib.items)"
   ]
  }
 ],
 "metadata": {
  "kernelspec": {
   "display_name": "Python 3",
   "language": "python",
   "name": "python3"
  },
  "language_info": {
   "codemirror_mode": {
    "name": "ipython",
    "version": 3
   },
   "file_extension": ".py",
   "mimetype": "text/x-python",
   "name": "python",
   "nbconvert_exporter": "python",
   "pygments_lexer": "ipython3",
   "version": "3.7.3"
  }
 },
 "nbformat": 4,
 "nbformat_minor": 2
}
