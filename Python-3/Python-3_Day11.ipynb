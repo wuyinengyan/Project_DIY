{
 "cells": [
  {
   "cell_type": "markdown",
   "metadata": {},
   "source": [
    "# buffering/缓冲区"
   ]
  },
  {
   "cell_type": "code",
   "execution_count": 1,
   "metadata": {},
   "outputs": [],
   "source": [
    "# buffering是一个内存空间，一个FIFO(first in first out)队列，缓冲区满了，数据会flush到磁盘。\n",
    "\n",
    "# -1 表示使用缺省大小的buffer。如果是二进制，使用io.DEFAULT_BUFFER_SIZE，默认是4096或8192。\n",
    "# 如果是文本模式、终端设备，则是行缓存方式，如果不是，则使用二进制模式的策略。\n",
    "# 0 只在二进制模式使用，表示关buffer\n",
    "# 1 只在文本模式使用，表示使用行缓冲。不超出缓冲区极限时，即见到换行符就flush\n",
    "# 大于1 用于指定buffer的大小\n",
    "\n",
    "# flush() 将缓冲区数据写入磁盘\n",
    "# close() 关闭前会调用flush()"
   ]
  },
  {
   "cell_type": "code",
   "execution_count": null,
   "metadata": {},
   "outputs": [],
   "source": [
    "f = open(\"test\", \"wb+\", 0)  # 二进制模式下，关闭缓冲区，立即看到写入结果\n",
    "# f = open(\"test\", \"w+\", 0)  # 字符流模式下，不能关闭缓冲区\n",
    "f = open(\"test\", \"wb+\", 4)  # 只开辟了4个字节的缓冲区，如果一次的写入超过4个字节，会直接flush所有写入内容"
   ]
  },
  {
   "cell_type": "markdown",
   "metadata": {},
   "source": [
    "# 行读取"
   ]
  },
  {
   "cell_type": "code",
   "execution_count": 3,
   "metadata": {},
   "outputs": [],
   "source": [
    "f.readline(size=-1)  # 默认读取一行，size设定一次读取的字符数\n",
    "f.readline(1)  # 按指定的size，逐个字符读取\n",
    "for line in f.readline(hint=-1):  # 读取所有行，hint无视掉\n",
    "    print(line.strip())\n",
    "    \n",
    "for line in f:  # 推荐\n",
    "    print(line.strip())  # 去除无效的空行"
   ]
  },
  {
   "cell_type": "markdown",
   "metadata": {},
   "source": [
    "# 其他"
   ]
  },
  {
   "cell_type": "code",
   "execution_count": null,
   "metadata": {},
   "outputs": [],
   "source": [
    "f.seekable()  # 是否可seek\n",
    "f.readable()  # 是否可读\n",
    "f.writable()  # 是否可写"
   ]
  },
  {
   "cell_type": "markdown",
   "metadata": {},
   "source": [
    "# 上下文管理"
   ]
  },
  {
   "cell_type": "code",
   "execution_count": null,
   "metadata": {},
   "outputs": [],
   "source": [
    "# 上下文管理：\n",
    "#   使用with ... as 关键字\n",
    "#   上下文管理的语句块并不会开启新的作用域\n",
    "#   with语句块执行完后，会自动关闭文件对象"
   ]
  },
  {
   "cell_type": "code",
   "execution_count": 6,
   "metadata": {},
   "outputs": [
    {
     "ename": "ZeroDivisionError",
     "evalue": "division by zero",
     "output_type": "error",
     "traceback": [
      "\u001b[1;31m---------------------------------------------------------------------------\u001b[0m",
      "\u001b[1;31mZeroDivisionError\u001b[0m                         Traceback (most recent call last)",
      "\u001b[1;32m<ipython-input-6-25d84a9dc9f4>\u001b[0m in \u001b[0;36m<module>\u001b[1;34m\u001b[0m\n\u001b[0;32m      1\u001b[0m \u001b[1;32mwith\u001b[0m \u001b[0mopen\u001b[0m\u001b[1;33m(\u001b[0m\u001b[1;34m\"text\"\u001b[0m\u001b[1;33m,\u001b[0m \u001b[1;34m\"w+\"\u001b[0m\u001b[1;33m)\u001b[0m \u001b[1;32mas\u001b[0m \u001b[0mf\u001b[0m\u001b[1;33m:\u001b[0m\u001b[1;33m\u001b[0m\u001b[1;33m\u001b[0m\u001b[0m\n\u001b[1;32m----> 2\u001b[1;33m     \u001b[0mf\u001b[0m\u001b[1;33m.\u001b[0m\u001b[0mwrite\u001b[0m\u001b[1;33m(\u001b[0m\u001b[0mstr\u001b[0m\u001b[1;33m(\u001b[0m\u001b[1;36m1\u001b[0m\u001b[1;33m/\u001b[0m\u001b[1;36m0\u001b[0m\u001b[1;33m)\u001b[0m\u001b[1;33m)\u001b[0m\u001b[1;33m\u001b[0m\u001b[1;33m\u001b[0m\u001b[0m\n\u001b[0m",
      "\u001b[1;31mZeroDivisionError\u001b[0m: division by zero"
     ]
    }
   ],
   "source": [
    "with open(\"text\", \"w+\") as f:\n",
    "    f.write(str(1/0))"
   ]
  },
  {
   "cell_type": "code",
   "execution_count": 7,
   "metadata": {},
   "outputs": [
    {
     "name": "stdout",
     "output_type": "stream",
     "text": [
      "True\n"
     ]
    }
   ],
   "source": [
    "print(f.closed)  # with语法，会在出现异常时，自动关闭f"
   ]
  },
  {
   "cell_type": "markdown",
   "metadata": {},
   "source": [
    "# 习题"
   ]
  },
  {
   "cell_type": "code",
   "execution_count": 8,
   "metadata": {},
   "outputs": [],
   "source": [
    "# 统计一片文章中的高频词语"
   ]
  },
  {
   "cell_type": "code",
   "execution_count": 14,
   "metadata": {},
   "outputs": [
    {
     "name": "stdout",
     "output_type": "stream",
     "text": [
      "[('safasdf', 1), ('path', 1), ('asdfa', 1)]\n"
     ]
    }
   ],
   "source": [
    "chars = set(r\"\"\",.\"'[](){}-+/\\*&#$@\"\"\")  # 特殊字符集合\n",
    "\n",
    "def makekey(x):\n",
    "    key = x.lower()\n",
    "    res = []\n",
    "    for c in key:\n",
    "        if c in chars:  # 处理方法优于replace\n",
    "            res.append(\"\")\n",
    "        else:\n",
    "            res.append(c)\n",
    "    return \"\".join(res).split()  # 多个元素的集合\n",
    "\n",
    "out = {}\n",
    "\n",
    "with open(\"log.txt\", encoding=\"utf-8\") as f:\n",
    "    for line in f:\n",
    "        words = line.split()\n",
    "        for wordlist in map(makekey, words):\n",
    "            for word in wordlist:\n",
    "                out[word] = out.get(word, 0) + 1\n",
    "                \n",
    "print(sorted(out.items(), key=lambda item:item[1], reverse=True))"
   ]
  },
  {
   "cell_type": "markdown",
   "metadata": {},
   "source": [
    "# StringIO、BytesIO模块"
   ]
  },
  {
   "cell_type": "code",
   "execution_count": null,
   "metadata": {},
   "outputs": [],
   "source": [
    "# StringIO好处：\n",
    "#     磁盘的操作比内存要慢得多，内存足够时，优化的思路是少落地，减少磁盘IO的过程，可大大提高程序的运行效率\n",
    "# BytesIO：\n",
    "#     在内存中开辟一个二进制模式的buffer，可以向文件对象一样操作它。"
   ]
  },
  {
   "cell_type": "code",
   "execution_count": 15,
   "metadata": {},
   "outputs": [
    {
     "name": "stdout",
     "output_type": "stream",
     "text": [
      "True True True\n"
     ]
    }
   ],
   "source": [
    "from io import StringIO, BytesIO\n",
    "\n",
    "sio = StringIO()  # 类文件对象\n",
    "print(sio.seekable(), sio.readable(), sio.writable())"
   ]
  },
  {
   "cell_type": "code",
   "execution_count": 17,
   "metadata": {},
   "outputs": [
    {
     "name": "stdout",
     "output_type": "stream",
     "text": [
      "12\n",
      "0\n",
      "Hello Python\n"
     ]
    }
   ],
   "source": [
    "with StringIO() as sio:  # 如果类中存在__Enter__、__Exit__即可调用with ... as\n",
    "    print(sio.write(\"Hello Python\"))\n",
    "    print(sio.seek(0))\n",
    "    print(sio.read())"
   ]
  },
  {
   "cell_type": "code",
   "execution_count": 18,
   "metadata": {},
   "outputs": [
    {
     "name": "stdout",
     "output_type": "stream",
     "text": [
      "12\n",
      "0\n",
      "b'Hello Python'\n"
     ]
    }
   ],
   "source": [
    "with BytesIO() as sio:  # 如果类中存在__Enter__、__Exit__即可调用with ... as\n",
    "    print(sio.write(b\"Hello Python\"))\n",
    "    print(sio.seek(0))\n",
    "    print(sio.read())"
   ]
  },
  {
   "cell_type": "code",
   "execution_count": null,
   "metadata": {},
   "outputs": [],
   "source": [
    "# 类文件对象：可以像文件一样进行操作，socket、输入输出(stdin、stdout)都是类文件对象"
   ]
  },
  {
   "cell_type": "markdown",
   "metadata": {},
   "source": [
    "# Path模块"
   ]
  },
  {
   "cell_type": "code",
   "execution_count": 19,
   "metadata": {},
   "outputs": [
    {
     "data": {
      "text/plain": [
       "'/etc\\\\sysconfig\\\\network'"
      ]
     },
     "execution_count": 19,
     "metadata": {},
     "output_type": "execute_result"
    }
   ],
   "source": [
    "from os import path\n",
    "\n",
    "p = path.join(\"/etc\", \"sysconfig\", \"network\")  # 当前操作系统的目录分隔符\n",
    "p  # 相对路径"
   ]
  },
  {
   "cell_type": "code",
   "execution_count": 22,
   "metadata": {},
   "outputs": [
    {
     "data": {
      "text/plain": [
       "'C:\\\\etc\\\\sysconfig\\\\network'"
      ]
     },
     "execution_count": 22,
     "metadata": {},
     "output_type": "execute_result"
    }
   ],
   "source": [
    "path.abspath(p)  # 绝对路径"
   ]
  },
  {
   "cell_type": "code",
   "execution_count": 23,
   "metadata": {},
   "outputs": [
    {
     "data": {
      "text/plain": [
       "'C:\\\\Users\\\\Administrator\\\\AAAPython3'"
      ]
     },
     "execution_count": 23,
     "metadata": {},
     "output_type": "execute_result"
    }
   ],
   "source": [
    "path.abspath(\".\")"
   ]
  },
  {
   "cell_type": "code",
   "execution_count": 24,
   "metadata": {},
   "outputs": [
    {
     "data": {
      "text/plain": [
       "('C:\\\\etc\\\\sysconfig', 'network')"
      ]
     },
     "execution_count": 24,
     "metadata": {},
     "output_type": "execute_result"
    }
   ],
   "source": [
    "path.split(path.abspath(p))"
   ]
  },
  {
   "cell_type": "code",
   "execution_count": 25,
   "metadata": {},
   "outputs": [
    {
     "data": {
      "text/plain": [
       "'C:\\\\etc\\\\sysconfig'"
      ]
     },
     "execution_count": 25,
     "metadata": {},
     "output_type": "execute_result"
    }
   ],
   "source": [
    "path.dirname(path.abspath(p))  # 上层路径目录"
   ]
  },
  {
   "cell_type": "code",
   "execution_count": 26,
   "metadata": {},
   "outputs": [
    {
     "data": {
      "text/plain": [
       "'C:\\\\etc'"
      ]
     },
     "execution_count": 26,
     "metadata": {},
     "output_type": "execute_result"
    }
   ],
   "source": [
    "path.dirname(path.dirname(path.abspath(p)))"
   ]
  },
  {
   "cell_type": "code",
   "execution_count": 28,
   "metadata": {},
   "outputs": [
    {
     "name": "stdout",
     "output_type": "stream",
     "text": [
      "/etc\\sysconfig network\n",
      "('C:', '\\\\etc\\\\sysconfig\\\\network')\n"
     ]
    }
   ],
   "source": [
    "print(path.dirname(p), path.basename(p))  # 拆分\n",
    "print(path.splitdrive(path.abspath(p)))  # 根据磁盘分割"
   ]
  },
  {
   "cell_type": "code",
   "execution_count": 30,
   "metadata": {},
   "outputs": [],
   "source": [
    "# 以上os是老版本的\n",
    "# 下面是3.4以后推荐的"
   ]
  },
  {
   "cell_type": "code",
   "execution_count": 32,
   "metadata": {},
   "outputs": [
    {
     "name": "stdout",
     "output_type": "stream",
     "text": [
      ". C:\\Users\\Administrator\\AAAPython3\n"
     ]
    }
   ],
   "source": [
    "from pathlib import Path\n",
    "\n",
    "p = Path()\n",
    "print(p, p.absolute())  # 当前路径的绝对路径"
   ]
  },
  {
   "cell_type": "code",
   "execution_count": 37,
   "metadata": {},
   "outputs": [
    {
     "data": {
      "text/plain": [
       "(WindowsPath('a/b/c/d'), WindowsPath('a/b/c/d'), WindowsPath('a/b/c/d'))"
      ]
     },
     "execution_count": 37,
     "metadata": {},
     "output_type": "execute_result"
    }
   ],
   "source": [
    "p0 = p/\"a/b/c/d\"  # 推荐，方便简洁\n",
    "p1 = p/\"a\"/\"b\"/\"c/d\"\n",
    "p2 = Path().joinpath(\"a\", \"b\", \"c/d\")\n",
    "p0, p1, p2"
   ]
  },
  {
   "cell_type": "code",
   "execution_count": 39,
   "metadata": {},
   "outputs": [
    {
     "name": "stdout",
     "output_type": "stream",
     "text": [
      "('C:\\\\', 'Users', 'Administrator', 'AAAPython3', 'a', 'b', 'c', 'd')\n",
      "C:\\Users\\Administrator\\AAAPython3\\a\\b\n",
      "C:\\Users\\Administrator\\AAAPython3\\a\\b\\c\n",
      "C:\\Users\\Administrator\\AAAPython3\\a\\b\n",
      "C:\\Users\\Administrator\\AAAPython3\\a\n",
      "C:\\Users\\Administrator\\AAAPython3\n",
      "C:\\Users\\Administrator\n",
      "C:\\Users\n",
      "C:\\\n"
     ]
    }
   ],
   "source": [
    "print(p1.absolute().parts)  # 分解\n",
    "print(p1.absolute().parent.parent)  # 取父目录\n",
    "for pp in p1.absolute().parents:\n",
    "    print(pp)"
   ]
  },
  {
   "cell_type": "code",
   "execution_count": null,
   "metadata": {},
   "outputs": [],
   "source": [
    "p2.with_name(\"xx.py\")  # 替换文件名称\n",
    "p2.with_suffix(\"xx.py\")  # 替换文件的后缀"
   ]
  },
  {
   "cell_type": "markdown",
   "metadata": {},
   "source": [
    "# shutil模块"
   ]
  },
  {
   "cell_type": "code",
   "execution_count": 43,
   "metadata": {},
   "outputs": [],
   "source": [
    "import shutil\n",
    "\n",
    "with open(\"d:/temp/test.txt\", \"r+\") as f1:\n",
    "    f1.write(\"xiwowangyi\\nyangliuyiyi\")\n",
    "    f1.flush\n",
    "    f1.seek(0)  # !\n",
    "    with open(\"d:/temp/test1.txt\", \"w\") as f2:\n",
    "        shutil.copyfileobj(f1, f2)"
   ]
  },
  {
   "cell_type": "code",
   "execution_count": null,
   "metadata": {},
   "outputs": [],
   "source": [
    "shutil.copy(src, dst[, ])\n",
    "shutil.copy2(src, dst[, ])\n",
    "shutil.copyfile(src, dst[, ])\n",
    "shutil.copymode(src, dst[, ])\n",
    "shutil.copystat(src, dst[, ])\n",
    "shutil.copytree(src, dst[, ])\n",
    "\n",
    "# shutil.remtree(\"d:/temp/test.txt\")  # rm -rf /"
   ]
  },
  {
   "cell_type": "markdown",
   "metadata": {},
   "source": [
    "# ini"
   ]
  },
  {
   "cell_type": "code",
   "execution_count": null,
   "metadata": {},
   "outputs": [],
   "source": [
    "# 配置文件 \n",
    "# 中括号里面的部分叫section，每一个section中，都是key=value的形式，key被称为option\n",
    "[DEFAULT]  # 缺省区，这个必须大写，特殊\n"
   ]
  }
 ],
 "metadata": {
  "kernelspec": {
   "display_name": "Python 3",
   "language": "python",
   "name": "python3"
  },
  "language_info": {
   "codemirror_mode": {
    "name": "ipython",
    "version": 3
   },
   "file_extension": ".py",
   "mimetype": "text/x-python",
   "name": "python",
   "nbconvert_exporter": "python",
   "pygments_lexer": "ipython3",
   "version": "3.7.3"
  }
 },
 "nbformat": 4,
 "nbformat_minor": 2
}
