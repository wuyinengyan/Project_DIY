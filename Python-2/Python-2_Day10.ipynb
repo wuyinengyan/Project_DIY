{
 "cells": [
  {
   "cell_type": "markdown",
   "metadata": {},
   "source": [
    "# P455 095：os"
   ]
  },
  {
   "cell_type": "code",
   "execution_count": 2,
   "metadata": {},
   "outputs": [],
   "source": [
    "# os模块的常用指令"
   ]
  },
  {
   "cell_type": "code",
   "execution_count": 3,
   "metadata": {},
   "outputs": [],
   "source": [
    "# os.rename(源文件名, 目标文件名)  # 重命名文件\n",
    "# os.remove(文件名)  # 删除文件"
   ]
  },
  {
   "cell_type": "code",
   "execution_count": 4,
   "metadata": {},
   "outputs": [],
   "source": [
    "# os.listdir(目录名)  # 目录列表\n",
    "# os.mkdir(目录名)  # 创建目录\n",
    "# os.rmdir(目录名)  # 删除目录\n",
    "# os.getcwd()  # 获取当前目录\n",
    "# os.chdir(目标目录)  # 修改工作目录\n",
    "# os.path.isdir(文件路径)  # 判断是否是文件"
   ]
  },
  {
   "cell_type": "markdown",
   "metadata": {},
   "source": [
    "# P457-458 097-098：utf8"
   ]
  },
  {
   "cell_type": "code",
   "execution_count": 5,
   "metadata": {},
   "outputs": [],
   "source": [
    "# utf8编码"
   ]
  },
  {
   "cell_type": "code",
   "execution_count": 7,
   "metadata": {},
   "outputs": [],
   "source": [
    "# Python 2.x中使用中文的方法：\n",
    "# 文件最前面添加：# *-* coding:utf8 *-*\n",
    "# 在字符串引号前面添加u；告诉解释器这是一个utf8格式的字符串\n",
    "hz_str = u\"这是中文汉字\""
   ]
  },
  {
   "cell_type": "code",
   "execution_count": 8,
   "metadata": {},
   "outputs": [],
   "source": [
    "# UTF-8 就是在互联网上使用最广的一种 Unicode 的实现方式。\n",
    "# 其他实现方式还包括 UTF-16（字符用两个字节或四个字节表示）和 UTF-32（字符用四个字节表示）\n",
    "# UTF-8 最大的一个特点，就是它是一种变长的编码方式。它可以使用1~4个字节表示一个符号，根据不同的符号而变化字节长度。\n",
    "# UTF-8 的编码规则很简单，只有二条：\n",
    "# 1）对于单字节的符号，字节的第一位设为0，后面7位为这个符号的 Unicode 码。因此对于英语字母，UTF-8 编码和 ASCII 码是相同的。\n",
    "# 2）对于n字节的符号（n > 1），第一个字节的前n位都设为1，第n + 1位设为0，后面字节的前两位一律设为10。\n",
    "# 剩下的没有提及的二进制位，全部为这个符号的 Unicode 码。\n",
    "# 详细网址：https://blog.csdn.net/Deft_MKJing/article/details/79460485"
   ]
  },
  {
   "cell_type": "markdown",
   "metadata": {},
   "source": [
    "# P459-460 099-100：eval"
   ]
  },
  {
   "cell_type": "code",
   "execution_count": 9,
   "metadata": {},
   "outputs": [],
   "source": [
    "# eval的基本使用"
   ]
  },
  {
   "cell_type": "code",
   "execution_count": 10,
   "metadata": {},
   "outputs": [
    {
     "data": {
      "text/plain": [
       "'********'"
      ]
     },
     "execution_count": 10,
     "metadata": {},
     "output_type": "execute_result"
    }
   ],
   "source": [
    "# eval()将字符串当成有效的表达式来计算，并返回计算结果\n",
    "eval(\"'*' * 8\")"
   ]
  },
  {
   "cell_type": "code",
   "execution_count": 11,
   "metadata": {},
   "outputs": [
    {
     "data": {
      "text/plain": [
       "list"
      ]
     },
     "execution_count": 11,
     "metadata": {},
     "output_type": "execute_result"
    }
   ],
   "source": [
    "type(eval(\"[1, 2, 3]\"))"
   ]
  },
  {
   "cell_type": "code",
   "execution_count": 13,
   "metadata": {},
   "outputs": [
    {
     "name": "stdout",
     "output_type": "stream",
     "text": [
      "请输入一个算术题：11 * 3 - 5 * (6 - 2)\n"
     ]
    },
    {
     "data": {
      "text/plain": [
       "13"
      ]
     },
     "execution_count": 13,
     "metadata": {},
     "output_type": "execute_result"
    }
   ],
   "source": [
    "input_str = input(\"请输入一个算术题：\")\n",
    "eval(input_str)"
   ]
  },
  {
   "cell_type": "code",
   "execution_count": 16,
   "metadata": {},
   "outputs": [
    {
     "data": {
      "text/plain": [
       "1"
      ]
     },
     "execution_count": 16,
     "metadata": {},
     "output_type": "execute_result"
    }
   ],
   "source": [
    "# 慎用！可以被用来操作系统文件\n",
    "__import__(\"os\").system(\"ls\")\n",
    "# __import__(\"os\").system(\"touch aa.txt\")\n",
    "# __import__(\"os\").system(\"rm aa.txt\")"
   ]
  },
  {
   "cell_type": "markdown",
   "metadata": {},
   "source": [
    "# P467 007：pygame1"
   ]
  },
  {
   "cell_type": "code",
   "execution_count": 17,
   "metadata": {},
   "outputs": [],
   "source": [
    "# set_mode"
   ]
  },
  {
   "cell_type": "code",
   "execution_count": null,
   "metadata": {},
   "outputs": [],
   "source": [
    "# 初始化游戏显示窗口\n",
    "# set_mode(resolution=(0,0), flags=0, depth=0)  -> Surface\n",
    "# resolution指定屏幕的宽和高，默认创建的窗口大小和屏幕一直\n",
    "# flags指定屏幕的附加选项，如是否全屏等，默认不传递\n",
    "# depth表示颜色的位数，默认自动匹配"
   ]
  }
 ],
 "metadata": {
  "kernelspec": {
   "display_name": "Python 3",
   "language": "python",
   "name": "python3"
  },
  "language_info": {
   "codemirror_mode": {
    "name": "ipython",
    "version": 3
   },
   "file_extension": ".py",
   "mimetype": "text/x-python",
   "name": "python",
   "nbconvert_exporter": "python",
   "pygments_lexer": "ipython3",
   "version": "3.7.3"
  }
 },
 "nbformat": 4,
 "nbformat_minor": 2
}
