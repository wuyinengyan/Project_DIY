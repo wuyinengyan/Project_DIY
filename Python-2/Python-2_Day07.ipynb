{
 "cells": [
  {
   "cell_type": "markdown",
   "metadata": {},
   "source": [
    "# P332 231：hash"
   ]
  },
  {
   "cell_type": "code",
   "execution_count": 1,
   "metadata": {},
   "outputs": [],
   "source": [
    "# dict中的key和hash"
   ]
  },
  {
   "cell_type": "code",
   "execution_count": 2,
   "metadata": {},
   "outputs": [],
   "source": [
    "# dict中的key必须是不可变类型，list、dict、set是不行的  # TypeError: unhashable type\n",
    "# Python中内置一个hash(o)的函数\n",
    "# 接收一个不可变类型的数据作为参数，返回的结果是一个整数；"
   ]
  },
  {
   "cell_type": "code",
   "execution_count": null,
   "metadata": {},
   "outputs": [],
   "source": [
    "# hash是一种算法，其作用就是提取数据的特征码（指纹）：\n",
    "# 相同的内容得到相同的结果，不同的内容得到不同的结果；"
   ]
  },
  {
   "cell_type": "markdown",
   "metadata": {},
   "source": [
    "# P343 242：global"
   ]
  },
  {
   "cell_type": "code",
   "execution_count": 1,
   "metadata": {},
   "outputs": [],
   "source": [
    "# 全局变量的命名、rename快捷键"
   ]
  },
  {
   "cell_type": "code",
   "execution_count": null,
   "metadata": {},
   "outputs": [],
   "source": [
    "# 全局变量命名最好以g_、gl_开头\n",
    "# rename的快捷键：shift + F6"
   ]
  },
  {
   "cell_type": "markdown",
   "metadata": {},
   "source": [
    "# P346 245：函数返回值"
   ]
  },
  {
   "cell_type": "code",
   "execution_count": 2,
   "metadata": {},
   "outputs": [],
   "source": [
    "# 多个函数返回值"
   ]
  },
  {
   "cell_type": "code",
   "execution_count": 7,
   "metadata": {},
   "outputs": [
    {
     "name": "stdout",
     "output_type": "stream",
     "text": [
      "16 64\n"
     ]
    }
   ],
   "source": [
    "# 优雅\n",
    "def cal(x, y):\n",
    "    return x ** 2, y ** 2\n",
    "re_x, re_y = cal(4, 8)  # 接收变量的个数要和返回值的个数一致\n",
    "print(re_x, re_y)"
   ]
  },
  {
   "cell_type": "markdown",
   "metadata": {},
   "source": [
    "# P347 246：交换两个变量"
   ]
  },
  {
   "cell_type": "code",
   "execution_count": 8,
   "metadata": {},
   "outputs": [],
   "source": [
    "# 交换两个变量的三种方法"
   ]
  },
  {
   "cell_type": "code",
   "execution_count": null,
   "metadata": {},
   "outputs": [],
   "source": [
    "# 1.使用其他变量\n",
    "# 2.不使用其他变量  # C语言面试题\n",
    "# a = a + b\n",
    "# b = a - b\n",
    "# a = a - b\n",
    "# 3.Python特有方法：\n",
    "# a, b = b, a  # 等号右边是一个元组的省略写法(b, a)"
   ]
  },
  {
   "cell_type": "markdown",
   "metadata": {},
   "source": [
    "# P350 249：list"
   ]
  },
  {
   "cell_type": "code",
   "execution_count": 9,
   "metadata": {},
   "outputs": [],
   "source": [
    "# list的+="
   ]
  },
  {
   "cell_type": "code",
   "execution_count": 11,
   "metadata": {},
   "outputs": [
    {
     "name": "stdout",
     "output_type": "stream",
     "text": [
      "[1, 2, 3, 1, 2, 3]\n",
      "[1, 2, 3, 1, 2, 3]\n",
      "[1, 2, 3, 1, 2, 3] [1, 2, 3]\n"
     ]
    }
   ],
   "source": [
    "def cal1(li):\n",
    "    li += li  # == li.extend(li)\n",
    "    print(li)\n",
    "def cal2(li):\n",
    "    li = li + li  # 有赋值操作\n",
    "    print(li)\n",
    "li1 = [1, 2, 3]\n",
    "li2 = [1, 2, 3]\n",
    "cal1(li1)\n",
    "cal2(li2)\n",
    "print(li1, li2)"
   ]
  },
  {
   "cell_type": "markdown",
   "metadata": {},
   "source": [
    "# P354-355 253-254：多值参数"
   ]
  },
  {
   "cell_type": "code",
   "execution_count": 12,
   "metadata": {},
   "outputs": [],
   "source": [
    "# 多值参数的使用\n",
    "# 拆包"
   ]
  },
  {
   "cell_type": "code",
   "execution_count": 16,
   "metadata": {},
   "outputs": [
    {
     "name": "stdout",
     "output_type": "stream",
     "text": [
      "1\n",
      "(2, 3, 4)\n",
      "{'name': 'nh', 'age': 14}\n"
     ]
    }
   ],
   "source": [
    "def demo(param, *args, **kwargs):  # *:元组；**:字典\n",
    "    print(param)\n",
    "    print(args)\n",
    "    print(kwargs)\n",
    "\n",
    "demo(1, 2, 3, 4, name=\"nh\", age=14)"
   ]
  },
  {
   "cell_type": "code",
   "execution_count": 24,
   "metadata": {},
   "outputs": [
    {
     "name": "stdout",
     "output_type": "stream",
     "text": [
      "(2, 3, 4)\n",
      "{'name': 'nh', 'age': 14}\n"
     ]
    }
   ],
   "source": [
    "def demo(*args, **kwargs):\n",
    "    print(args)\n",
    "    print(kwargs)\n",
    "\n",
    "tu1 = (2, 3, 4)\n",
    "dict1 = {\"name\": \"nh\", \"age\": 14}\n",
    "demo(*tu1, **dict1)  # *:元组；**:字典\n",
    "# demo(**dict1, *tu1)  # SyntaxError:"
   ]
  }
 ],
 "metadata": {
  "kernelspec": {
   "display_name": "Python 3",
   "language": "python",
   "name": "python3"
  },
  "language_info": {
   "codemirror_mode": {
    "name": "ipython",
    "version": 3
   },
   "file_extension": ".py",
   "mimetype": "text/x-python",
   "name": "python",
   "nbconvert_exporter": "python",
   "pygments_lexer": "ipython3",
   "version": "3.7.3"
  }
 },
 "nbformat": 4,
 "nbformat_minor": 2
}
