{
 "cells": [
  {
   "cell_type": "markdown",
   "metadata": {},
   "source": [
    "# P400 040：继承"
   ]
  },
  {
   "cell_type": "code",
   "execution_count": 1,
   "metadata": {},
   "outputs": [],
   "source": [
    "# 继承的关系"
   ]
  },
  {
   "cell_type": "code",
   "execution_count": 8,
   "metadata": {},
   "outputs": [
    {
     "name": "stdout",
     "output_type": "stream",
     "text": [
      "nihao\n"
     ]
    }
   ],
   "source": [
    "class A:\n",
    "    def __init__(self, name = \"hi\"):\n",
    "        self.__name = name\n",
    "        \n",
    "    def __test(self):\n",
    "        print(\"%s\" % self.__name)\n",
    "\n",
    "class B(A):\n",
    "    pass\n",
    "\n",
    "a = A(\"zao\")\n",
    "b = B(\"nihao\")\n",
    "b._A__test()  # 子类对象可以通过父类的公有方法（伪私有）间接访问到父类的私有属性、私有方法\n",
    "# b._B__test()  # AttributeError: 'B' object has no attribute '_B__tes"
   ]
  },
  {
   "cell_type": "markdown",
   "metadata": {},
   "source": [
    "# P403-404 043-044：MRO"
   ]
  },
  {
   "cell_type": "code",
   "execution_count": 10,
   "metadata": {},
   "outputs": [],
   "source": [
    "# MRO顺序\n",
    "# 新式类和经典类"
   ]
  },
  {
   "cell_type": "code",
   "execution_count": 16,
   "metadata": {},
   "outputs": [
    {
     "name": "stdout",
     "output_type": "stream",
     "text": [
      "(<class '__main__.A'>, <class '__main__.B'>, <class '__main__.E'>, <class '__main__.C'>, <class '__main__.D'>, <class '__main__.F'>, <class 'object'>)\n"
     ]
    }
   ],
   "source": [
    "class D:\n",
    "    pass\n",
    "\n",
    "class E:\n",
    "    pass\n",
    "\n",
    "class F:\n",
    "    pass\n",
    "\n",
    "class C(D, F):\n",
    "    pass\n",
    "\n",
    "class B(E, D):\n",
    "    pass\n",
    "\n",
    "class A(B, C):\n",
    "    pass\n",
    "\n",
    "if __name__ == \"__main__\":\n",
    "    print(A.__mro__)"
   ]
  },
  {
   "cell_type": "code",
   "execution_count": null,
   "metadata": {},
   "outputs": [],
   "source": [
    "# A只有它没有被别人指向，输出A；\n",
    "# 去掉A及其伸出的两条线，剩B和C点同时满足只指向别人，按照树的顺序从左到右，故先输出B；\n",
    "# 去掉线剩E和C，输出E；\n",
    "# 去线剩C，输出C；\n",
    "# 去线剩D和F，输出D；\n",
    "# 去线只剩F，输出F；\n",
    "# 最后输出object；\n",
    "# 得到的输出结果：\n",
    "# A->B->E->C->D->F->object"
   ]
  },
  {
   "cell_type": "code",
   "execution_count": null,
   "metadata": {},
   "outputs": [],
   "source": [
    "# 新式类：以object为基类的类，推荐使用，Python 3.x中定义的类都是新式类\n",
    "# 经典类：不以object为基类的类，不推荐使用\n",
    "# 新式类和经典类在多继承时——会影响到方法的搜索顺序"
   ]
  },
  {
   "cell_type": "markdown",
   "metadata": {},
   "source": [
    "# ！P412-413 052-053：类方法"
   ]
  },
  {
   "cell_type": "code",
   "execution_count": null,
   "metadata": {},
   "outputs": [],
   "source": [
    "# 类方法@classmethod、cls"
   ]
  },
  {
   "cell_type": "code",
   "execution_count": 16,
   "metadata": {},
   "outputs": [
    {
     "name": "stdout",
     "output_type": "stream",
     "text": [
      "类被初始化的次数：2\n",
      "类被初始化的次数：2\n"
     ]
    }
   ],
   "source": [
    "class A:\n",
    "    count = 0\n",
    "    \n",
    "    def __init__(self, name = \"hi\"):\n",
    "        self.name = name\n",
    "        A.count += 1  # ！！！必须用A.count\n",
    "        \n",
    "    @classmethod  # 修饰器，标识是类方法\n",
    "    def get_count(cls):  # 类方法内部，用cls访问类属性、调用类方法\n",
    "        print(\"类被初始化的次数：%d\" % cls.count)\n",
    "\n",
    "a1 = A()\n",
    "a2 = A()\n",
    "a1.get_count()  \n",
    "A.get_count()  # 调用不需要实例化"
   ]
  },
  {
   "cell_type": "markdown",
   "metadata": {},
   "source": [
    "# P414 054：静态方法"
   ]
  },
  {
   "cell_type": "code",
   "execution_count": 10,
   "metadata": {},
   "outputs": [],
   "source": [
    "# 静态方法@staticmethod"
   ]
  },
  {
   "cell_type": "code",
   "execution_count": 11,
   "metadata": {},
   "outputs": [],
   "source": [
    "# 如果类中封装的方法，既不需要访问实例属性、调用实例方法；\n",
    "# 也不需要访问类属性、调用类方法，则可以把这个方法封装为一个静态方法"
   ]
  },
  {
   "cell_type": "code",
   "execution_count": 23,
   "metadata": {},
   "outputs": [
    {
     "name": "stdout",
     "output_type": "stream",
     "text": [
      "这是一个静态方法\n"
     ]
    }
   ],
   "source": [
    "class A:\n",
    "    \n",
    "    @staticmethod\n",
    "    def pr():  # 不需要参数cls和self\n",
    "        print(\"这是一个静态方法\")\n",
    "\n",
    "A.pr()  # 调用不需要实例化"
   ]
  },
  {
   "cell_type": "markdown",
   "metadata": {},
   "source": [
    "# ！P419-420 059-060：__new__"
   ]
  },
  {
   "cell_type": "code",
   "execution_count": 24,
   "metadata": {},
   "outputs": [],
   "source": [
    "# __new__"
   ]
  },
  {
   "cell_type": "code",
   "execution_count": 25,
   "metadata": {},
   "outputs": [],
   "source": [
    "# 使用类实例化对象时，Python的解释器会首先调用__new__方法为对象分配内存空间，\n",
    "# 之后返回对象的引用，Python的解释器将获取的引用作为第一个参数，传递给__init__\n",
    "# __new__的主要作用有两个：\n",
    "# 1.在内存中为对象分配空间\n",
    "# 2.返回对象的引用"
   ]
  },
  {
   "cell_type": "code",
   "execution_count": 26,
   "metadata": {},
   "outputs": [],
   "source": [
    "# ！！！重写__new__一定要return super().__new__(cls)，\n",
    "# 否则Python的解释器的得不到分配了空间的对象引用，就不会调用对象的初始化方法__init__"
   ]
  },
  {
   "cell_type": "code",
   "execution_count": 30,
   "metadata": {},
   "outputs": [
    {
     "name": "stdout",
     "output_type": "stream",
     "text": [
      "创建对象，分配空间\n",
      "播放器初始化\n",
      "<__main__.MusicPlayer object at 0x0000000005D27908>\n"
     ]
    }
   ],
   "source": [
    "# __new__是一个静态方法，在调用时需要主动传递cls参数\n",
    "class MusicPlayer():\n",
    "    def __new__(cls, *args, **kwargs):\n",
    "        # 1.创建对象时，new方法会被自动调用\n",
    "        print(\"创建对象，分配空间\")\n",
    "        # 2.为对象分配空间\n",
    "        instance = super().__new__(cls)\n",
    "        # 3.返回对象的引用\n",
    "        return instance\n",
    "    \n",
    "    def __init__(self):\n",
    "        print(\"播放器初始化\")\n",
    "        \n",
    "player = MusicPlayer()\n",
    "\n",
    "print(player)"
   ]
  },
  {
   "cell_type": "markdown",
   "metadata": {},
   "source": [
    "# P421-423 061-063：单例"
   ]
  },
  {
   "cell_type": "code",
   "execution_count": 31,
   "metadata": {},
   "outputs": [],
   "source": [
    "# 单例\n",
    "# 问题：如何让初始化动作只执行一次"
   ]
  },
  {
   "cell_type": "code",
   "execution_count": 2,
   "metadata": {},
   "outputs": [
    {
     "name": "stdout",
     "output_type": "stream",
     "text": [
      "8791476030688 8791476030688\n"
     ]
    }
   ],
   "source": [
    "class A:\n",
    "    instance = None\n",
    "    \n",
    "    def __new__(cls):\n",
    "        if cls.instance is not None:\n",
    "            cls.instance = super().__new__(cls)\n",
    "\n",
    "a1 = A()\n",
    "a2 = A()\n",
    "print(id(a1), id(a2))  # == a1 is a2 每一次实例化都是第一次创建的对象引用"
   ]
  },
  {
   "cell_type": "code",
   "execution_count": 3,
   "metadata": {},
   "outputs": [
    {
     "name": "stdout",
     "output_type": "stream",
     "text": [
      "执行初始化动作\n"
     ]
    }
   ],
   "source": [
    "class A:\n",
    "    init_flag = False\n",
    "    \n",
    "    def __init__(self):\n",
    "        if A.init_flag:\n",
    "           return\n",
    "        print(\"执行初始化动作\")\n",
    "        A.init_flag = True\n",
    "\n",
    "a1 = A()\n",
    "a2 = A()  # 初始化动作只执行一次"
   ]
  },
  {
   "cell_type": "markdown",
   "metadata": {},
   "source": [
    "# P428 068：异常"
   ]
  },
  {
   "cell_type": "code",
   "execution_count": 4,
   "metadata": {},
   "outputs": [],
   "source": [
    "# try...else...finally"
   ]
  },
  {
   "cell_type": "code",
   "execution_count": null,
   "metadata": {},
   "outputs": [],
   "source": [
    "try:\n",
    "    pass\n",
    "except 错误类型1：\n",
    "    print(\"\")\n",
    "except (错误类型2, 错误类型3):\n",
    "    print(\"\")\n",
    "except Exception as result:\n",
    "    print(\"%s\" % result)\n",
    "else:\n",
    "    # 只有没有异常才会执行的代码\n",
    "    pass\n",
    "finally:\n",
    "    # 一定会执行的代码\n",
    "    pass"
   ]
  },
  {
   "cell_type": "markdown",
   "metadata": {},
   "source": [
    "# P442-445 082-085：分享模块"
   ]
  },
  {
   "cell_type": "code",
   "execution_count": 5,
   "metadata": {},
   "outputs": [],
   "source": [
    "# 制作模块，并分享\n",
    "# 安装模块、卸载模块"
   ]
  },
  {
   "cell_type": "code",
   "execution_count": null,
   "metadata": {},
   "outputs": [],
   "source": [
    "1.创建setup.py\n",
    "2.构建模块\n",
    "$ python3 setup.py build\n",
    "3.生成发布压缩包\n",
    "$ python3 setup.py sdist"
   ]
  }
 ],
 "metadata": {
  "kernelspec": {
   "display_name": "Python 3",
   "language": "python",
   "name": "python3"
  },
  "language_info": {
   "codemirror_mode": {
    "name": "ipython",
    "version": 3
   },
   "file_extension": ".py",
   "mimetype": "text/x-python",
   "name": "python",
   "nbconvert_exporter": "python",
   "pygments_lexer": "ipython3",
   "version": "3.7.3"
  }
 },
 "nbformat": 4,
 "nbformat_minor": 2
}
