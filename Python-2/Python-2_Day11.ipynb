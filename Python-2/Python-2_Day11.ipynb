{
 "cells": [
  {
   "cell_type": "markdown",
   "metadata": {},
   "source": [
    "# P478-481 018-021：精灵和精灵组"
   ]
  },
  {
   "cell_type": "code",
   "execution_count": 2,
   "metadata": {},
   "outputs": [],
   "source": [
    "#sprite、group"
   ]
  },
  {
   "cell_type": "code",
   "execution_count": null,
   "metadata": {},
   "outputs": [],
   "source": [
    "# sprite:（需要派生子类）\n",
    "# image:记录图像数据\n",
    "# rect:记录在屏幕的位置\n",
    "# update(*args):更新精灵位置\n",
    "# kill():从所有组中删除\n",
    "\n",
    "# spirte group:\n",
    "# __init__(self, *sprites):\n",
    "# add(*sprites):向组中添加精灵\n",
    "# sprites():返回所有精灵列表\n",
    "# update(*args):让组中所有精灵调用update方法\n",
    "# draw(Surface):将组中所有精灵的image，绘制到Surface的rect位置"
   ]
  }
 ],
 "metadata": {
  "kernelspec": {
   "display_name": "Python 3",
   "language": "python",
   "name": "python3"
  },
  "language_info": {
   "codemirror_mode": {
    "name": "ipython",
    "version": 3
   },
   "file_extension": ".py",
   "mimetype": "text/x-python",
   "name": "python",
   "nbconvert_exporter": "python",
   "pygments_lexer": "ipython3",
   "version": "3.7.3"
  }
 },
 "nbformat": 4,
 "nbformat_minor": 2
}
