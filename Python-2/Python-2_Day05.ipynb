{
 "cells": [
  {
   "cell_type": "markdown",
   "metadata": {},
   "source": [
    "# P274 173：tuple1"
   ]
  },
  {
   "cell_type": "code",
   "execution_count": 1,
   "metadata": {},
   "outputs": [],
   "source": [
    "# tuple"
   ]
  },
  {
   "cell_type": "code",
   "execution_count": null,
   "metadata": {},
   "outputs": [],
   "source": [
    "# list中的元素一般是同类型的；tuple中的元素一般是不同类型的\n",
    "# info = ():空元组的定义，一般不会使用，因为元组无法修改\n",
    "# 定义只有一个元素的元组，后面不要忘记','"
   ]
  },
  {
   "cell_type": "markdown",
   "metadata": {},
   "source": [
    "# P277-278 176-177：tuple2"
   ]
  },
  {
   "cell_type": "code",
   "execution_count": 2,
   "metadata": {},
   "outputs": [],
   "source": [
    "# tuple的应用场景"
   ]
  },
  {
   "cell_type": "code",
   "execution_count": 7,
   "metadata": {},
   "outputs": [
    {
     "name": "stdout",
     "output_type": "stream",
     "text": [
      "1.77 / 02 = 0.8850\n"
     ]
    }
   ],
   "source": [
    "# 1.函数的参数和返回值：接收任意多个参数，一次返回多个数据\n",
    "# 2.格式字符串的后面的小括号\n",
    "tuple_info = (1.77, 2, 1.77 / 2)\n",
    "print(\"%.2f / %02d = %.4f\" % tuple_info)\n",
    "# 3.让列表不可以被修改"
   ]
  },
  {
   "cell_type": "markdown",
   "metadata": {},
   "source": [
    "# P289 188：str1"
   ]
  },
  {
   "cell_type": "code",
   "execution_count": 8,
   "metadata": {},
   "outputs": [],
   "source": [
    "# str的方法"
   ]
  },
  {
   "cell_type": "code",
   "execution_count": 2,
   "metadata": {},
   "outputs": [
    {
     "name": "stdout",
     "output_type": "stream",
     "text": [
      "True\n",
      "False\n"
     ]
    }
   ],
   "source": [
    "print(\"  \\t\\r\\n\".isspace())  # isspace()、strip()、split():空格包括\\t、\\r、\\n\n",
    "print(\"\".isspace())"
   ]
  },
  {
   "cell_type": "code",
   "execution_count": 20,
   "metadata": {},
   "outputs": [
    {
     "name": "stdout",
     "output_type": "stream",
     "text": [
      "False False False\n",
      "False True False\n",
      "False True True\n"
     ]
    }
   ],
   "source": [
    "# 三种都不能判断小数\n",
    "# unicode\n",
    "# 中文数字\n",
    "print(\"(1)\".isdecimal(), \"\\u00b2\".isdecimal(), \"一千零一\".isdecimal())\n",
    "print(\"(1)\".isdigit(), \"\\u00b2\".isdigit(), \"一千零一\".isdigit())\n",
    "print(\"(1)\".isnumeric(), \"\\u00b2\".isnumeric(), \"一千零一\".isnumeric())"
   ]
  },
  {
   "cell_type": "markdown",
   "metadata": {},
   "source": [
    "# P296 195：str2"
   ]
  },
  {
   "cell_type": "code",
   "execution_count": 21,
   "metadata": {},
   "outputs": [],
   "source": [
    "# str切片"
   ]
  },
  {
   "cell_type": "code",
   "execution_count": 47,
   "metadata": {},
   "outputs": [
    {
     "name": "stdout",
     "output_type": "stream",
     "text": [
      "9876543210\n",
      "9876543210\n",
      "9876543210\n"
     ]
    }
   ],
   "source": [
    "str1 = \"0123456789\"  # 逆序切片\n",
    "print(str1[::-1])\n",
    "print(str1[9::-1])\n",
    "print(str1[-1::-1])"
   ]
  },
  {
   "cell_type": "code",
   "execution_count": 51,
   "metadata": {},
   "outputs": [
    {
     "name": "stdout",
     "output_type": "stream",
     "text": [
      "0\n",
      "0\n",
      "6543210\n",
      "6789\n",
      "0123456\n"
     ]
    }
   ],
   "source": [
    "str1 = \"0123456789\"  # 切片互补\n",
    "print(str1[0::-1])  # 从0往前\n",
    "print(str1[:1:1])  # 在1之前\n",
    "print(str1[6::-1])  # 从6往前\n",
    "print(str1[6::1])  # 从6往后\n",
    "print(str1[:7:1])  # 在7之前"
   ]
  }
 ],
 "metadata": {
  "kernelspec": {
   "display_name": "Python 3",
   "language": "python",
   "name": "python3"
  },
  "language_info": {
   "codemirror_mode": {
    "name": "ipython",
    "version": 3
   },
   "file_extension": ".py",
   "mimetype": "text/x-python",
   "name": "python",
   "nbconvert_exporter": "python",
   "pygments_lexer": "ipython3",
   "version": "3.7.3"
  }
 },
 "nbformat": 4,
 "nbformat_minor": 2
}
