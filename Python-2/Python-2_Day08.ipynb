{
 "cells": [
  {
   "cell_type": "markdown",
   "metadata": {},
   "source": [
    "# P369 009：类的属性"
   ]
  },
  {
   "cell_type": "code",
   "execution_count": 1,
   "metadata": {},
   "outputs": [],
   "source": [
    "# 类的属性"
   ]
  },
  {
   "cell_type": "code",
   "execution_count": 2,
   "metadata": {},
   "outputs": [
    {
     "name": "stdout",
     "output_type": "stream",
     "text": [
      "tom\n"
     ]
    }
   ],
   "source": [
    "class Cat:\n",
    "    pass\n",
    "#     def __init__(self):\n",
    "#         self.name = None  # （推荐）不确定的属性，赋值为None\n",
    "\n",
    "tom = Cat()\n",
    "tom.name = \"tom\"  # （不推荐，违反类的封装性）可以在类外给类添加临时属性，不会影响这个类的其他实例化对象\n",
    "print(tom.name)"
   ]
  },
  {
   "cell_type": "markdown",
   "metadata": {},
   "source": [
    "# P388 028：is"
   ]
  },
  {
   "cell_type": "code",
   "execution_count": 1,
   "metadata": {},
   "outputs": [],
   "source": [
    "# is:身份运算符"
   ]
  },
  {
   "cell_type": "code",
   "execution_count": null,
   "metadata": {},
   "outputs": [],
   "source": [
    "# is和==的区别：\n",
    "# is用于判断两个变量引用对象是否为同一个\n",
    "# ==用于判断引用变量的值是否相等"
   ]
  },
  {
   "cell_type": "code",
   "execution_count": 2,
   "metadata": {},
   "outputs": [
    {
     "name": "stdout",
     "output_type": "stream",
     "text": [
      "True\n",
      "False\n"
     ]
    }
   ],
   "source": [
    "li1 = [1, 2]\n",
    "li2 = [1]\n",
    "li2.append(2)\n",
    "print(li1 == li2)\n",
    "print(li1 is li2)  # == id(li1) = id(li2)"
   ]
  },
  {
   "cell_type": "code",
   "execution_count": null,
   "metadata": {},
   "outputs": [],
   "source": [
    "# 在判断变量是否为None时，PEP8推荐用is\n",
    "# if a == None:  # 不推荐\n",
    "# if a is None:  # 推荐"
   ]
  }
 ],
 "metadata": {
  "kernelspec": {
   "display_name": "Python 3",
   "language": "python",
   "name": "python3"
  },
  "language_info": {
   "codemirror_mode": {
    "name": "ipython",
    "version": 3
   },
   "file_extension": ".py",
   "mimetype": "text/x-python",
   "name": "python",
   "nbconvert_exporter": "python",
   "pygments_lexer": "ipython3",
   "version": "3.7.3"
  }
 },
 "nbformat": 4,
 "nbformat_minor": 2
}
