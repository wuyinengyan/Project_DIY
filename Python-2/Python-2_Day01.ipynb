{
 "cells": [
  {
   "cell_type": "markdown",
   "metadata": {},
   "source": [
    "# P4 004：OS"
   ]
  },
  {
   "cell_type": "code",
   "execution_count": null,
   "metadata": {},
   "outputs": [],
   "source": [
    "# 操作系统分类"
   ]
  },
  {
   "cell_type": "code",
   "execution_count": null,
   "metadata": {},
   "outputs": [],
   "source": [
    "# 桌面操作系统\n",
    "#     Window：\n",
    "#     macOS：（基于unix）适用于开发人员\n",
    "#     Linux：\n",
    "# 服务器操作系统\n",
    "#     Linux\n",
    "#     Windows Server\n",
    "# 嵌入式操作系统\n",
    "#     Linux\n",
    "# 移动设备操作系统\n",
    "#     iOS：iphone Operate System\n",
    "#     Android（基于unix）"
   ]
  },
  {
   "cell_type": "markdown",
   "metadata": {},
   "source": [
    "# P16 016：Linux命令"
   ]
  },
  {
   "cell_type": "code",
   "execution_count": 1,
   "metadata": {},
   "outputs": [],
   "source": [
    "# 常用的7个终端命名"
   ]
  },
  {
   "cell_type": "code",
   "execution_count": null,
   "metadata": {},
   "outputs": [],
   "source": [
    "# ls: list\n",
    "# pwd: print work directory\n",
    "# cd: change directory\n",
    "# touch: touch\n",
    "# mkdir: make directory\n",
    "# rm [-r]: remove\n",
    "# clear: clear"
   ]
  }
 ],
 "metadata": {
  "kernelspec": {
   "display_name": "Python 3",
   "language": "python",
   "name": "python3"
  },
  "language_info": {
   "codemirror_mode": {
    "name": "ipython",
    "version": 3
   },
   "file_extension": ".py",
   "mimetype": "text/x-python",
   "name": "python",
   "nbconvert_exporter": "python",
   "pygments_lexer": "ipython3",
   "version": "3.7.3"
  }
 },
 "nbformat": 4,
 "nbformat_minor": 2
}
