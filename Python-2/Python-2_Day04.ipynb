{
 "cells": [
  {
   "cell_type": "markdown",
   "metadata": {},
   "source": [
    "# P117-119 017-019：Python的执行方式"
   ]
  },
  {
   "cell_type": "code",
   "execution_count": 2,
   "metadata": {},
   "outputs": [],
   "source": [
    "# Python的三种执行方式"
   ]
  },
  {
   "cell_type": "code",
   "execution_count": 3,
   "metadata": {},
   "outputs": [],
   "source": [
    "# 1.解释器 \n",
    "# $ Python xxx.py  $ Python3 xxx.py\n",
    "# Windowns下是根据安装时环境配置中的命名——Python\n",
    "# Ubuntu下Python对应Python2，Python3对应Python3，根据安装的版本不同\n",
    "# CPython  # 官方版本，C语言实现\n",
    "# Jython  # 可运行Java平台\n",
    "# IronPython  # 可运行.NET和Mono平台\n",
    "# PyPy  # Python实现，支持JIT即时编译"
   ]
  },
  {
   "cell_type": "code",
   "execution_count": 4,
   "metadata": {},
   "outputs": [],
   "source": [
    "# 2.交互式\n",
    "# 1)官方Shell\n",
    "# 在终端中直接输入python或者python3\n",
    "# 退出方式：exit()、ctrl+d(Linux)、ctrl+z(Windows)\n",
    "# 2)IPython\n",
    "# 在终端中直接输入ipython或者ipython3\n",
    "# 退出方式：exit、ctrl+d(Linux)"
   ]
  },
  {
   "cell_type": "markdown",
   "metadata": {},
   "source": [
    "# P120 020：IDE"
   ]
  },
  {
   "cell_type": "code",
   "execution_count": 5,
   "metadata": {},
   "outputs": [],
   "source": [
    "# IDE(Integrated Development Environment)的含义"
   ]
  },
  {
   "cell_type": "code",
   "execution_count": 6,
   "metadata": {},
   "outputs": [],
   "source": [
    "# IDE：集成开发环境，集成了开发软件需要的所有工具，包括以下工具：\n",
    "# 图形用户界面\n",
    "# 代码编辑器（支持代码补全、自动缩进）\n",
    "# 编译器/解释器\n",
    "# 调试器（断点、单步执行）\n",
    "# ... ..."
   ]
  },
  {
   "cell_type": "markdown",
   "metadata": {},
   "source": [
    "# P233 132：制表符"
   ]
  },
  {
   "cell_type": "code",
   "execution_count": 1,
   "metadata": {},
   "outputs": [],
   "source": [
    "# 制表符"
   ]
  },
  {
   "cell_type": "code",
   "execution_count": 4,
   "metadata": {},
   "outputs": [],
   "source": [
    "# \\t:制表符，垂直对齐\n",
    "# \\n:换行\n",
    "# \\r:回车"
   ]
  },
  {
   "cell_type": "code",
   "execution_count": 3,
   "metadata": {},
   "outputs": [
    {
     "name": "stdout",
     "output_type": "stream",
     "text": [
      "Lift is short,\n",
      " you need python\n",
      "Lift is short,\r",
      " you need python\n"
     ]
    }
   ],
   "source": [
    "print(\"Lift is short,\\n you need python\")\n",
    "print(\"Lift is short,\\r you need python\")"
   ]
  }
 ],
 "metadata": {
  "kernelspec": {
   "display_name": "Python 3",
   "language": "python",
   "name": "python3"
  },
  "language_info": {
   "codemirror_mode": {
    "name": "ipython",
    "version": 3
   },
   "file_extension": ".py",
   "mimetype": "text/x-python",
   "name": "python",
   "nbconvert_exporter": "python",
   "pygments_lexer": "ipython3",
   "version": "3.7.3"
  }
 },
 "nbformat": 4,
 "nbformat_minor": 2
}
