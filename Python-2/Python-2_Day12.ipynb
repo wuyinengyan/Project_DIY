{
 "cells": [
  {
   "cell_type": "markdown",
   "metadata": {},
   "source": [
    "# P509-536 001-030：vi"
   ]
  },
  {
   "cell_type": "code",
   "execution_count": null,
   "metadata": {},
   "outputs": [],
   "source": [
    "# vi的相关命令"
   ]
  },
  {
   "cell_type": "code",
   "execution_count": null,
   "metadata": {},
   "outputs": [],
   "source": [
    "# 打开文件\n",
    "# vi 文件名  # 打开文件，如果文件不存在，则创建一个文件\n",
    "# vi 文件名 +行数  # 定位到指定行数，如果不加数字，则定位到文件末尾"
   ]
  },
  {
   "cell_type": "code",
   "execution_count": 1,
   "metadata": {},
   "outputs": [],
   "source": [
    "# 三种工作模式的切换\n",
    "# 命令模式：ESC进入\n",
    "# 末行模式：:进入\n",
    "#           w:write, q:quit, x == wq, q!:强制退出 set nu 显示行号\n",
    "# 编辑模式：i进入"
   ]
  },
  {
   "cell_type": "code",
   "execution_count": null,
   "metadata": {},
   "outputs": [],
   "source": [
    "# 常用移动指令：视频被删除\n",
    "# l:右移 space\n",
    "# h:左移 backspace\n",
    "# k:上移 ctrl+p\n",
    "# j:下移 ctrl+n enter\n",
    "# w:右移一字至字首 W\n",
    "# b:左移一字至字首 B\n",
    "# e:右移一字至字尾 E\n",
    "# ):至句尾\n",
    "# (:至句首\n",
    "# }:至句首\n",
    "# {:至句尾\n",
    "# nG:移至第n行\n",
    "# n+:上移n行\n",
    "# n-:下移n行\n",
    "# n$:移至n行尾\n",
    "# H: 移至顶行\n",
    "# M:移至中间行\n",
    "# L:移至最后行\n",
    "# 0:当前行首\n",
    "# $:当前行尾"
   ]
  },
  {
   "cell_type": "code",
   "execution_count": 2,
   "metadata": {},
   "outputs": [],
   "source": [
    "# 移动命令1：行数移动\n",
    "# gg 文件顶部\n",
    "# G 文件尾部\n",
    "# 数字gg/数字G/:数字 移动到数字的行数"
   ]
  },
  {
   "cell_type": "code",
   "execution_count": 3,
   "metadata": {},
   "outputs": [],
   "source": [
    "# 移动命令2：屏幕移动\n",
    "# Ctrl + b (back) 向上翻页\n",
    "# Ctrl + f (forward) 向下翻页\n",
    "# H (Head) 屏幕顶部\n",
    "# M (Middle) 屏幕中间\n",
    "# L (Low) 屏幕底部"
   ]
  },
  {
   "cell_type": "code",
   "execution_count": 4,
   "metadata": {},
   "outputs": [],
   "source": [
    "# 移动命令3：段落移动\n",
    "# { 上一段\n",
    "# } 下一段\n",
    "# % 括号匹配及切换"
   ]
  },
  {
   "cell_type": "code",
   "execution_count": 5,
   "metadata": {},
   "outputs": [],
   "source": [
    "# 标记\n",
    "# m[a-zA-Z] (mark) 添加标记，m后面只能跟一个字符\n",
    "# '[a-zA-Z] 直接定位到标记字符的位置"
   ]
  },
  {
   "cell_type": "code",
   "execution_count": 6,
   "metadata": {},
   "outputs": [],
   "source": [
    "# 选中文本（可视模式）\n",
    "# v 可视模式：从光标位置开始正常模式选择文本\n",
    "# V 可视行模式：选中光标经过的完整行\n",
    "# Ctrl + v 可视块模式：垂直方向选中文本\n",
    "# 可视模式下，可以和移动命令连用，例如：ggVG能够选中所有内容"
   ]
  },
  {
   "cell_type": "code",
   "execution_count": 7,
   "metadata": {},
   "outputs": [],
   "source": [
    "# 撤销和恢复撤销\n",
    "# u undo 撤销上次命令\n",
    "# CTRL + r redo 恢复撤销的命令"
   ]
  },
  {
   "cell_type": "code",
   "execution_count": 8,
   "metadata": {},
   "outputs": [],
   "source": [
    "# 删除命令\n",
    "# x (cut) 删除光标所在字符，或者选中文字\n",
    "# d (delete) 删除移动命令对应的内容\n",
    "# dd (delete) 删除光标所在行，可以ndd删除多行\n",
    "# D (delete) 删除到行尾\n",
    "# 在可视模式下，选中一段文本，d/x都可以删除选中的文本\n",
    "# dw 从光标位置删除到单词末尾\n",
    "# d0 从光标位置删除到一行的起始\n",
    "# d} 从光标位置删除到段落末尾\n",
    "# ndd 从光标位置向下连续删除n行\n",
    "# d数字gg 从光标位置删除到指定行的所有代码\n",
    "# d'a 从光标位置删除到标记a之间的所有代码"
   ]
  },
  {
   "cell_type": "code",
   "execution_count": 9,
   "metadata": {},
   "outputs": [],
   "source": [
    "# # 复制、粘贴\n",
    "# y + 移动命令 copy\n",
    "# yy 复制一行，nyy复制多行\n",
    "# p paste"
   ]
  },
  {
   "cell_type": "code",
   "execution_count": 10,
   "metadata": {},
   "outputs": [],
   "source": [
    "# 替换\n",
    "# r replace 替换当前字符\n",
    "# R 替换当前字符及之后的字符"
   ]
  },
  {
   "cell_type": "code",
   "execution_count": 11,
   "metadata": {},
   "outputs": [],
   "source": [
    "# 缩进\n",
    "# >> 向右缩进\n",
    "# << 向左缩进\n",
    "# . 重复上次命令"
   ]
  },
  {
   "cell_type": "code",
   "execution_count": 12,
   "metadata": {},
   "outputs": [],
   "source": [
    "# 查找\n",
    "# /str 查找str\n",
    "# n:查找下一个\n",
    "# N:查找上一个\n",
    "# * 向后查找当前光标所在的单词\n",
    "# # 向前查找当前光标所在的单词"
   ]
  },
  {
   "cell_type": "code",
   "execution_count": 13,
   "metadata": {},
   "outputs": [],
   "source": [
    "# 全局替换\n",
    "# :%s/旧文本/新文本/g"
   ]
  },
  {
   "cell_type": "code",
   "execution_count": 14,
   "metadata": {},
   "outputs": [],
   "source": [
    "# 可视区域替换\n",
    "# :s///g"
   ]
  },
  {
   "cell_type": "code",
   "execution_count": 15,
   "metadata": {},
   "outputs": [],
   "source": [
    "# 确认替换\n",
    "# :%s///gc\n",
    "# y:yes\n",
    "# n:no\n",
    "# a:all 替换所有\n",
    "# q:quit\n",
    "# l:last\n",
    "# ^E 向下滚屏\n",
    "# ^Y 向上滚屏"
   ]
  },
  {
   "cell_type": "code",
   "execution_count": 16,
   "metadata": {},
   "outputs": [],
   "source": [
    "# 进入编辑模式的6个命令：\n",
    "# i 在当前字符前面插入文本\n",
    "# I 在行首插入文本\n",
    "# a 在当前字符后插入文本\n",
    "# A 在行末插入文本\n",
    "# o 在当前行后面插入一空行\n",
    "# O 在当前行前面插入一空行"
   ]
  },
  {
   "cell_type": "code",
   "execution_count": 17,
   "metadata": {},
   "outputs": [],
   "source": [
    "# 末行命令\n",
    "# :e 文件名\n",
    "# :e. 查看当前目录的文件列表\n",
    "# :n 文件名 新建文件\n",
    "# :w 文件名 另存为，备份当前的文件内容"
   ]
  },
  {
   "cell_type": "code",
   "execution_count": 19,
   "metadata": {},
   "outputs": [],
   "source": [
    "# 分屏命令\n",
    "# :sp (split) 水平分屏\n",
    "# :vsp 垂直分屏\n",
    "# 切换分屏:CTRL + W +\n",
    "# w (window) 切换另一个窗口\n",
    "# r (reverse) 互换窗口\n",
    "# c (close) 关闭当前窗口，但不能关闭最后一个\n",
    "# q (quit) 如果是最后一个窗口，则关闭vi\n",
    "# o (other) 关闭其他窗口"
   ]
  }
 ],
 "metadata": {
  "kernelspec": {
   "display_name": "Python 3",
   "language": "python",
   "name": "python3"
  },
  "language_info": {
   "codemirror_mode": {
    "name": "ipython",
    "version": 3
   },
   "file_extension": ".py",
   "mimetype": "text/x-python",
   "name": "python",
   "nbconvert_exporter": "python",
   "pygments_lexer": "ipython3",
   "version": "3.7.3"
  }
 },
 "nbformat": 4,
 "nbformat_minor": 2
}
