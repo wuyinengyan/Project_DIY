{
 "cells": [
  {
   "cell_type": "markdown",
   "metadata": {},
   "source": [
    "# P42 042：shutdown"
   ]
  },
  {
   "cell_type": "code",
   "execution_count": 1,
   "metadata": {},
   "outputs": [],
   "source": [
    "# shutdown的常用指令"
   ]
  },
  {
   "cell_type": "code",
   "execution_count": 2,
   "metadata": {},
   "outputs": [],
   "source": [
    "# shut down  # 默认1分钟后关机\n",
    "# shut down now # 立刻执行\n",
    "# shut down -c  # cancel\n",
    "# shut down -r 20:25  # 20:25重启\n",
    "# shut down +10  # 10分钟后关机"
   ]
  },
  {
   "cell_type": "markdown",
   "metadata": {},
   "source": [
    "# P47-49 047-049：SSH"
   ]
  },
  {
   "cell_type": "code",
   "execution_count": null,
   "metadata": {},
   "outputs": [],
   "source": [
    "# SSH(Secure Shell)的常用指令\n",
    "# IP和端口"
   ]
  },
  {
   "cell_type": "code",
   "execution_count": 3,
   "metadata": {},
   "outputs": [],
   "source": [
    "# 加密->安全；压缩->快速\n",
    "# SSH在Linux和macOS中可以使用；Windows中，需要安装PuTTY或者XShell"
   ]
  },
  {
   "cell_type": "code",
   "execution_count": 4,
   "metadata": {},
   "outputs": [],
   "source": [
    "# SSH默认端口：22\n",
    "# Web默认端口：80\n",
    "# HTTPS默认端口：443（微信）\n",
    "# FTP默认端口：21"
   ]
  },
  {
   "cell_type": "code",
   "execution_count": 1,
   "metadata": {},
   "outputs": [],
   "source": [
    "# ssh [-p port] user@remote  # user:不指定默认当前用户；port:不指定默认22；remote:IP"
   ]
  },
  {
   "cell_type": "markdown",
   "metadata": {},
   "source": [
    "# P53 053：SCP"
   ]
  },
  {
   "cell_type": "code",
   "execution_count": 2,
   "metadata": {},
   "outputs": [],
   "source": [
    "# scp(secure copy)的常用指令"
   ]
  },
  {
   "cell_type": "code",
   "execution_count": 3,
   "metadata": {},
   "outputs": [],
   "source": [
    "# scp [-P port] 源文件 目标文件\n",
    "# scp [-P port] 01.txt user@remote:Desktop/01.txt  # scp和ssh的不同，-p要大写\n",
    "# scp [-P port] user@remote:Desktop/01.txt 01.txt\n",
    "# -r：复制目录\n",
    "# scp用于Linux、macOS系统之间传输文件；和Windows传输文件推荐FileZilla，FTP默认端口21"
   ]
  },
  {
   "cell_type": "markdown",
   "metadata": {},
   "source": [
    "# P56-58 056-058：免密码登录"
   ]
  },
  {
   "cell_type": "code",
   "execution_count": 4,
   "metadata": {},
   "outputs": [],
   "source": [
    "# Linux系统间免密码的设置"
   ]
  },
  {
   "cell_type": "code",
   "execution_count": null,
   "metadata": {},
   "outputs": [],
   "source": [
    "# 1.配置公钥\n",
    "#     执行ssh-keygen即可生成SSH钥匙，一路回车即可\n",
    "#     保存在.ssh下的id_rsa和id_rsa.pub（私钥和公钥）\n",
    "# 2.上传公钥至服务器\n",
    "#     执行ssh-coyp-id [-p port] user@remote，可以让远程服务器记住我们的公钥(id_rsa.pub)"
   ]
  },
  {
   "cell_type": "markdown",
   "metadata": {},
   "source": [
    "# P59 059：别名"
   ]
  },
  {
   "cell_type": "code",
   "execution_count": 5,
   "metadata": {},
   "outputs": [],
   "source": [
    "# 配置别名"
   ]
  },
  {
   "cell_type": "code",
   "execution_count": null,
   "metadata": {},
   "outputs": [],
   "source": [
    "# 在~/.ssh/config在追加\n",
    "#     touch config  # 创建文件\n",
    "#     gedit config  # 打开文件\n",
    "# Host lhj_linux\n",
    "#     HostName 192.168.58.168\n",
    "#     User lhj\n",
    "#     Port 22"
   ]
  },
  {
   "cell_type": "markdown",
   "metadata": {},
   "source": [
    "# P64-64 064-065：chmod"
   ]
  },
  {
   "cell_type": "code",
   "execution_count": 6,
   "metadata": {},
   "outputs": [],
   "source": [
    "# chmod的常用指令"
   ]
  },
  {
   "cell_type": "code",
   "execution_count": 7,
   "metadata": {},
   "outputs": [],
   "source": [
    "# chmod +/-rwx 文件名|目录名  # r:读；w:写；x:执行\n",
    "# 针对目录而言：\n",
    "# r:ls/查看目录下文件\n",
    "# w:touch/在目录下创建文件\n",
    "# x:cd/进入目录"
   ]
  },
  {
   "cell_type": "markdown",
   "metadata": {},
   "source": [
    "# P67-69 067-069：group/组"
   ]
  },
  {
   "cell_type": "code",
   "execution_count": 9,
   "metadata": {},
   "outputs": [],
   "source": [
    "# 组管理\n",
    "# sudo:super user do?switch user do?substitute(代替) do\n",
    "# chgrp(change group)"
   ]
  },
  {
   "cell_type": "code",
   "execution_count": 11,
   "metadata": {},
   "outputs": [],
   "source": [
    "# sudo groupadd testg  # 创建权限组\n",
    "# cat /etc/group  # 查看权限组\n",
    "# sudo groupdel testg  # 删除权限组"
   ]
  },
  {
   "cell_type": "code",
   "execution_count": null,
   "metadata": {},
   "outputs": [],
   "source": [
    "# chgrp -R 组名 文件/目录名  # -R:递归修改文件/目录的所属组"
   ]
  },
  {
   "cell_type": "markdown",
   "metadata": {},
   "source": [
    "# P70-76 070-076：user/用户"
   ]
  },
  {
   "cell_type": "code",
   "execution_count": 12,
   "metadata": {},
   "outputs": [],
   "source": [
    "# 用户管理\n",
    "# id\n",
    "# who\n",
    "# usermod、主组和附加组"
   ]
  },
  {
   "cell_type": "code",
   "execution_count": 2,
   "metadata": {},
   "outputs": [],
   "source": [
    "# 新增用户需要两步：\n",
    "# 1.sudo useradd -m -g 组  # -m:自动建立用户目录；-g:指定用户所在组，如果不指定，则新建和用户同名的组；指定的组不存在，则新建组\n",
    "# 2.sudo passwd 用户名\n",
    "# sudo userdel -r 用户名  # -r:删除用户的同时，自动删除用户目录"
   ]
  },
  {
   "cell_type": "code",
   "execution_count": 3,
   "metadata": {},
   "outputs": [],
   "source": [
    "# id 用户名  # 不指定，默认当前用户，查看用户的UID(user id)和GID(group id)\n",
    "# cat -n /etc/passwd | grep 用户名  # 筛选用户的密码信息\n",
    "# cat -n /etc/group | grep 用户名  # 筛选用户的组信息"
   ]
  },
  {
   "cell_type": "code",
   "execution_count": 4,
   "metadata": {},
   "outputs": [],
   "source": [
    "# who  # 查看当前所有登录的用户列表\n",
    "# whoami  # 查看当前登录的账户名"
   ]
  },
  {
   "cell_type": "code",
   "execution_count": 6,
   "metadata": {},
   "outputs": [],
   "source": [
    "# 主组：新建用户时指定，在etc/passwd的第4列GID对应的组\n",
    "# usermod -g 组 用户名  # 修改用户的主组\n",
    "# 附加组：在etc/group中最后一列表示该组的用户列表，用于指定用户的附加权限\n",
    "# 设置附加值后，需要重新登录\n",
    "# usermod -G 组 用户名  # 修改用户的附加组\n",
    "# usermod -G sudo 用户名  # 把用户添加到sudo组\n",
    "# Ubuntu默认用户的shell是dash，效率更高，但是在Windows中显示有bug；\n",
    "# usermod -s /bin/bash 用户名  # 修改用户的shell；bash显示的有颜色区别，dash没有"
   ]
  },
  {
   "cell_type": "markdown",
   "metadata": {},
   "source": [
    "# P76 076：which"
   ]
  },
  {
   "cell_type": "code",
   "execution_count": null,
   "metadata": {},
   "outputs": [],
   "source": [
    "# which的用法"
   ]
  },
  {
   "cell_type": "code",
   "execution_count": null,
   "metadata": {},
   "outputs": [],
   "source": [
    "# which  # 查看执行命令的所在位置\n",
    "# /etc/passwd  # 是用于保存用户信息的文件\n",
    "# /usr/bin/passwd  # 是用于修改用户密码的程序\n",
    "# /bin(binary)  # 二进制执行文件目录，主要用于具体应用\n",
    "# /sbin(system binary)  # 系统管理员专用，主要用于系统管理\n",
    "# /usr/bin(user commands for applications)  # 后期安装的一些软件\n",
    "# /sbin(super user commands for applications)  # 超级用户的一些管理程序"
   ]
  },
  {
   "cell_type": "markdown",
   "metadata": {},
   "source": [
    "# ！P77 077：su"
   ]
  },
  {
   "cell_type": "code",
   "execution_count": 8,
   "metadata": {},
   "outputs": [],
   "source": [
    "# su/切换用户"
   ]
  },
  {
   "cell_type": "code",
   "execution_count": 9,
   "metadata": {},
   "outputs": [],
   "source": [
    "# su [-] 用户  # -:可以切换到新用户的家目录，否则保持不变\n",
    "# exit  # 退出\n",
    "# su - # 默认切换到root，第一次切换到root需要先设置root密码\n",
    "# ！！！切换到root账户下，不再需要sudo"
   ]
  },
  {
   "cell_type": "markdown",
   "metadata": {},
   "source": [
    "# P78-80 078-080：chown、chgrp、chmod"
   ]
  },
  {
   "cell_type": "code",
   "execution_count": 11,
   "metadata": {},
   "outputs": [],
   "source": [
    "# chown(change owner)、chgrp(change group)、chmod(change ?)"
   ]
  },
  {
   "cell_type": "code",
   "execution_count": 12,
   "metadata": {},
   "outputs": [],
   "source": [
    "# chown [-R] 用户名 文件名|目录名  # 修改文件|目录的拥有者\n",
    "# chgrp [-R] 组名 文件名|目录名  # 递归修改文件|目录的组"
   ]
  },
  {
   "cell_type": "code",
   "execution_count": null,
   "metadata": {},
   "outputs": [],
   "source": [
    "# chmod [-R] 755 文件名|目录名  # （推荐）递归修改文件权限；755三个数字分别对应u(拥有者)、g(组)和o(其他用户)的权限\n",
    "# 755用二级制表示 111 101 101，分别对应rwx r-x r-x\n",
    "# chmod +/-rwx 文件名|目录名  # （不推荐）不能精确到 u(拥有者)、g(组)和o(其他用户)的权限"
   ]
  },
  {
   "cell_type": "markdown",
   "metadata": {},
   "source": [
    "# P82-87 082-087：系统信息"
   ]
  },
  {
   "cell_type": "code",
   "execution_count": 1,
   "metadata": {},
   "outputs": [],
   "source": [
    "# 获取系统信息的常用指令\n",
    "# 时间日期\n",
    "# 磁盘\n",
    "# 进程"
   ]
  },
  {
   "cell_type": "code",
   "execution_count": 2,
   "metadata": {},
   "outputs": [],
   "source": [
    "# date  # 时间\n",
    "# cal [-y]  # 日期calendar"
   ]
  },
  {
   "cell_type": "code",
   "execution_count": 3,
   "metadata": {},
   "outputs": [],
   "source": [
    "# df [-h] [目录名]  # disk free磁盘剩余空间\n",
    "# du [-h] [目录名]  # disk usage磁盘使用情况 -h:显示更加人性化；和ls -lha同理"
   ]
  },
  {
   "cell_type": "code",
   "execution_count": null,
   "metadata": {},
   "outputs": [],
   "source": [
    "# 进程：当前正在执行的一个程序\n",
    "# ps [aux]  # (process status)默认只显示当前用户通过终端启动的应用程序\n",
    "# a:显示终端上所有进程，包括其他用户的进程\n",
    "# u:显示进程的详细状态\n",
    "# x:显示没有控制终端的进程\n",
    "# top  # 动态显示运行中的进程并排序，用q退出\n",
    "# kill [-9] 进程代号  # 终止指定代号的进程，-9:强行终止"
   ]
  },
  {
   "cell_type": "markdown",
   "metadata": {},
   "source": [
    "# ？P88 088：find"
   ]
  },
  {
   "cell_type": "code",
   "execution_count": 4,
   "metadata": {},
   "outputs": [],
   "source": [
    "# find的常用指令"
   ]
  },
  {
   "cell_type": "code",
   "execution_count": null,
   "metadata": {},
   "outputs": [],
   "source": [
    "# find [目录] -name \"py\"  # 可以配合通配符；省略目录，则默认当前\n",
    "# ？？？find和ls的区别：\n",
    "# find的查询功能更强大"
   ]
  },
  {
   "cell_type": "markdown",
   "metadata": {},
   "source": [
    "# P89-93 089-093：ln"
   ]
  },
  {
   "cell_type": "code",
   "execution_count": null,
   "metadata": {},
   "outputs": [],
   "source": [
    "# ln的常用指令\n",
    "# 软链接\n",
    "# 硬链接"
   ]
  },
  {
   "cell_type": "code",
   "execution_count": 6,
   "metadata": {},
   "outputs": [],
   "source": [
    "# ln [-s] 被链接的源文件 链接文件  # 相当于Windows下的快捷方式\n",
    "# 源文件要使用绝对路径，移动链接文件后，依然有效"
   ]
  },
  {
   "cell_type": "code",
   "execution_count": null,
   "metadata": {},
   "outputs": [],
   "source": [
    "# 没有-s是建立硬链接，几乎不会使用\n",
    "# 硬链接即使移动删除文件，依然有效；\n",
    "# 硬链接是起了一个别名，建立一个指向文件的新通道"
   ]
  },
  {
   "cell_type": "markdown",
   "metadata": {},
   "source": [
    "# P94-97 090-097：tar.gz、tar.bz2"
   ]
  },
  {
   "cell_type": "code",
   "execution_count": null,
   "metadata": {},
   "outputs": [],
   "source": [
    "# tar\n",
    "# gz\n",
    "# bz2"
   ]
  },
  {
   "cell_type": "code",
   "execution_count": 10,
   "metadata": {},
   "outputs": [],
   "source": [
    "# Windows:rar; Mac:zip; Linux:tar.gz\n",
    "# tar只打包不压缩"
   ]
  },
  {
   "cell_type": "code",
   "execution_count": 12,
   "metadata": {},
   "outputs": [],
   "source": [
    "# tar -cvf 打包文件.tar 目录/被打包文件  # 打包文件，多个文件之间用空格\n",
    "# tar -cvf py.tar 0?.py == tar -cvf py.tar 01.py 02.py 03.py\n",
    "# tar -xvf 打包文件.tar [-C 目标路径]  # 解包文件，目标路径必须存在"
   ]
  },
  {
   "cell_type": "code",
   "execution_count": null,
   "metadata": {},
   "outputs": [],
   "source": [
    "# tar.gz:打包并压缩\n",
    "# tar -zcvf 打包文件.tar.gz 目录/被打包文件  # 打包压缩文件\n",
    "# tar -zxvf 打包文件.tar.gz [-C 目标路径]  # 解包解压缩文件"
   ]
  },
  {
   "cell_type": "code",
   "execution_count": null,
   "metadata": {},
   "outputs": [],
   "source": [
    "# tar -jcvf 打包文件.tar.bz2 目录/被打包文件  # 打包压缩文件\n",
    "# tar -jxvf 打包文件.tar.bz2 [-C 目标路径]  # 解包解压缩文件"
   ]
  },
  {
   "cell_type": "markdown",
   "metadata": {},
   "source": [
    "# P98-99 098-099：apt"
   ]
  },
  {
   "cell_type": "code",
   "execution_count": 15,
   "metadata": {},
   "outputs": [],
   "source": [
    "# apt(Advanced Packing Tool)的常见指令"
   ]
  },
  {
   "cell_type": "code",
   "execution_count": 16,
   "metadata": {},
   "outputs": [],
   "source": [
    "# sudo apt install 软件包\n",
    "# sudo apt remove 软件包\n",
    "# sudo apt upgrate  # 自动检测升级\n",
    "# sl:小火车；oneko:猫追鼠标；htop:彩色的top\n",
    "# apt = apt-get、apt-cache 和 apt-config 中最常用命令选项的集合。"
   ]
  },
  {
   "cell_type": "markdown",
   "metadata": {},
   "source": [
    "# P100 100：设置软件源"
   ]
  },
  {
   "cell_type": "code",
   "execution_count": null,
   "metadata": {},
   "outputs": [],
   "source": [
    "# Ubuntu 18.04打开设置软件源的界面：sudo update-manager -c -d"
   ]
  }
 ],
 "metadata": {
  "kernelspec": {
   "display_name": "Python 3",
   "language": "python",
   "name": "python3"
  },
  "language_info": {
   "codemirror_mode": {
    "name": "ipython",
    "version": 3
   },
   "file_extension": ".py",
   "mimetype": "text/x-python",
   "name": "python",
   "nbconvert_exporter": "python",
   "pygments_lexer": "ipython3",
   "version": "3.7.3"
  }
 },
 "nbformat": 4,
 "nbformat_minor": 2
}
