{
 "cells": [
  {
   "cell_type": "markdown",
   "metadata": {},
   "source": [
    "# P22 022：ls"
   ]
  },
  {
   "cell_type": "code",
   "execution_count": null,
   "metadata": {},
   "outputs": [],
   "source": [
    "# ls(list)的常用指令"
   ]
  },
  {
   "cell_type": "code",
   "execution_count": 1,
   "metadata": {},
   "outputs": [],
   "source": [
    "# 显示文件详细，包括隐藏文件\n",
    "# ls -lha == ls -l -h -a  # -a包含隐藏文件"
   ]
  },
  {
   "cell_type": "markdown",
   "metadata": {},
   "source": [
    "# P23-24 023-024：通配符"
   ]
  },
  {
   "cell_type": "code",
   "execution_count": 3,
   "metadata": {},
   "outputs": [],
   "source": [
    "# 常用的通配符"
   ]
  },
  {
   "cell_type": "code",
   "execution_count": null,
   "metadata": {},
   "outputs": [],
   "source": [
    "# *：任意个字符，包括0个\n",
    "# ?：有且只有一个字符\n",
    "# []：可匹配其中任意一个字符\n",
    "# [a-c] == [abc]"
   ]
  },
  {
   "cell_type": "markdown",
   "metadata": {},
   "source": [
    "# P25 025：cd"
   ]
  },
  {
   "cell_type": "code",
   "execution_count": 4,
   "metadata": {},
   "outputs": [],
   "source": [
    "# cd(change dictory)的常用指令"
   ]
  },
  {
   "cell_type": "code",
   "execution_count": 5,
   "metadata": {},
   "outputs": [],
   "source": [
    "# cd  # 切换到当前用户的主目录(/home/用户目录)\n",
    "# cd ~  == cd\n",
    "# cd .  # 当前目录\n",
    "# cd ..  # 上级目录\n",
    "# cd -  # 在最近两次工作目录间切换"
   ]
  },
  {
   "cell_type": "markdown",
   "metadata": {},
   "source": [
    "# P27 027：touch、mkdir"
   ]
  },
  {
   "cell_type": "code",
   "execution_count": 6,
   "metadata": {},
   "outputs": [],
   "source": [
    "# touch、mkdir(make dictory)的常见指令"
   ]
  },
  {
   "cell_type": "code",
   "execution_count": 8,
   "metadata": {},
   "outputs": [],
   "source": [
    "# touch  # 如果文件已存在，则更新创建时间\n",
    "# mkdir -p a/b/c/d  # 递归创建目录\n",
    "# ！同一个目录下，目录和文件也是不可以重名的。"
   ]
  },
  {
   "cell_type": "markdown",
   "metadata": {},
   "source": [
    "# P28 028：rm"
   ]
  },
  {
   "cell_type": "code",
   "execution_count": 10,
   "metadata": {},
   "outputs": [],
   "source": [
    "# rm(remove)的常用指令"
   ]
  },
  {
   "cell_type": "code",
   "execution_count": 11,
   "metadata": {},
   "outputs": [],
   "source": [
    "# rm -r a  # 递归删除包含的所有文件\n",
    "# rm -f abc  # 强制删除，即使文件不能做，也不会有错误提示\n",
    "# rm和ls一样，可以使用通配符\n",
    "# rm -rf *  # 强制删除当前目录下的所有文件\n",
    "# rm -rf /  # 强制删除根目录下的所有文件\n",
    "# ~/  # 当前登录用户的用户目录\n",
    "# ./  # 当前目录"
   ]
  },
  {
   "cell_type": "markdown",
   "metadata": {},
   "source": [
    "# P30 030：tree"
   ]
  },
  {
   "cell_type": "code",
   "execution_count": null,
   "metadata": {},
   "outputs": [],
   "source": [
    "# tree的常用指令"
   ]
  },
  {
   "cell_type": "code",
   "execution_count": 12,
   "metadata": {},
   "outputs": [],
   "source": [
    "# sudo snap install tree  # 密码是隐藏的\n",
    "# tree ~ -d  == tree -d ~  # ~:根目录；-d:只显示目录\n",
    "# tree /  # 慎用，可以用ctrl + z和ctrl + c停止"
   ]
  },
  {
   "cell_type": "code",
   "execution_count": 13,
   "metadata": {},
   "outputs": [],
   "source": [
    "# Q & A：\n",
    "# Q:ubuntu找不到system-settings\n",
    "# A:sudo apt-get install systemsettings"
   ]
  },
  {
   "cell_type": "markdown",
   "metadata": {},
   "source": [
    "# P31-33 031-033：cp"
   ]
  },
  {
   "cell_type": "code",
   "execution_count": 14,
   "metadata": {},
   "outputs": [],
   "source": [
    "# cp(copy)的常用指令"
   ]
  },
  {
   "cell_type": "code",
   "execution_count": 15,
   "metadata": {},
   "outputs": [],
   "source": [
    "# cp ~/Documents/a.txt ./a.txt  # 如果不改变文件名，则目标路径不用加文件名\n",
    "# cp -i ~/Documents/a.txt .  # -i:如果文件已存在且不同，覆盖文件前提示"
   ]
  },
  {
   "cell_type": "code",
   "execution_count": 16,
   "metadata": {},
   "outputs": [],
   "source": [
    "# cp -r ~/Desktop/a ~/Documents  # 复制目录，包含内部的目录\n",
    "# cp -r ~/Desktop/a aa  # 同路径下复制"
   ]
  },
  {
   "cell_type": "markdown",
   "metadata": {},
   "source": [
    "# P34-35 034-035：mv"
   ]
  },
  {
   "cell_type": "code",
   "execution_count": 18,
   "metadata": {},
   "outputs": [],
   "source": [
    "# mv(move)的常用指令"
   ]
  },
  {
   "cell_type": "code",
   "execution_count": null,
   "metadata": {},
   "outputs": [],
   "source": [
    "# mv不区分目录和文件\n",
    "# mv -i 源文件 目标文件  # 同名覆盖前提示\n",
    "# mv常用于修改文件或目录名称"
   ]
  },
  {
   "cell_type": "markdown",
   "metadata": {},
   "source": [
    "# P36-37 036-037：cat、more"
   ]
  },
  {
   "cell_type": "code",
   "execution_count": 19,
   "metadata": {},
   "outputs": [],
   "source": [
    "# cat(concatenate)、more的常用指令"
   ]
  },
  {
   "cell_type": "code",
   "execution_count": 20,
   "metadata": {},
   "outputs": [],
   "source": [
    "# cat 一次性显示文件的全部内容，more对太长的文件，会分屏显示其内容\n",
    "# 参看more折叠内容的指令：(同man(manual))\n",
    "# 空格：显示下一屏\n",
    "# enter：显示下一行\n",
    "# b：回滚一屏\n",
    "# f：前滚一屏\n",
    "# q：退出"
   ]
  },
  {
   "cell_type": "code",
   "execution_count": null,
   "metadata": {},
   "outputs": [],
   "source": [
    "# cat -b  # 非空格行添加行号\n",
    "# cat -n  # 所有行添加行号"
   ]
  },
  {
   "cell_type": "markdown",
   "metadata": {},
   "source": [
    "# P38-39 038-039：grep"
   ]
  },
  {
   "cell_type": "code",
   "execution_count": 21,
   "metadata": {},
   "outputs": [],
   "source": [
    "# grep的常用指令"
   ]
  },
  {
   "cell_type": "code",
   "execution_count": 22,
   "metadata": {},
   "outputs": [],
   "source": [
    "# grep -nvi \"yi yi\" 11.txt\n",
    "# -n：显示行号\n",
    "# -v：取反\n",
    "# -i：不区分大小写\n",
    "# \"\"：多个字符串用引号括起来，单双都可 "
   ]
  },
  {
   "cell_type": "code",
   "execution_count": 23,
   "metadata": {},
   "outputs": [],
   "source": [
    "# ^：行首，用法同于re\n",
    "# $：行尾，用法同于re"
   ]
  },
  {
   "cell_type": "markdown",
   "metadata": {},
   "source": [
    "# P40 040：echo"
   ]
  },
  {
   "cell_type": "code",
   "execution_count": 24,
   "metadata": {},
   "outputs": [],
   "source": [
    "# echo的常用指令"
   ]
  },
  {
   "cell_type": "code",
   "execution_count": null,
   "metadata": {},
   "outputs": [],
   "source": [
    "# echo \"xi wo wang yi\" > a  # 会自动新建文件\n",
    "# >：覆盖\n",
    "# >>：追加"
   ]
  },
  {
   "cell_type": "markdown",
   "metadata": {},
   "source": [
    "# P41 041：|"
   ]
  },
  {
   "cell_type": "code",
   "execution_count": 25,
   "metadata": {},
   "outputs": [],
   "source": [
    "# |的用法"
   ]
  },
  {
   "cell_type": "code",
   "execution_count": null,
   "metadata": {},
   "outputs": [],
   "source": [
    "# 一个命令的输出通过管道作为另一个命令的输入\n",
    "# ls -lha | more"
   ]
  }
 ],
 "metadata": {
  "kernelspec": {
   "display_name": "Python 3",
   "language": "python",
   "name": "python3"
  },
  "language_info": {
   "codemirror_mode": {
    "name": "ipython",
    "version": 3
   },
   "file_extension": ".py",
   "mimetype": "text/x-python",
   "name": "python",
   "nbconvert_exporter": "python",
   "pygments_lexer": "ipython3",
   "version": "3.7.3"
  }
 },
 "nbformat": 4,
 "nbformat_minor": 2
}
