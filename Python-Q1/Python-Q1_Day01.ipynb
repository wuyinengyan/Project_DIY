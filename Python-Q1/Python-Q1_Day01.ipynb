{
 "cells": [
  {
   "cell_type": "markdown",
   "metadata": {},
   "source": [
    "# 经典面试题"
   ]
  },
  {
   "cell_type": "code",
   "execution_count": 1,
   "metadata": {},
   "outputs": [],
   "source": [
    "# Q: 列举5个python标准库"
   ]
  },
  {
   "cell_type": "code",
   "execution_count": 2,
   "metadata": {},
   "outputs": [],
   "source": [
    "# os：提供了不少与操作系统相关联的函数\n",
    "# sys: 通常用于命令行参数\n",
    "# re: 正则匹配\n",
    "# math: 数学运算\n",
    "# datetime: 处理日期时间\n",
    "# random"
   ]
  },
  {
   "cell_type": "code",
   "execution_count": 5,
   "metadata": {},
   "outputs": [],
   "source": [
    "# Q: python2和python3的range(100)的区别"
   ]
  },
  {
   "cell_type": "code",
   "execution_count": 6,
   "metadata": {},
   "outputs": [],
   "source": [
    "# python2返回列表，python3返回迭代器，节约内存"
   ]
  },
  {
   "cell_type": "code",
   "execution_count": 9,
   "metadata": {},
   "outputs": [],
   "source": [
    "# Q: python中生成随机整数、随机小数、0--1之间小数方法"
   ]
  },
  {
   "cell_type": "code",
   "execution_count": 10,
   "metadata": {},
   "outputs": [],
   "source": [
    "# 随机整数：random.randint(a,b),生成区间内的整数\n",
    "# 随机小数：习惯用numpy库，利用np.random.randn(5)生成5个随机小数\n",
    "# 0-1随机小数：random.random(),括号中不传参"
   ]
  },
  {
   "cell_type": "code",
   "execution_count": 36,
   "metadata": {},
   "outputs": [],
   "source": [
    "# Q: 函数和方法的区别"
   ]
  },
  {
   "cell_type": "code",
   "execution_count": 39,
   "metadata": {},
   "outputs": [
    {
     "name": "stdout",
     "output_type": "stream",
     "text": [
      "True\n",
      "True\n"
     ]
    }
   ],
   "source": [
    "# 实例化出来的去调用，叫做方法。直接使用类名去调用，叫做函数。\n",
    "# 这只是在 python3 中才有的区分，python2 中全部称为方法。\n",
    "from types import FunctionType, MethodType\n",
    "\n",
    "class Foo(object):\n",
    "    def func(self):\n",
    "        pass\n",
    "\n",
    "obj = Foo()  # 实例化\n",
    "\n",
    "# 执行方式一: 调用的func是方法\n",
    "obj.func() # 方法\n",
    "\n",
    "# 执行方式二：调用的func是函数\n",
    "Foo.func(123) # 函数\n",
    "\n",
    "print(isinstance(obj.func,MethodType))\n",
    "print(isinstance(Foo.func,FunctionType)) "
   ]
  },
  {
   "cell_type": "markdown",
   "metadata": {},
   "source": [
    "# re: (.*)和(.*?)"
   ]
  },
  {
   "cell_type": "code",
   "execution_count": 11,
   "metadata": {},
   "outputs": [],
   "source": [
    "# Q: <div class=\"nam\">中国</div>，用正则匹配出标签里面的内容（“中国”），其中class的类名是不确定的"
   ]
  },
  {
   "cell_type": "code",
   "execution_count": 3,
   "metadata": {},
   "outputs": [
    {
     "name": "stdout",
     "output_type": "stream",
     "text": [
      "['\"中国\"']\n"
     ]
    }
   ],
   "source": [
    "import re\n",
    "\n",
    "str = '<div class=\"nam\">中国</div>'\n",
    "res = re.findall(r'<div class=\".*\">(.*?)</div>', str)\n",
    "print(res)\n",
    "# . 表示匹配任何单个字符\n",
    "# * 表示匹配0或多个正好在它之前的那个字符\n",
    "# ? 表示匹配0或1个正好在它之前的那个字符\n",
    "# .* 表示匹配除换行符之外的所有字符\n",
    "# .*？表示匹配任意字符到下一个符合条件的字符\n",
    "# .* 具有贪婪的性质，首先匹配到不能匹配为止，根据后面的正则表达式，会进行回溯。\n",
    "# .*？则相反，一个匹配以后，就往下进行，所以不会进行回溯，具有最小匹配的性质。\n",
    "\n",
    "# (.*?) 提取文本"
   ]
  },
  {
   "cell_type": "markdown",
   "metadata": {},
   "source": [
    "# callable()、__call__"
   ]
  },
  {
   "cell_type": "code",
   "execution_count": 20,
   "metadata": {},
   "outputs": [],
   "source": [
    "# callable() 函数用于检查一个对象是否是可调用的。\n",
    "# 如果返回 True，object 仍然可能调用失败；但如果返回 False，调用对象 object 绝对不会成功。\n",
    "# 对于函数、方法、lambda 函式、 类以及实现了 __call__ 方法的类实例, 它都返回 True"
   ]
  },
  {
   "cell_type": "code",
   "execution_count": 27,
   "metadata": {},
   "outputs": [
    {
     "name": "stdout",
     "output_type": "stream",
     "text": [
      "False\n",
      "False\n"
     ]
    }
   ],
   "source": [
    "print(callable(0))\n",
    "print(callable(\"runoob\"))"
   ]
  },
  {
   "cell_type": "code",
   "execution_count": 28,
   "metadata": {},
   "outputs": [
    {
     "name": "stdout",
     "output_type": "stream",
     "text": [
      "True\n",
      "True\n"
     ]
    }
   ],
   "source": [
    "def add(a, b):\n",
    "    return a + b\n",
    "\n",
    "print(callable(add))  # 函数返回 True\n",
    "print(callable(lambda a, b: a + b))  # lambda返回 True"
   ]
  },
  {
   "cell_type": "code",
   "execution_count": 30,
   "metadata": {},
   "outputs": [
    {
     "name": "stdout",
     "output_type": "stream",
     "text": [
      "True\n",
      "False\n",
      "True\n"
     ]
    }
   ],
   "source": [
    "class A:\n",
    "    def method(self):\n",
    "        pass\n",
    "\n",
    "class B:\n",
    "    def __call__(self):\n",
    "        pass\n",
    "print(callable(A))  # 类\n",
    "a = A()\n",
    "b = B()\n",
    "print(callable(a))  # 没有实现__call__，类的实例\n",
    "print(callable(b))  # 实现了__call__，类的实例"
   ]
  },
  {
   "cell_type": "code",
   "execution_count": 40,
   "metadata": {},
   "outputs": [
    {
     "name": "stdout",
     "output_type": "stream",
     "text": [
      "执行Role对象\n"
     ]
    }
   ],
   "source": [
    "# __call__\n",
    "class Role:\n",
    "    def __init__ (self, name):\n",
    "        self.name = name\n",
    "\n",
    "    def __call__(self):\n",
    "        print('执行Role对象')\n",
    "r = Role('管理员')\n",
    "# 使用调用函数的语法来调用对象，这看上去似乎是错误的，\n",
    "# 但由于该 Role 类提供了 __call__ 方法，因此调用对象的本质就是执行该对象的 __call__ 方法\n",
    "r()"
   ]
  },
  {
   "cell_type": "code",
   "execution_count": 48,
   "metadata": {},
   "outputs": [
    {
     "name": "stdout",
     "output_type": "stream",
     "text": [
      "5 4\n"
     ]
    }
   ],
   "source": [
    "class Entity:\n",
    "    '''调用实体来改变实体的位置。'''\n",
    "\n",
    "    def __init__(self, size, x, y):\n",
    "        self.x, self.y = x, y\n",
    "        self.size = size\n",
    "\n",
    "    def __call__(self, x, y):\n",
    "        self.x, self.y = y, x  # 改变实体的位置\n",
    "        print(self.x, self.y)\n",
    "\n",
    "e = Entity(1, 2, 3) # 创建实例\n",
    "e(4, 5)  # 实例可以象函数那样执行，并传入x y值，修改对象的x y \n",
    "# e(1, 2, 3)  # TypeError: __call__() takes 3 positional arguments but 4 were given"
   ]
  },
  {
   "cell_type": "markdown",
   "metadata": {},
   "source": [
    "# GIL"
   ]
  },
  {
   "cell_type": "code",
   "execution_count": 31,
   "metadata": {},
   "outputs": [],
   "source": [
    "# Q: 谈下python的GIL(Global Interpreter Lock)"
   ]
  },
  {
   "cell_type": "code",
   "execution_count": 32,
   "metadata": {},
   "outputs": [],
   "source": [
    "# GIL是python的全局解释器锁，同一进程中假如有多个线程运行，\n",
    "# 一个线程在运行python程序的时候会霸占python解释器（加了一把锁即GIL），\n",
    "# 使该进程内的其他线程无法运行，等该线程运行完后其他线程才能运行。\n",
    "# 如果线程运行过程中遇到耗时操作，则解释器锁解开，使其他线程运行。\n",
    "# 所以在多线程中，线程的运行仍是有先后顺序的，并不是同时进行。\n",
    "# 多进程中因为每个进程都能被系统分配资源，相当于每个进程有了一个python解释器，\n",
    "# 所以多进程可以实现多个进程的同时运行，缺点是进程系统资源开销大。\n",
    "\n",
    "# 尽管Python完全支持多线程编程， 但是解释器的C语言实现部分在完全并行执行时并不是线程安全的，所以这时候才引入了GIL\n",
    "# 解释器被一个全局解释器锁保护着，它确保任何时候都只有一个Python线程执行(保证C实现部分能线程安全)\n",
    "# GIL最大的问题就是Python的多线程程序并不能利用多核CPU的优势 （比如一个使用了多个线程的计算密集型程序只会在一个单CPU上面运行）\n",
    "# 注意：GIL只会影响到那些严重依赖CPU的程序（比如计算型的）如果你的程序大部分只会涉及到I/O，比如网络交互，\n",
    "# 那么使用多线程就很合适 ~ 因为它们大部分时间都在等待（线程被限制到同一时刻只允许一个线程执行这样一个执行模型。\n",
    "# GIL会根据执行的字节码行数和时间片来释放GIL，在遇到IO操作的时候会主动释放权限给其他线程）\n",
    "# 所以Python的线程更适用于处理I/O和其他需要并发执行的阻塞操作，而不是需要多处理器并行的计算密集型任务\n",
    "# （对于IO操作来说，多进程和多线程性能差别不大）【计算密集现在可以用Python的Ray框架】"
   ]
  }
 ],
 "metadata": {
  "kernelspec": {
   "display_name": "Python 3",
   "language": "python",
   "name": "python3"
  },
  "language_info": {
   "codemirror_mode": {
    "name": "ipython",
    "version": 3
   },
   "file_extension": ".py",
   "mimetype": "text/x-python",
   "name": "python",
   "nbconvert_exporter": "python",
   "pygments_lexer": "ipython3",
   "version": "3.7.3"
  }
 },
 "nbformat": 4,
 "nbformat_minor": 2
}
